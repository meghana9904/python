{
 "cells": [
  {
   "cell_type": "code",
   "execution_count": 15,
   "id": "2e9fe018",
   "metadata": {},
   "outputs": [
    {
     "name": "stdout",
     "output_type": "stream",
     "text": [
      "the initial list: [2, 1, 3, 4, 2, 3, 3, 2, 7, 9, 8, 7]\n",
      "the new list after removing duplicates: [2, 1, 3, 4, 7, 9, 8]\n",
      "the increasing order list : [1, 2, 3, 4, 7, 8, 9]\n"
     ]
    }
   ],
   "source": [
    "#1.  Given a list of numbers, write a python program that returns a new list which Has all\n",
    "#duplicate elements removed. And is sorted in an increasing order.\n",
    "\n",
    "given_list=[2,1,3,4,2,3,3,2,7,9,8,7]\n",
    "print(\"the initial list:\",given_list)\n",
    "new_list=[]\n",
    "for x in given_list:\n",
    "    if x not in new_list:\n",
    "        new_list.append(x)\n",
    "print(\"the new list after removing duplicates:\",new_list)\n",
    "new_list.sort()\n",
    "print(\"the increasing order list :\",new_list)"
   ]
  },
  {
   "cell_type": "code",
   "execution_count": 16,
   "id": "179ae289",
   "metadata": {},
   "outputs": [
    {
     "name": "stdout",
     "output_type": "stream",
     "text": [
      "1 a\n",
      "2 b\n",
      "3 c\n",
      "4 d\n"
     ]
    }
   ],
   "source": [
    "#2.  Write a Python program where you will iterate over both keys and values in dictionaries\n",
    "\n",
    "x={1:\"a\",2:\"b\",3:\"c\",4:\"d\"}\n",
    "for y,z in x.items():\n",
    "    print(y,z)"
   ]
  },
  {
   "cell_type": "code",
   "execution_count": 21,
   "id": "571214ba",
   "metadata": {},
   "outputs": [
    {
     "name": "stdout",
     "output_type": "stream",
     "text": [
      "new_list: ['meghana', 'mythily', 'manisha']\n"
     ]
    }
   ],
   "source": [
    "#3.   Write a Python program that takes a dictionary of student names and returns a list of student names in alphabetical order\n",
    "\n",
    "students={\"name1\":\"meghana\",\"name2\":\"mythily\",\"name3\":\"manisha\"}\n",
    "new_list=[]\n",
    "new_list+=students.values()\n",
    "print(\"new_list:\",new_list)"
   ]
  },
  {
   "cell_type": "code",
   "execution_count": 1,
   "id": "0eb7590f",
   "metadata": {},
   "outputs": [
    {
     "name": "stdout",
     "output_type": "stream",
     "text": [
      "final_result: [False, True, False, False, True]\n"
     ]
    }
   ],
   "source": [
    "#4.   Write a Python which returns a new list of Booleans, from a given number. Iterating \n",
    "#through the number one digit at a time, append True if the digit is 1 and False if it is 0.\n",
    "a=[]\n",
    "x=\"01001\"\n",
    "z=list(x)\n",
    "for y in range(len(z)):\n",
    "    if z[y]==\"0\":\n",
    "        a+=[False]\n",
    "    else:\n",
    "        a+=[True]\n",
    "print(\"final_result:\",a)\n",
    "    "
   ]
  },
  {
   "cell_type": "code",
   "execution_count": null,
   "id": "8c4a9327",
   "metadata": {},
   "outputs": [],
   "source": [
    "#5.   Write a Python program where you will return a dictionary where the keys will be the \n",
    "#character and the values will be the occurrence of the character in the string, and it \n",
    "#should for any string inputs (dynamic)\n"
   ]
  },
  {
   "cell_type": "code",
   "execution_count": 6,
   "id": "1f0f876a",
   "metadata": {},
   "outputs": [
    {
     "name": "stdout",
     "output_type": "stream",
     "text": [
      "oldest_person: manisha\n"
     ]
    }
   ],
   "source": [
    "#6.   Given a dictionary containing the names and ages of a group of people, return the \n",
    "#name of the oldest person\n",
    "\n",
    "list={\"meghana\":24,\"arifa\":21,\"mythily\":19,\"manisha\":27}\n",
    "oldest_age=0\n",
    "oldest_person=\"\"\n",
    "for name,age in list.items():\n",
    "    if age>oldest_age:\n",
    "        oldest_person=name\n",
    "        oldest_age=age\n",
    "print(\"oldest_person:\",oldest_person)\n"
   ]
  },
  {
   "cell_type": "code",
   "execution_count": 5,
   "id": "ab93d4cc",
   "metadata": {},
   "outputs": [
    {
     "name": "stdout",
     "output_type": "stream",
     "text": [
      "Player 1, choose Rock, Paper, or Scissors: paper\n",
      "Player 2, choose Rock, Paper, or Scissors: paper\n",
      "It's a tie!\n"
     ]
    }
   ],
   "source": [
    "#7.    Write a Python program to create a Rock, Paper, Scissor game, use two inputs for two players:\n",
    "#Conditions: -Rock beats Scissors, Scissors beats Paper, Paper beats Rock\n",
    "\n",
    "player1 = input(\"Player 1, choose Rock, Paper, or Scissors: \")\n",
    "player2 = input(\"Player 2, choose Rock, Paper, or Scissors: \")\n",
    "\n",
    "if player1 == player2:\n",
    "    print(\"It's a tie!\")\n",
    "elif (player1 == \"Rock\" and player2 == \"Scissors\") or (player1 == \"Scissors\" and player2 == \"Paper\") or (\n",
    "            player1 == \"Paper\" and player2 == \"Rock\"):\n",
    "    print(\"Player 1 wins!\")\n",
    "else:\n",
    "    print(\"Player 2 wins!\")\n"
   ]
  },
  {
   "cell_type": "code",
   "execution_count": 1,
   "id": "3ad02303",
   "metadata": {},
   "outputs": [
    {
     "name": "stdout",
     "output_type": "stream",
     "text": [
      "Enter Your Wallet Balance: 50\n",
      "Items you can buy: ['water bottles', 'chips']\n",
      "Your remaining balance will be:  20\n"
     ]
    }
   ],
   "source": [
    "#8.    Create a program that returns a list of items that you can afford in the store with the \n",
    "#money you have in your wallet. Create a dictionary with items as key and price as values\n",
    "#Ex:\n",
    "#Input: \n",
    "#{“water bottles”: “20”,” chips”:10,” Iphone”;49000“,” towel”:90,” pens”:58,” cake”;400}\n",
    "#Your wallet balance: -50\n",
    "#Output: [“water bottles”, “chips”]\n",
    "\n",
    "store_items={\"water bottles\": 20, \"chips\":10, \"Iphone\":49000, \"towel\":90, \"pens\":58, \"cake\":400}\n",
    "a=0;b=0;l=[]\n",
    "x=int(input(\"Enter Your Wallet Balance: \"))\n",
    "for y,z in store_items.items():\n",
    "    if z<=x and z<=x:\n",
    "        a+=z\n",
    "        b=y\n",
    "        l.append(b)\n",
    "    else:\n",
    "        continue\n",
    "print(\"Items you can buy:\",l)\n",
    "if a>x:\n",
    "    print(\"Your remaining balance will be: \",a-x)\n",
    "else:\n",
    "    print(\"Your remaining balance will be: \",x-a)"
   ]
  },
  {
   "cell_type": "code",
   "execution_count": 9,
   "id": "9170a2b8",
   "metadata": {},
   "outputs": [
    {
     "data": {
      "text/plain": [
       "{1, 2, 3, 4, 5, 6, 7, 8}"
      ]
     },
     "execution_count": 9,
     "metadata": {},
     "output_type": "execute_result"
    }
   ],
   "source": [
    "#9.  Write a Python program to create a union of sets\n",
    "set1={1,2,3,4}                    \n",
    "set2={5,6,7,8}\n",
    "set1.union(set2)"
   ]
  },
  {
   "cell_type": "code",
   "execution_count": 3,
   "id": "72583a3f",
   "metadata": {},
   "outputs": [
    {
     "name": "stdout",
     "output_type": "stream",
     "text": [
      "Enter values to add to the set (enter 'done' to stop):\n",
      "4\n",
      "7\n",
      "9\n",
      "8\n",
      "done\n",
      "Enter a value to check: 1\n",
      "The value '{check_value}' is not present in the set.\n"
     ]
    }
   ],
   "source": [
    "#10.  Write a Python program to check if a given value is present in a set or not (Dynamic)\n",
    "    my_set = set()\n",
    "    print(\"Enter values to add to the set (enter 'done' to stop):\")\n",
    "    while True:\n",
    "        value = input()\n",
    "        if value == \"done\":\n",
    "            break\n",
    "        my_set.add(value)\n",
    "    check_value = input(\"Enter a value to check: \")\n",
    "    if check_value in my_set:\n",
    "        print(\"The value '{check_value}' is present in the set.\")\n",
    "    else:\n",
    "        print(\"The value '{check_value}' is not present in the set.\")\n"
   ]
  },
  {
   "cell_type": "code",
   "execution_count": null,
   "id": "a30eaaf2",
   "metadata": {},
   "outputs": [],
   "source": [
    "#11.  Write a Python program to find the occurrences of 3 most common words in a given text. And make it as a dictionaries\n",
    "#Ex:\n",
    "#Input:Cat dog dog cat horse dog dog mouse horse dog mouse tiger lion tiger cat mouse snail”\n",
    "#Output: (“dog”:5,”cat”:3,” mouse”;3)” \n",
    "\n",
    "words=\"\""
   ]
  },
  {
   "cell_type": "code",
   "execution_count": null,
   "id": "433ebeef",
   "metadata": {},
   "outputs": [],
   "source": [
    "#12.  Write a Python program that accepts name of given subject and mark, and \n",
    "#make subjects as keys in dictionaries and marks as values and print the final\n",
    "#dictionary with subjects and marks"
   ]
  }
 ],
 "metadata": {
  "kernelspec": {
   "display_name": "Python 3 (ipykernel)",
   "language": "python",
   "name": "python3"
  },
  "language_info": {
   "codemirror_mode": {
    "name": "ipython",
    "version": 3
   },
   "file_extension": ".py",
   "mimetype": "text/x-python",
   "name": "python",
   "nbconvert_exporter": "python",
   "pygments_lexer": "ipython3",
   "version": "3.10.9"
  }
 },
 "nbformat": 4,
 "nbformat_minor": 5
}
