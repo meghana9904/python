{
 "cells": [
  {
   "cell_type": "code",
   "execution_count": 4,
   "id": "45aca69a",
   "metadata": {},
   "outputs": [
    {
     "name": "stdout",
     "output_type": "stream",
     "text": [
      "1\n",
      "2\n",
      "3\n",
      "4\n",
      "5\n",
      "6\n"
     ]
    }
   ],
   "source": [
    "#1. Write a Python program to loop through all the elements in a list\n",
    "\n",
    "x=[1,2,3,4,5,6]\n",
    "for var1 in x:\n",
    "    print(var1)"
   ]
  },
  {
   "cell_type": "code",
   "execution_count": 8,
   "id": "e72dd43b",
   "metadata": {},
   "outputs": [
    {
     "name": "stdout",
     "output_type": "stream",
     "text": [
      "enter the number of elements you want to enter :4\n",
      "enter element 1:1\n",
      "enter element 2:2\n",
      "enter element 3:5\n",
      "enter element 4:4\n",
      "['1', '2', '5', '4']\n"
     ]
    }
   ],
   "source": [
    "#2. Write a Python program where you will ask the users to insert elements in a list\n",
    "\n",
    "\n",
    "elements=[]\n",
    "n=int(input(\"enter the number of elements you want to enter :\"))\n",
    "for x in range(n):\n",
    "    i=input(\"enter element {}:\".format(x+1))\n",
    "    elements.insert(n,i)\n",
    "print(elements)"
   ]
  },
  {
   "cell_type": "code",
   "execution_count": 3,
   "id": "f043cb08",
   "metadata": {},
   "outputs": [
    {
     "data": {
      "text/plain": [
       "[1, 3, 5, 7, 'a']"
      ]
     },
     "execution_count": 3,
     "metadata": {},
     "output_type": "execute_result"
    }
   ],
   "source": [
    "#3. Write a Python program to remove all the odd index value from a list and only even index elements should remain\n",
    "\n",
    "x=[1,2,3,4,5,6,7,8,\"a\"]\n",
    "x[::2]"
   ]
  },
  {
   "cell_type": "code",
   "execution_count": 8,
   "id": "756b9f08",
   "metadata": {},
   "outputs": [
    {
     "name": "stdout",
     "output_type": "stream",
     "text": [
      "sum= 36\n",
      "product= 40320\n"
     ]
    }
   ],
   "source": [
    "#4. Write a Python program to sum and multiply all the items in a list\n",
    "\n",
    "list=[1,2,3,4,5,6,7,8]\n",
    "total_sum = 0\n",
    "total_product = 1\n",
    "for num in list:\n",
    "        total_sum += num\n",
    "        total_product *= num\n",
    "\n",
    "print(\"sum=\",total_sum)\n",
    "print(\"product=\",total_product)"
   ]
  },
  {
   "cell_type": "code",
   "execution_count": 11,
   "id": "2d98b9a2",
   "metadata": {},
   "outputs": [
    {
     "name": "stdout",
     "output_type": "stream",
     "text": [
      "max_num= 108\n",
      "min_num= -6\n"
     ]
    }
   ],
   "source": [
    "#5. Write a Python program to get the maximum and minimum numbers from a list\n",
    "\n",
    "list=[8,10,-6,94,108]\n",
    "max_num=list[0]\n",
    "min_num=list[0]\n",
    "for num in list:\n",
    "    if num > max_num:\n",
    "        max_num=num\n",
    "    if num < min_num:\n",
    "        min_num=num\n",
    "print(\"max_num=\",max_num)\n",
    "print(\"min_num=\",min_num)"
   ]
  },
  {
   "cell_type": "code",
   "execution_count": 11,
   "id": "e60844fd",
   "metadata": {},
   "outputs": [
    {
     "name": "stdout",
     "output_type": "stream",
     "text": [
      "['Green', 'White', 'Black']\n"
     ]
    }
   ],
   "source": [
    "#6. Write a Python program to print a specified list after removing the 0th, 4th and 5th elements.\n",
    "\n",
    "x= ['Red','Green','White','Black','Pink','Yellow']\n",
    "y=[]\n",
    "\n",
    "for z in range(0,len(x)):\n",
    "    if z!=0 and z!=4 and z!=5:\n",
    "        y.append(x[z])\n",
    "print(y)"
   ]
  },
  {
   "cell_type": "code",
   "execution_count": 7,
   "id": "7b800a55",
   "metadata": {},
   "outputs": [
    {
     "name": "stdout",
     "output_type": "stream",
     "text": [
      "1 2 3 4 "
     ]
    }
   ],
   "source": [
    "#7. Write a Python program to convert a list of characters into a string\n",
    "\n",
    "x=[1,2,3,4]\n",
    "for y in x:\n",
    "    print(y,end=\" \")\n",
    "    y=str(y)\n",
    " "
   ]
  },
  {
   "cell_type": "code",
   "execution_count": 8,
   "id": "186d8871",
   "metadata": {},
   "outputs": [
    {
     "data": {
      "text/plain": [
       "str"
      ]
     },
     "execution_count": 8,
     "metadata": {},
     "output_type": "execute_result"
    }
   ],
   "source": [
    "type(y)"
   ]
  },
  {
   "cell_type": "code",
   "execution_count": 25,
   "id": "95886790",
   "metadata": {},
   "outputs": [
    {
     "name": "stdout",
     "output_type": "stream",
     "text": [
      "average= 5.5\n"
     ]
    }
   ],
   "source": [
    "#8. Write a Python program to compute average of given lists.\n",
    "\n",
    "list=[1,2,3,4,5,6,7,8,9,10]\n",
    "average=0\n",
    "num_of_element=len(list)\n",
    "for num in list:\n",
    "    average+=num/num_of_element\n",
    "print(\"average=\",average)"
   ]
  },
  {
   "cell_type": "code",
   "execution_count": 1,
   "id": "67bff937",
   "metadata": {},
   "outputs": [
    {
     "name": "stdout",
     "output_type": "stream",
     "text": [
      "type no of elements to be inserted : 4\n",
      "int,float,complex,string choose from theseint\n",
      "type a data1\n",
      "int,float,complex,string choose from theseint\n",
      "type a data5\n",
      "int,float,complex,string choose from theseint\n",
      "type a data5\n",
      "int,float,complex,string choose from thesefloat\n",
      "type a data1.1\n",
      "[1, 5, 5, 1.1]\n",
      "number of integers: 3\n"
     ]
    }
   ],
   "source": [
    "#9. Write a Python program to count integer in a given mixed list\n",
    "\n",
    "b=0\n",
    "length=int(input(\"type no of elements to be inserted : \"))\n",
    "x=[]\n",
    "for y in range(0,length):\n",
    "    data_type=input(\"int,float,complex,string choose from these\")\n",
    "    if data_type==\"int\":\n",
    "        x.append(int(input(\"type a data\")))\n",
    "        b+=1\n",
    "    elif data_type==\"float\":\n",
    "        x.append(float(input(\"type a data\")))\n",
    "    elif data_type==\"complex\":\n",
    "        x.append(complex(input(\"type a data\")))\n",
    "    elif data_type==\"string\":\n",
    "        x.append(str(input(\"type a data\")))\n",
    "    else:\n",
    "        x.append(input(\"type a data\"))\n",
    "print(x)\n",
    "print(\"number of integers:\",b)\n",
    "        \n"
   ]
  },
  {
   "cell_type": "code",
   "execution_count": 32,
   "id": "23634fed",
   "metadata": {},
   "outputs": [
    {
     "name": "stdout",
     "output_type": "stream",
     "text": [
      "[(2+9j), 1.0, 'abhbsx', 89, 23]\n"
     ]
    }
   ],
   "source": [
    "#10. Write a Python program to reverse the list\n",
    "\n",
    "list=[23,89,\"abhbsx\",1.0,2+9j]\n",
    "list.reverse()\n",
    "print(list)"
   ]
  },
  {
   "cell_type": "code",
   "execution_count": 12,
   "id": "f19bcf1a",
   "metadata": {},
   "outputs": [
    {
     "data": {
      "text/plain": [
       "[(2+9j), 1.0, 'abhbsx', 89, 23]"
      ]
     },
     "execution_count": 12,
     "metadata": {},
     "output_type": "execute_result"
    }
   ],
   "source": [
    "list=[23,89,\"abhbsx\",1.0,2+9j]\n",
    "list[::-1]"
   ]
  },
  {
   "cell_type": "code",
   "execution_count": 2,
   "id": "38ac2bdf",
   "metadata": {},
   "outputs": [
    {
     "name": "stdout",
     "output_type": "stream",
     "text": [
      "('m', 'e', 'g', 'h', 'a', 'n', 'a')\n"
     ]
    }
   ],
   "source": [
    "#11. Write a Python program convert a given string to a tuple.\n",
    "\n",
    "x=\"meghana\"\n",
    "y=[]\n",
    "for z in x:\n",
    "    y.append(z)\n",
    "final_result=tuple(y)\n",
    "print(final_result)"
   ]
  }
 ],
 "metadata": {
  "kernelspec": {
   "display_name": "Python 3 (ipykernel)",
   "language": "python",
   "name": "python3"
  },
  "language_info": {
   "codemirror_mode": {
    "name": "ipython",
    "version": 3
   },
   "file_extension": ".py",
   "mimetype": "text/x-python",
   "name": "python",
   "nbconvert_exporter": "python",
   "pygments_lexer": "ipython3",
   "version": "3.10.9"
  }
 },
 "nbformat": 4,
 "nbformat_minor": 5
}
