{
 "cells": [
  {
   "cell_type": "markdown",
   "id": "a869e852",
   "metadata": {},
   "source": [
    "#1 Odd Up, Even Down — N Times\n",
    "Create a function that performs an even-odd transform to a list, n times. Each even-odd transformation:\n",
    "\n",
    "Adds two (+2) to each odd integer.\n",
    "Subtracts two (-2) from each even integer.\n",
    "Examples\n",
    "even_odd_transform([3, 4, 9], 3) ➞ [9, -2, 15]\n",
    "# Since [3, 4, 9] => [5, 2, 11] => [7, 0, 13] => [9, -2, 15]\n",
    "\n",
    "even_odd_transform([0, 0, 0], 10) ➞ [-20, -20, -20]\n",
    "\n",
    "even_odd_transform([1, 2, 3], 1) ➞ [3, 0, 5]\n",
    "Notes\n",
    "N/A"
   ]
  },
  {
   "cell_type": "code",
   "execution_count": 1,
   "id": "f259cec1",
   "metadata": {},
   "outputs": [],
   "source": [
    "def even_odd_transform(lst, n):\n",
    "    for _ in range(n):\n",
    "        lst = [num + 2 if num % 2 != 0 else num - 2 for num in lst]\n",
    "    return lst\n"
   ]
  },
  {
   "cell_type": "code",
   "execution_count": 2,
   "id": "81f5f1fc",
   "metadata": {},
   "outputs": [
    {
     "data": {
      "text/plain": [
       "[9, -2, 15]"
      ]
     },
     "execution_count": 2,
     "metadata": {},
     "output_type": "execute_result"
    }
   ],
   "source": [
    "even_odd_transform([3, 4, 9], 3) "
   ]
  },
  {
   "cell_type": "markdown",
   "id": "b80a277e",
   "metadata": {},
   "source": [
    "#2 Collatz Conjecture\n",
    "A Collatz sequence is generated like this. Start with a positive number. If it's even, halve it. If it's odd, multiply it by three and add one. Repeat the process with the resulting number. The Collatz Conjecture is that every sequence eventually reaches 1 (continuing past 1 just results in an endless repeat of the sequence 4, 2, 1).\n",
    "\n",
    "The length of the sequence from starting number to 1 varies widely.\n",
    "\n",
    "Create a function that takes a number as an argument and returns a tuple of two elements — the number of steps in the Collatz sequence of the number, and the highest number reached.\n",
    "\n",
    "Examples\n",
    "collatz(2) ➞ (2, 2)\n",
    "# seq = [2, 1]\n",
    "\n",
    "collatz(3) ➞ (8, 16)\n",
    "# seq = [3, 10, 5, 16, 8, 4, 2, 1]\n",
    "\n",
    "collatz(7) ➞ (17, 52)\n",
    "# seq = [7, 22, 11, 34, 17, 52, 26, 13, 40, 20, 10, 5, 16, 8, 4, 2, 1]\n",
    "\n",
    "collatz(8) ➞ (4, 8)\n",
    "# seq = [8, 4, 2, 1]\n",
    "Notes\n",
    "(Improbable) Bonus: Find a positive starting number that doesn't reach 1, and score a place in Math history plus a cash prize."
   ]
  },
  {
   "cell_type": "code",
   "execution_count": 3,
   "id": "7f505863",
   "metadata": {},
   "outputs": [],
   "source": [
    "def collatz(num):\n",
    "    steps = 0\n",
    "    highest = num\n",
    "\n",
    "    while num != 1:\n",
    "        if num % 2 == 0:\n",
    "            num = num // 2\n",
    "        else:\n",
    "            num = num * 3 + 1\n",
    "\n",
    "        steps += 1\n",
    "        highest = max(highest, num)\n",
    "\n",
    "    return (steps, highest)\n"
   ]
  },
  {
   "cell_type": "code",
   "execution_count": 4,
   "id": "04e65090",
   "metadata": {},
   "outputs": [
    {
     "data": {
      "text/plain": [
       "(1, 2)"
      ]
     },
     "execution_count": 4,
     "metadata": {},
     "output_type": "execute_result"
    }
   ],
   "source": [
    "collatz(2)"
   ]
  },
  {
   "cell_type": "markdown",
   "id": "1f2233c1",
   "metadata": {},
   "source": [
    "#3 The Most Brilliant Exciting Fantastic Number\n",
    "Given a number n, return a sentence which describes the number in the following ways.\n",
    "\n",
    "Always start the string with \"The most\".\n",
    "If n is evenly divisible by 1, add \"brilliant\" to the sentence.\n",
    "If n is evenly divisible by 2, add \"exciting\" to the sentence.\n",
    "... 3, add \"fantastic\" to the sentence.\n",
    "... 4, add \"virtuous\" to the sentence.\n",
    "... 5, add \"heart-warming\" ...\n",
    "... 6, add \"tear-jerking\" ...\n",
    "... 7, add \"beautiful\" ...\n",
    "... 8, add \"exhilarating\" ...\n",
    "... 9, add \"emotional\" ...\n",
    "If n is evenly divisible by 10, add inspiring to the sentence.\n",
    "Always end the string with \"number is\" n!\n",
    "Examples\n",
    "describe_num(13) ➞ \"The most brilliant number is 13!\"\n",
    "# 13 is evenly divisible by 1 only\n",
    "\n",
    "describe_num(4) ➞ \"The most brilliant exciting virtuous number is 4!\"\n",
    "# 4 is evenly divisible by 1, 2 and 4\n",
    "\n",
    "describe_num(21) ➞ \"The most brilliant fantastic beautiful number is 21!\"\n",
    "# 21 is evenly divisible by 1, 3 and 7\n",
    "\n",
    "describe_num(60) ➞ \"The most brilliant exciting fantastic virtuous heart-warming tear-jerking inspiring number is 60!\"\n",
    "# 60 is evenly divisible by 1, 2, 3, 4, 5, 6 and 10\n",
    "Notes\n",
    "Add words to the sentence in the order going down the list.\n",
    "BONUS: Try to find the lowest number which uses all possible words in the sentence!"
   ]
  },
  {
   "cell_type": "code",
   "execution_count": 5,
   "id": "4b604929",
   "metadata": {},
   "outputs": [],
   "source": [
    "def describe_num(n):\n",
    "    words = []\n",
    "    for i in range(1, 11):\n",
    "        if n % i == 0:\n",
    "            if i == 1:\n",
    "                words.append(\"brilliant\")\n",
    "            elif i == 2:\n",
    "                words.append(\"exciting\")\n",
    "            elif i == 3:\n",
    "                words.append(\"fantastic\")\n",
    "            elif i == 4:\n",
    "                words.append(\"virtuous\")\n",
    "            elif i == 5:\n",
    "                words.append(\"heart-warming\")\n",
    "            elif i == 6:\n",
    "                words.append(\"tear-jerking\")\n",
    "            elif i == 7:\n",
    "                words.append(\"beautiful\")\n",
    "            elif i == 8:\n",
    "                words.append(\"exhilarating\")\n",
    "            elif i == 9:\n",
    "                words.append(\"emotional\")\n",
    "            elif i == 10:\n",
    "                words.append(\"inspiring\")\n",
    "\n",
    "    sentence = \"The most \" + \" \".join(words) + \" number is \" + str(n) + \"!\"\n",
    "    return sentence\n"
   ]
  },
  {
   "cell_type": "code",
   "execution_count": 6,
   "id": "60878b4f",
   "metadata": {},
   "outputs": [
    {
     "data": {
      "text/plain": [
       "'The most brilliant fantastic beautiful number is 21!'"
      ]
     },
     "execution_count": 6,
     "metadata": {},
     "output_type": "execute_result"
    }
   ],
   "source": [
    "describe_num(21)"
   ]
  },
  {
   "cell_type": "markdown",
   "id": "9a68134f",
   "metadata": {},
   "source": [
    "#4 Strictly Increasing or Decreasing\n",
    "Write a function that takes a list and determines whether it's strictly increasing, strictly decreasing, or neither.\n",
    "\n",
    "Examples\n",
    "check([1, 2, 3]) ➞ \"increasing\"\n",
    "\n",
    "check([3, 2, 1]) ➞ \"decreasing\"\n",
    "\n",
    "check([1, 2, 1]) ➞ \"neither\"\n",
    "\n",
    "check([1, 1, 2]) ➞ \"neither\"\n",
    "Notes\n",
    "The last example does NOT count as strictly increasing, since 1-indexed 1 is not strictly greater than the 0-indexed 1.\n",
    "Input lists have a minimum length of 2."
   ]
  },
  {
   "cell_type": "code",
   "execution_count": 10,
   "id": "d87d5f8e",
   "metadata": {},
   "outputs": [],
   "source": [
    "def check(lst):\n",
    "    lst_1=list(lst)\n",
    "    len(lst_1)==3\n",
    "    for x in lst_1:\n",
    "        if lst_1[x-1]<lst_1[x]<lst_1[x+1]:\n",
    "            return \"increasing\"\n",
    "        elif lst_1[x-1]>lst_1[x]>lst_1[x+1]:\n",
    "            return \"decreasing\"\n",
    "        else:\n",
    "            return \"neither\""
   ]
  },
  {
   "cell_type": "code",
   "execution_count": 11,
   "id": "a52755f5",
   "metadata": {},
   "outputs": [
    {
     "data": {
      "text/plain": [
       "'increasing'"
      ]
     },
     "execution_count": 11,
     "metadata": {},
     "output_type": "execute_result"
    }
   ],
   "source": [
    "check([1,2,3])"
   ]
  },
  {
   "cell_type": "markdown",
   "id": "66f56385",
   "metadata": {},
   "source": [
    "#5 Directionally Challenged\n",
    "Suppose you are directionally challenged, and get lost easily. As a result, sometimes you walk in circles or make U-turns. You might take a sub-optimal route. Create a function that returns the difference in length between your path and the optimal path. Both paths reach the same destination.\n",
    "\n",
    "You start at (0,0) and reach your destination by the end of the input list.\n",
    "\n",
    "A demonstration:\n",
    "\n",
    "Your route: [\"N\", \"S\", \"E\", \"W\", \"E\", \"E\", \"E\", \"N\"]  // 8\n",
    "Optimal route: [\"E\", \"E\", \"E\", \"N\"] (or [\"N\", \"E\", \"E\", \"E\"], etc.) // 4\n",
    "# Difference in length: 8 - 4 = 4\n",
    "\n",
    "# Explanation: Your \"S\" cancels out your \"N\" and your \"W\" cancels out your \"E\" leaving you back at (0,0)\n",
    "Examples\n",
    "route_diff([\"N\", \"E\", \"S\", \"W\"]) ➞ 4\n",
    "# You\"ve just walked in a circle! You are back at the origin. Your optimal path was `[]`.\n",
    "\n",
    "route_diff([\"N\", \"N\", \"N\", \"E\", \"N\", \"E\"]) ➞ 0\n",
    "# No improvements here!\n",
    "\n",
    "route_diff([\"N\", \"S\", \"N\", \"S\", \"E\", \"W\", \"E\", \"E\"]) ➞ 6\n",
    "Notes\n",
    "Remember that a N cancels out a S, and an E cancels out a W."
   ]
  },
  {
   "cell_type": "markdown",
   "id": "9354df1a",
   "metadata": {},
   "source": [
    "#6 Rock, Paper, Scissors!\n",
    "Abigail and Benson are playing Rock, Paper, Scissors.\n",
    "\n",
    "Each game is represented by an array of length 2, where the first element represents what Abigail played and the second element represents what Benson played.\n",
    "\n",
    "Given a sequence of games, determine who wins the most number of matches. If they tie, output \"Tie\".\n",
    "\n",
    "R stands for Rock\n",
    "P stands for Paper\n",
    "S stands for Scissors\n",
    "Examples\n",
    "calculate_score([[\"R\", \"P\"], [\"R\", \"S\"], [\"S\", \"P\"]]) ➞ \"Abigail\"\n",
    "\n",
    "# Benson wins the first game (Paper beats Rock).\n",
    "# Abigail wins the second game (Rock beats Scissors).\n",
    "# Abigail wins the third game (Scissors beats Paper). \n",
    "# Abigail wins 2/3.\n",
    "\n",
    "calculate_score([[\"R\", \"R\"], [\"S\", \"S\"]]) ➞ \"Tie\"\n",
    "\n",
    "calculate_score([[\"S\", \"R\"], [\"R\", \"S\"], [\"R\", \"R\"]]) ➞ \"Tie\"\n",
    "Notes\n",
    "N/A"
   ]
  },
  {
   "cell_type": "code",
   "execution_count": 17,
   "id": "3997dc5a",
   "metadata": {},
   "outputs": [],
   "source": [
    "def calculate_score(games):\n",
    "    abigail_score = 0\n",
    "    benson_score = 0\n",
    "\n",
    "    for game in games:\n",
    "        abigail_choice = game[0]\n",
    "        benson_choice = game[1]\n",
    "\n",
    "        if abigail_choice == benson_choice:\n",
    "            continue\n",
    "        elif (abigail_choice == \"R\" and benson_choice == \"S\") or (abigail_choice == \"S\" and benson_choice == \"P\") or (abigail_choice == \"P\" and benson_choice == \"R\"):\n",
    "            abigail_score += 1\n",
    "        else:\n",
    "            benson_score += 1\n",
    "\n",
    "    if abigail_score > benson_score:\n",
    "        return \"Abigail\"\n",
    "    elif benson_score > abigail_score:\n",
    "        return \"Benson\"\n",
    "    else:\n",
    "        return \"Tie\"\n"
   ]
  },
  {
   "cell_type": "code",
   "execution_count": 19,
   "id": "57043ce2",
   "metadata": {},
   "outputs": [
    {
     "data": {
      "text/plain": [
       "'Tie'"
      ]
     },
     "execution_count": 19,
     "metadata": {},
     "output_type": "execute_result"
    }
   ],
   "source": [
    "calculate_score([[\"R\", \"R\"], [\"S\", \"S\"]]) "
   ]
  },
  {
   "cell_type": "markdown",
   "id": "ff9ff94e",
   "metadata": {},
   "source": [
    "#6 Find the Bugs: Returning Valid Prices\n",
    "There has been a masterdata issue which affected the prices of the products. Check if each product has a valid price (integer or float, and greater than or equal to zero). Products with a price of 0 are free and count as a valid price.\n",
    "\n",
    "The return value should be a Boolean.\n",
    "\n",
    "Examples\n",
    "has_valid_price({ \"product\": \"Milk\", \"price\": 1.50 }) ➞ True\n",
    "\n",
    "has_valid_price({ \"product\": \"Cheese\", \"price\": -1 }) ➞ False\n",
    "\n",
    "has_valid_price({ \"product\": \"Eggs\", \"price\": 0 }) ➞ True\n",
    "\n",
    "has_valid_price({ \"product\": \"Cereals\", \"price\": \"3.0\" }) ➞ False\n",
    "\n",
    "has_valid_price(None) ➞ False\n",
    "Notes\n",
    "Type of the price should be an integer/float. If it's anything else, you should return False."
   ]
  },
  {
   "cell_type": "code",
   "execution_count": 23,
   "id": "720c9f0c",
   "metadata": {},
   "outputs": [],
   "source": [
    "def has_valid_price(product,price):\n",
    "    product=str(product)\n",
    "    price=float(price)\n",
    "    if price>0 or price==0:\n",
    "        return True\n",
    "    else:\n",
    "        return False"
   ]
  },
  {
   "cell_type": "code",
   "execution_count": 24,
   "id": "e87ef702",
   "metadata": {},
   "outputs": [
    {
     "data": {
      "text/plain": [
       "True"
      ]
     },
     "execution_count": 24,
     "metadata": {},
     "output_type": "execute_result"
    }
   ],
   "source": [
    "has_valid_price(\"milk\",1.50)"
   ]
  },
  {
   "cell_type": "code",
   "execution_count": 25,
   "id": "59371845",
   "metadata": {},
   "outputs": [
    {
     "data": {
      "text/plain": [
       "False"
      ]
     },
     "execution_count": 25,
     "metadata": {},
     "output_type": "execute_result"
    }
   ],
   "source": [
    "has_valid_price(\"eggs\",-1)"
   ]
  },
  {
   "cell_type": "markdown",
   "id": "f9eb9596",
   "metadata": {},
   "source": [
    "#7 The Conquering Queen\n",
    "In chess, queens can move any number of squares horizontally, vertically or diagonally.\n",
    "\n",
    "Given the location of your queen and your opponents' queen, determine whether or not you're able to capture your opponent's queen. Your location and your opponents' location are the first and second elements of the list, respectively.\n",
    "\n",
    "Examples\n",
    "can_capture([\"A1\", \"H8\"]) ➞ True\n",
    "# Your queen can move diagonally to capture opponents' piece.\n",
    "\n",
    "can_capture([\"A1\", \"C2\"]) ➞ False\n",
    "# Your queen cannot reach C2 from A1 (although a knight could).\n",
    "\n",
    "can_capture([\"G3\", \"E5\"]) ➞ True\n",
    "Notes\n",
    "Assume there are no blocking pieces."
   ]
  },
  {
   "cell_type": "code",
   "execution_count": 26,
   "id": "9ad47c12",
   "metadata": {},
   "outputs": [],
   "source": [
    "def can_capture(queens):\n",
    "    your_queen = queens[0]\n",
    "    opponent_queen = queens[1]\n",
    "\n",
    "    if your_queen[0] == opponent_queen[0] or your_queen[1] == opponent_queen[1] or abs(ord(your_queen[0]) - ord(opponent_queen[0])) == abs(int(your_queen[1]) - int(opponent_queen[1])):\n",
    "        return True\n",
    "    else:\n",
    "        return False\n"
   ]
  },
  {
   "cell_type": "code",
   "execution_count": 27,
   "id": "a4fb0c39",
   "metadata": {},
   "outputs": [
    {
     "data": {
      "text/plain": [
       "False"
      ]
     },
     "execution_count": 27,
     "metadata": {},
     "output_type": "execute_result"
    }
   ],
   "source": [
    "can_capture([\"A1\", \"C2\"])"
   ]
  },
  {
   "cell_type": "markdown",
   "id": "05447736",
   "metadata": {},
   "source": [
    "#8 Temperature Converter\n",
    "Create a function that converts Celsius to Fahrenheit and vice versa.\n",
    "\n",
    "Examples\n",
    "convert(\"35*C\") ➞ \"95*F\"\n",
    "\n",
    "convert(\"19*F\") ➞ \"-7*C\"\n",
    "\n",
    "convert(\"33\") ➞ \"Error\"\n",
    "Notes\n",
    "Round to the nearest integer.\n",
    "If the input is incorrect, return \"Error\".\n",
    "For the formulae to convert back and forth, check the Resources tab."
   ]
  },
  {
   "cell_type": "code",
   "execution_count": 28,
   "id": "83a5a6a7",
   "metadata": {},
   "outputs": [],
   "source": [
    "def convert(temp):\n",
    "    if temp.endswith(\"*C\"):\n",
    "        try:\n",
    "            celsius = int(temp[:-2])\n",
    "            fahrenheit = round(celsius * 9/5 + 32)\n",
    "            return str(fahrenheit) + \"*F\"\n",
    "        except ValueError:\n",
    "            return \"Error\"\n",
    "    elif temp.endswith(\"*F\"):\n",
    "        try:\n",
    "            fahrenheit = int(temp[:-2])\n",
    "            celsius = round((fahrenheit - 32) * 5/9)\n",
    "            return str(celsius) + \"*C\"\n",
    "        except ValueError:\n",
    "            return \"Error\"\n",
    "    else:\n",
    "        return \"Error\"\n"
   ]
  },
  {
   "cell_type": "code",
   "execution_count": 29,
   "id": "e052ece3",
   "metadata": {},
   "outputs": [
    {
     "data": {
      "text/plain": [
       "'Error'"
      ]
     },
     "execution_count": 29,
     "metadata": {},
     "output_type": "execute_result"
    }
   ],
   "source": [
    "convert(\"35C\") "
   ]
  },
  {
   "cell_type": "code",
   "execution_count": 30,
   "id": "e1be6dc5",
   "metadata": {},
   "outputs": [
    {
     "data": {
      "text/plain": [
       "'95*F'"
      ]
     },
     "execution_count": 30,
     "metadata": {},
     "output_type": "execute_result"
    }
   ],
   "source": [
    "convert(\"35*C\") "
   ]
  },
  {
   "cell_type": "markdown",
   "id": "7936e982",
   "metadata": {},
   "source": [
    "#9 Return the End Letters of Numbers\n",
    "Create a function that takes an integer and returns it as an ordinal number. An Ordinal Number is a number that tells the position of something in a list, such as 1st, 2nd, 3rd, 4th, 5th, etc.\n",
    "\n",
    "Examples\n",
    "return_end_of_number(553) ➞ \"553-RD\"\n",
    "\n",
    "return_end_of_number(34) ➞ \"34-TH\"\n",
    "\n",
    "return_end_of_number(1231) ➞ \"1231-ST\"\n",
    "\n",
    "return_end_of_number(22) ➞ \"22-ND\"\n",
    "\n",
    "return_end_of_number(412) ➞ \"412-TH\"\n",
    "Notes\n",
    "Check the Resources tab for more info on ordinal numbers."
   ]
  },
  {
   "cell_type": "code",
   "execution_count": 34,
   "id": "a5a73603",
   "metadata": {},
   "outputs": [],
   "source": [
    "def return_end_of_number(number):\n",
    "    suffix = \"-TH\"\n",
    "\n",
    "    if number % 100 not in [11, 12, 13]:\n",
    "        last_digit = number % 10\n",
    "        if last_digit == 1:\n",
    "            suffix = \"-ST\"\n",
    "        elif last_digit == 2:\n",
    "            suffix = \"-ND\"\n",
    "        elif last_digit == 3:\n",
    "            suffix = \"-RD\"\n",
    "\n",
    "    return str(number) + suffix\n"
   ]
  },
  {
   "cell_type": "code",
   "execution_count": 35,
   "id": "cac53e6f",
   "metadata": {},
   "outputs": [
    {
     "data": {
      "text/plain": [
       "'22-ND'"
      ]
     },
     "execution_count": 35,
     "metadata": {},
     "output_type": "execute_result"
    }
   ],
   "source": [
    "return_end_of_number(22)"
   ]
  },
  {
   "cell_type": "markdown",
   "id": "86b675b5",
   "metadata": {},
   "source": [
    "#10 RNA Reverse Complement\n",
    "Create a function that finds the reverse complement of a ribonucleic acid (RNA) strand. The RNA will be represented as a string containing only the characters \"A\", \"C\", \"G\" and \"U\". Since RNA can only (canonically) allow pairings of A/U and G/C, the complement of an RNA would be as follows:\n",
    "\n",
    "Original\tComplement\n",
    "\"AAA\"\t\"UUU\"\n",
    "\"UUU\"\t\"AAA\"\n",
    "\"GGG\"\t\"CCC\"\n",
    "\"CCC\"\t\"GGG\"\n",
    "Your function should find the complement on the right AND also reverse the resulting string.\n",
    "\n",
    "Examples\n",
    "reverse_complement(\"GUGU\") ➞ \"ACAC\"\n",
    "\n",
    "reverse_complement(\"UCUCG\") ➞ \"CGAGA\"\n",
    "\n",
    "reverse_complement(\"CAGGU\") ➞ \"ACCUG\"\n",
    "Notes\n",
    "You can assume all input seqeuences will be valid."
   ]
  },
  {
   "cell_type": "code",
   "execution_count": null,
   "id": "eed48ba0",
   "metadata": {},
   "outputs": [],
   "source": []
  }
 ],
 "metadata": {
  "kernelspec": {
   "display_name": "Python 3 (ipykernel)",
   "language": "python",
   "name": "python3"
  },
  "language_info": {
   "codemirror_mode": {
    "name": "ipython",
    "version": 3
   },
   "file_extension": ".py",
   "mimetype": "text/x-python",
   "name": "python",
   "nbconvert_exporter": "python",
   "pygments_lexer": "ipython3",
   "version": "3.10.9"
  }
 },
 "nbformat": 4,
 "nbformat_minor": 5
}
