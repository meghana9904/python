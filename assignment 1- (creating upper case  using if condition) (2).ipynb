{
 "cells": [
  {
   "cell_type": "code",
   "execution_count": 5,
   "id": "713693c0",
   "metadata": {},
   "outputs": [
    {
     "name": "stdout",
     "output_type": "stream",
     "text": [
      " ** \n",
      "*  *\n",
      "****\n",
      "*  *\n"
     ]
    }
   ],
   "source": [
    "x1=1\n",
    "x2=2\n",
    "x3=3\n",
    "x4=4\n",
    "\n",
    "if x1==1:\n",
    "    print(\" ** \")\n",
    "if x2==2:\n",
    "    print(\"*  *\")\n",
    "if x3==3:\n",
    "    print(\"****\")\n",
    "if x4==4:\n",
    "    print(\"*  *\")"
   ]
  },
  {
   "cell_type": "code",
   "execution_count": 8,
   "id": "52a7d841",
   "metadata": {},
   "outputs": [
    {
     "name": "stdout",
     "output_type": "stream",
     "text": [
      "***\n",
      "*   *\n",
      "****\n",
      "*  *\n",
      "***\n"
     ]
    }
   ],
   "source": [
    "x1=1\n",
    "x2=2\n",
    "x3=3\n",
    "x4=4\n",
    "x5=5\n",
    "\n",
    "if x1==1:\n",
    "    print(\"***\")\n",
    "if x2==2:\n",
    "    print(\"*   *\")\n",
    "if x3==3:\n",
    "    print(\"****\")\n",
    "if x4==4:\n",
    "    print(\"*  *\")\n",
    "if x5==5:\n",
    "    print(\"***\")\n"
   ]
  },
  {
   "cell_type": "code",
   "execution_count": 9,
   "id": "dea85851",
   "metadata": {},
   "outputs": [
    {
     "name": "stdout",
     "output_type": "stream",
     "text": [
      "****\n",
      "* \n",
      "*\n",
      "****\n"
     ]
    }
   ],
   "source": [
    "x1=1\n",
    "x2=2\n",
    "x3=3\n",
    "x4=4\n",
    "\n",
    "if x1==1:\n",
    "    print(\"****\")\n",
    "if x2==2:\n",
    "    print(\"* \")\n",
    "if x3==3:\n",
    "    print(\"*\")\n",
    "if x4==4:\n",
    "    print(\"****\")"
   ]
  },
  {
   "cell_type": "code",
   "execution_count": 11,
   "id": "50dd0692",
   "metadata": {},
   "outputs": [
    {
     "name": "stdout",
     "output_type": "stream",
     "text": [
      "***\n",
      "*  *\n",
      "*   *\n",
      "*   *\n",
      "*   *\n",
      "***\n"
     ]
    }
   ],
   "source": [
    "x1=1\n",
    "x2=2\n",
    "x3=3\n",
    "x4=4\n",
    "x5=5\n",
    "x6=6\n",
    "\n",
    "if x1==1:\n",
    "    print(\"***\")\n",
    "if x2==2:\n",
    "    print(\"*  *\")\n",
    "if x3==3:\n",
    "    print(\"*   *\")\n",
    "if x4==4:\n",
    "    print(\"*   *\")\n",
    "if x5==5:\n",
    "    print(\"*   *\")\n",
    "if x6==6:\n",
    "    print(\"***\")"
   ]
  },
  {
   "cell_type": "code",
   "execution_count": 12,
   "id": "239d819b",
   "metadata": {},
   "outputs": [
    {
     "name": "stdout",
     "output_type": "stream",
     "text": [
      "****\n",
      "*  \n",
      "****   \n",
      "*   \n",
      "****\n"
     ]
    }
   ],
   "source": [
    "x1=1\n",
    "x2=2\n",
    "x3=3\n",
    "x4=4\n",
    "x5=5\n",
    "\n",
    "if x1==1:\n",
    "    print(\"****\")\n",
    "if x2==2:\n",
    "    print(\"*  \")\n",
    "if x3==3:\n",
    "    print(\"****   \")\n",
    "if x4==4:\n",
    "    print(\"*   \")\n",
    "if x5==5:\n",
    "    print(\"****\")"
   ]
  },
  {
   "cell_type": "code",
   "execution_count": 13,
   "id": "1afd073c",
   "metadata": {},
   "outputs": [
    {
     "name": "stdout",
     "output_type": "stream",
     "text": [
      "****\n",
      "*  \n",
      "****   \n",
      "*   \n",
      "*\n"
     ]
    }
   ],
   "source": [
    "x1=1\n",
    "x2=2\n",
    "x3=3\n",
    "x4=4\n",
    "x5=5\n",
    "\n",
    "if x1==1:\n",
    "    print(\"****\")\n",
    "if x2==2:\n",
    "    print(\"*  \")\n",
    "if x3==3:\n",
    "    print(\"****   \")\n",
    "if x4==4:\n",
    "    print(\"*   \")\n",
    "if x5==5:\n",
    "    print(\"*\")"
   ]
  },
  {
   "cell_type": "code",
   "execution_count": 18,
   "id": "16dc2d50",
   "metadata": {},
   "outputs": [
    {
     "name": "stdout",
     "output_type": "stream",
     "text": [
      "****\n",
      "*  \n",
      "*\n",
      "* ***\n",
      "* * *\n",
      "*** *\n"
     ]
    }
   ],
   "source": [
    "x1=1\n",
    "x2=2\n",
    "x3=3\n",
    "x4=4\n",
    "x5=5\n",
    "x6=6\n",
    "\n",
    "if x1==1:\n",
    "    print(\"****\")\n",
    "if x2==2:\n",
    "    print(\"*  \")\n",
    "if x3==3:\n",
    "    print(\"*\")\n",
    "if x4==4:\n",
    "    print(\"* ***\")\n",
    "if x5==5:\n",
    "    print(\"* * *\")\n",
    "if x6==6:\n",
    "    print(\"*** *\")"
   ]
  },
  {
   "cell_type": "code",
   "execution_count": 20,
   "id": "e4670f3f",
   "metadata": {},
   "outputs": [
    {
     "name": "stdout",
     "output_type": "stream",
     "text": [
      "*  *\n",
      "*  *  \n",
      "****\n",
      "*  *\n",
      "*  *\n"
     ]
    }
   ],
   "source": [
    "x1=1\n",
    "x2=2\n",
    "x3=3\n",
    "x4=4\n",
    "x5=5\n",
    "\n",
    "if x1==1:\n",
    "    print(\"*  *\")\n",
    "if x2==2:\n",
    "    print(\"*  *  \")\n",
    "if x3==3:\n",
    "    print(\"****\")\n",
    "if x4==4:\n",
    "    print(\"*  *\")\n",
    "if x5==5:\n",
    "    print(\"*  *\")"
   ]
  },
  {
   "cell_type": "code",
   "execution_count": 21,
   "id": "2e0bf0fc",
   "metadata": {},
   "outputs": [
    {
     "name": "stdout",
     "output_type": "stream",
     "text": [
      "*****\n",
      "  *\n",
      "  *\n",
      "  *\n",
      "*****\n"
     ]
    }
   ],
   "source": [
    "x1=1\n",
    "x2=2\n",
    "x3=3\n",
    "x4=4\n",
    "x5=5\n",
    "\n",
    "if x1==1:\n",
    "    print(\"*****\")\n",
    "if x2==2:\n",
    "    print(\"  *\")\n",
    "if x3==3:\n",
    "    print(\"  *\")\n",
    "if x4==4:\n",
    "    print(\"  *\")\n",
    "if x5==5:\n",
    "    print(\"*****\")"
   ]
  },
  {
   "cell_type": "code",
   "execution_count": 22,
   "id": "32906d88",
   "metadata": {},
   "outputs": [
    {
     "name": "stdout",
     "output_type": "stream",
     "text": [
      "*****\n",
      "  *\n",
      "  *\n",
      "  *\n",
      "***\n"
     ]
    }
   ],
   "source": [
    "x1=1\n",
    "x2=2\n",
    "x3=3\n",
    "x4=4\n",
    "x5=5\n",
    "\n",
    "if x1==1:\n",
    "    print(\"*****\")\n",
    "if x2==2:\n",
    "    print(\"  *\")\n",
    "if x3==3:\n",
    "    print(\"  *\")\n",
    "if x4==4:\n",
    "    print(\"  *\")\n",
    "if x5==5:\n",
    "    print(\"***\")"
   ]
  },
  {
   "cell_type": "code",
   "execution_count": 24,
   "id": "24cab106",
   "metadata": {},
   "outputs": [
    {
     "name": "stdout",
     "output_type": "stream",
     "text": [
      "*  *\n",
      "* *\n",
      "**\n",
      "* *\n",
      "*  *\n"
     ]
    }
   ],
   "source": [
    "x1=1\n",
    "x2=2\n",
    "x3=3\n",
    "x4=4\n",
    "x5=5\n",
    "\n",
    "if x1==1:\n",
    "    print(\"*  *\")\n",
    "if x2==2:\n",
    "    print(\"* *\")\n",
    "if x3==3:\n",
    "    print(\"**\")\n",
    "if x4==4:\n",
    "    print(\"* *\")\n",
    "if x5==5:\n",
    "    print(\"*  *\")"
   ]
  },
  {
   "cell_type": "code",
   "execution_count": 25,
   "id": "7269ba1f",
   "metadata": {},
   "outputs": [
    {
     "name": "stdout",
     "output_type": "stream",
     "text": [
      "*  \n",
      "* \n",
      "*\n",
      "* \n",
      "****\n"
     ]
    }
   ],
   "source": [
    "x1=1\n",
    "x2=2\n",
    "x3=3\n",
    "x4=4\n",
    "x5=5\n",
    "\n",
    "if x1==1:\n",
    "    print(\"*  \")\n",
    "if x2==2:\n",
    "    print(\"* \")\n",
    "if x3==3:\n",
    "    print(\"*\")\n",
    "if x4==4:\n",
    "    print(\"* \")\n",
    "if x5==5:\n",
    "    print(\"****\")"
   ]
  },
  {
   "cell_type": "code",
   "execution_count": 39,
   "id": "1f8da301",
   "metadata": {},
   "outputs": [
    {
     "name": "stdout",
     "output_type": "stream",
     "text": [
      "*     *\n",
      "* * * * \n",
      "*  *  *\n",
      "*     *\n",
      "*     *\n"
     ]
    }
   ],
   "source": [
    "x1=1\n",
    "x2=2\n",
    "x3=3\n",
    "x4=4\n",
    "x5=5\n",
    "\n",
    "if x1==1:\n",
    "    print(\"*     *\")\n",
    "if x2==2:\n",
    "    print(\"* * * * \")\n",
    "if x3==3:\n",
    "    print(\"*  *  *\")\n",
    "if x4==4:\n",
    "    print(\"*     *\")\n",
    "if x5==5:\n",
    "    print(\"*     *\")\n",
    "    "
   ]
  },
  {
   "cell_type": "code",
   "execution_count": 41,
   "id": "bde20cfc",
   "metadata": {},
   "outputs": [
    {
     "name": "stdout",
     "output_type": "stream",
     "text": [
      "*     *\n",
      "* *   * \n",
      "*  *  *\n",
      "*   * *\n",
      "*     *\n"
     ]
    }
   ],
   "source": [
    "x1=1\n",
    "x2=2\n",
    "x3=3\n",
    "x4=4\n",
    "x5=5\n",
    "\n",
    "if x1==1:\n",
    "    print(\"*     *\")\n",
    "if x2==2:\n",
    "    print(\"* *   * \")\n",
    "if x3==3:\n",
    "    print(\"*  *  *\")\n",
    "if x4==4:\n",
    "    print(\"*   * *\")\n",
    "if x5==5:\n",
    "    print(\"*     *\")"
   ]
  },
  {
   "cell_type": "code",
   "execution_count": 42,
   "id": "a003c596",
   "metadata": {},
   "outputs": [
    {
     "name": "stdout",
     "output_type": "stream",
     "text": [
      "****\n",
      "*  *\n",
      "*  *\n",
      "*  *\n",
      "****\n"
     ]
    }
   ],
   "source": [
    "x1=1\n",
    "x2=2\n",
    "x3=3\n",
    "x4=4\n",
    "x5=5\n",
    "\n",
    "if x1==1:\n",
    "    print(\"****\")\n",
    "if x2==2:\n",
    "    print(\"*  *\")\n",
    "if x3==3:\n",
    "    print(\"*  *\")\n",
    "if x4==4:\n",
    "    print(\"*  *\")\n",
    "if x5==5:\n",
    "    print(\"****\")"
   ]
  },
  {
   "cell_type": "code",
   "execution_count": 45,
   "id": "8e315f4b",
   "metadata": {},
   "outputs": [
    {
     "name": "stdout",
     "output_type": "stream",
     "text": [
      "****\n",
      "*  *\n",
      "****\n",
      "*  \n",
      "*\n"
     ]
    }
   ],
   "source": [
    "x1=1\n",
    "x2=2\n",
    "x3=3\n",
    "x4=4\n",
    "x5=5\n",
    "\n",
    "if x1==1:\n",
    "    print(\"****\")\n",
    "if x2==2:\n",
    "    print(\"*  *\")\n",
    "if x3==3:\n",
    "    print(\"****\")\n",
    "if x4==4:\n",
    "    print(\"*  \")\n",
    "if x5==5:\n",
    "    print(\"*\")"
   ]
  },
  {
   "cell_type": "code",
   "execution_count": 58,
   "id": "c956f84e",
   "metadata": {},
   "outputs": [
    {
     "name": "stdout",
     "output_type": "stream",
     "text": [
      "****\n",
      "*   *\n",
      "*   *\n",
      "* \\ *\n",
      "***\\*\n"
     ]
    }
   ],
   "source": [
    "x1=1\n",
    "x2=2\n",
    "x3=3\n",
    "x4=4\n",
    "x5=5\n",
    "\n",
    "\n",
    "if x1==1:\n",
    "    print(\"****\")\n",
    "if x2==2:\n",
    "    print(\"*   *\")\n",
    "if x3==3:\n",
    "    print(\"*   *\")\n",
    "if x4==4:\n",
    "    print(\"* \\ *\")\n",
    "if x5==5:\n",
    "    print(\"***\\*\")\n"
   ]
  },
  {
   "cell_type": "code",
   "execution_count": 57,
   "id": "c394ba8f",
   "metadata": {},
   "outputs": [
    {
     "name": "stdout",
     "output_type": "stream",
     "text": [
      "****\n",
      "*   *\n",
      "****\n",
      "*  *\n",
      "*   *\n"
     ]
    }
   ],
   "source": [
    "x1=1\n",
    "x2=2\n",
    "x3=3\n",
    "x4=4\n",
    "x5=5\n",
    "\n",
    "if x1==1:\n",
    "    print(\"****\")\n",
    "if x2==2:\n",
    "    print(\"*   *\")\n",
    "if x3==3:\n",
    "    print(\"****\")\n",
    "if x4==4:\n",
    "    print(\"*  *\")\n",
    "if x5==5:\n",
    "    print(\"*   *\")"
   ]
  },
  {
   "cell_type": "code",
   "execution_count": 63,
   "id": "7f5e68c5",
   "metadata": {},
   "outputs": [
    {
     "name": "stdout",
     "output_type": "stream",
     "text": [
      "****\n",
      "*\n",
      "****\n",
      "   *\n",
      "****\n"
     ]
    }
   ],
   "source": [
    "x1=1\n",
    "x2=2\n",
    "x3=3\n",
    "x4=4\n",
    "x5=5\n",
    "\n",
    "if x1==1:\n",
    "    print(\"****\")\n",
    "if x2==2:\n",
    "    print(\"*\")\n",
    "if x3==3:\n",
    "    print(\"****\")\n",
    "if x4==4:\n",
    "    print(\"   *\")\n",
    "if x5==5:\n",
    "    print(\"****\")"
   ]
  },
  {
   "cell_type": "code",
   "execution_count": 64,
   "id": "312b9257",
   "metadata": {},
   "outputs": [
    {
     "name": "stdout",
     "output_type": "stream",
     "text": [
      "*****\n",
      "  *\n",
      "  *\n",
      "  *\n",
      "  *\n"
     ]
    }
   ],
   "source": [
    "x1=1\n",
    "x2=2\n",
    "x3=3\n",
    "x4=4\n",
    "x5=5\n",
    "\n",
    "if x1==1:\n",
    "    print(\"*****\")\n",
    "if x2==2:\n",
    "    print(\"  *\")\n",
    "if x3==3:\n",
    "    print(\"  *\")\n",
    "if x4==4:\n",
    "    print(\"  *\")\n",
    "if x5==5:\n",
    "    print(\"  *\")"
   ]
  },
  {
   "cell_type": "code",
   "execution_count": 65,
   "id": "bdd7340d",
   "metadata": {},
   "outputs": [
    {
     "name": "stdout",
     "output_type": "stream",
     "text": [
      "*  *\n",
      "*  *\n",
      "*  *\n",
      "*  *\n",
      "****\n"
     ]
    }
   ],
   "source": [
    "x1=1\n",
    "x2=2\n",
    "x3=3\n",
    "x4=4\n",
    "x5=5\n",
    "\n",
    "if x1==1:\n",
    "    print(\"****\")\n",
    "if x2==2:\n",
    "    print(\"*  *\")\n",
    "if x3==3:\n",
    "    print(\"*  *\")\n",
    "if x4==4:\n",
    "    print(\"*  *\")\n",
    "if x5==5:\n",
    "    print(\"****\")"
   ]
  },
  {
   "cell_type": "code",
   "execution_count": 68,
   "id": "dd5a19c1",
   "metadata": {},
   "outputs": [
    {
     "name": "stdout",
     "output_type": "stream",
     "text": [
      "*   *\n",
      "*   *\n",
      " * * \n",
      "  *\n"
     ]
    }
   ],
   "source": [
    "x1=1\n",
    "x2=2\n",
    "x3=3\n",
    "x4=4\n",
    "\n",
    "\n",
    "if x1==1:\n",
    "    print(\"*   *\")\n",
    "if x2==2:\n",
    "    print(\"*   *\")\n",
    "if x3==3:\n",
    "    print(\" * * \")\n",
    "if x4==4:\n",
    "    print(\"  *\")\n"
   ]
  },
  {
   "cell_type": "code",
   "execution_count": 96,
   "id": "fdf391e9",
   "metadata": {},
   "outputs": [
    {
     "name": "stdout",
     "output_type": "stream",
     "text": [
      "*         *\n",
      "*         * \n",
      "*    *    *\n",
      "* *     * * \n",
      "*         *\n"
     ]
    }
   ],
   "source": [
    "x1=1\n",
    "x2=2\n",
    "x3=3\n",
    "x4=4\n",
    "x5=5\n",
    "\n",
    "if x1==1:\n",
    "    print(\"*         *\")\n",
    "if x2==2:\n",
    "    print(\"*         * \")\n",
    "if x3==3:\n",
    "    print(\"*    *    *\")\n",
    "if x4==4:\n",
    "    print(\"* *     * * \")\n",
    "if x5==5:\n",
    "    print(\"*         *\")\n",
    "    "
   ]
  },
  {
   "cell_type": "code",
   "execution_count": 100,
   "id": "6db2c6f6",
   "metadata": {},
   "outputs": [
    {
     "name": "stdout",
     "output_type": "stream",
     "text": [
      "*         *\n",
      "  *     *  \n",
      "     *    \n",
      "  *      *   \n",
      "*         *\n"
     ]
    }
   ],
   "source": [
    "x1=1\n",
    "x2=2\n",
    "x3=3\n",
    "x4=4\n",
    "x5=5\n",
    "\n",
    "if x1==1:\n",
    "    print(\"*         *\")\n",
    "if x2==2:\n",
    "    print(\"  *     *  \")\n",
    "if x3==3:\n",
    "    print(\"     *    \")\n",
    "if x4==4:\n",
    "    print(\"  *      *   \")\n",
    "if x5==5:\n",
    "    print(\"*         *\")"
   ]
  },
  {
   "cell_type": "code",
   "execution_count": 101,
   "id": "844408fa",
   "metadata": {},
   "outputs": [
    {
     "name": "stdout",
     "output_type": "stream",
     "text": [
      "*         *\n",
      "  *     *  \n",
      "     *    \n",
      "  *        \n",
      "*         \n"
     ]
    }
   ],
   "source": [
    "x1=1\n",
    "x2=2\n",
    "x3=3\n",
    "x4=4\n",
    "x5=5\n",
    "\n",
    "if x1==1:\n",
    "    print(\"*         *\")\n",
    "if x2==2:\n",
    "    print(\"  *     *  \")\n",
    "if x3==3:\n",
    "    print(\"     *    \")\n",
    "if x4==4:\n",
    "    print(\"  *        \")\n",
    "if x5==5:\n",
    "    print(\"*         \")"
   ]
  },
  {
   "cell_type": "code",
   "execution_count": 102,
   "id": "ba31bcf7",
   "metadata": {},
   "outputs": [
    {
     "name": "stdout",
     "output_type": "stream",
     "text": [
      "****\n",
      "  *\n",
      " *\n",
      "****\n"
     ]
    }
   ],
   "source": [
    "x1=1\n",
    "x2=2\n",
    "x3=3\n",
    "x4=4\n",
    "\n",
    "\n",
    "if x1==1:\n",
    "    print(\"****\")\n",
    "if x2==2:\n",
    "    print(\"  *\")\n",
    "if x3==3:\n",
    "    print(\" *\")\n",
    "if x4==4:\n",
    "    print(\"****\")\n"
   ]
  }
 ],
 "metadata": {
  "kernelspec": {
   "display_name": "Python 3 (ipykernel)",
   "language": "python",
   "name": "python3"
  },
  "language_info": {
   "codemirror_mode": {
    "name": "ipython",
    "version": 3
   },
   "file_extension": ".py",
   "mimetype": "text/x-python",
   "name": "python",
   "nbconvert_exporter": "python",
   "pygments_lexer": "ipython3",
   "version": "3.10.9"
  }
 },
 "nbformat": 4,
 "nbformat_minor": 5
}
