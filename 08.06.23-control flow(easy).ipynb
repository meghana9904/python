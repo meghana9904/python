{
 "cells": [
  {
   "cell_type": "markdown",
   "id": "df655d32",
   "metadata": {},
   "source": [
    "1.\n",
    "Chat Room Status\n",
    "Write a function that returns the number of users in a chatroom based on the following rules:\n",
    "\n",
    "If there is no one, return \"no one online\".\n",
    "If there is 1 person, return \"user1 online\".\n",
    "If there are 2 people, return \"user1 and user2 online\".\n",
    "If there are n>2 people, return the first two names and add \"and n-2 more online\".\n",
    "For example, if there are 5 users, return:\n",
    "\n",
    "\"user1, user2 and 3 more online\"\n",
    "Examples\n",
    "chatroom_status([]) ➞ \"no one online\"\n",
    "\n",
    "chatroom_status([\"paRIE_to\"]) ➞ \"paRIE_to online\"\n",
    "\n",
    "chatroom_status([\"s234f\", \"mailbox2\"]) ➞ \"s234f and mailbox2 online\"\n",
    "\n",
    "chatroom_status([\"pap_ier44\", \"townieBOY\", \"panda321\", \"motor_bike5\", \"sandwichmaker833\", \"violinist91\"])\n",
    "➞ \"pap_ier44, townieBOY and 4 more online\"\n",
    "Notes\n",
    "N/A"
   ]
  },
  {
   "cell_type": "code",
   "execution_count": 1,
   "id": "aaaa264f",
   "metadata": {},
   "outputs": [],
   "source": [
    "def chatroom_status(n):\n",
    "    if len(n)==0:\n",
    "        return \"no one online\"\n",
    "    elif len(n)>2:\n",
    "        return (\"{},{}and {} more online\".format(n[0],n[1],(len[n]-2)))\n",
    "    elif len(n)==2:\n",
    "        return (\"{} and {} online\".format(n[0],n[1]))\n",
    "    else:\n",
    "        return \"1 person is online\"\n",
    "    "
   ]
  },
  {
   "cell_type": "code",
   "execution_count": 2,
   "id": "ff2286c6",
   "metadata": {},
   "outputs": [
    {
     "data": {
      "text/plain": [
       "'no one online'"
      ]
     },
     "execution_count": 2,
     "metadata": {},
     "output_type": "execute_result"
    }
   ],
   "source": [
    "chatroom_status([])"
   ]
  },
  {
   "cell_type": "markdown",
   "id": "626298d5",
   "metadata": {},
   "source": [
    "#2.\n",
    "Count Palindrome Numbers in a Range\n",
    "Create a function that returns the number of palindrome numbers in a specified range (inclusive).\n",
    "\n",
    "For example, between 8 and 34, there are 5 palindromes: 8, 9, 11, 22 and 33. Between 1550 and 1552 there is exactly one palindrome: 1551.\n",
    "\n",
    "Examples\n",
    "count_palindromes(1, 10) ➞ 9\n",
    "\n",
    "count_palindromes(555, 556) ➞ 1\n",
    "\n",
    "count_palindromes(878, 898) ➞ 3\n",
    "Notes\n",
    "A palindrome number is a number which remains the same when its digits are reversed. For example, 2552 reversed is still 2552. The reflectional symmetry of this number makes it a palindromic number.\n",
    "Single-digit numbers are trivially palindrome numbers."
   ]
  },
  {
   "cell_type": "code",
   "execution_count": 3,
   "id": "130beb06",
   "metadata": {},
   "outputs": [],
   "source": [
    "def count_palindromes(start, end):\n",
    "    count = 0\n",
    "    for num in range(start, end + 1):\n",
    "        if str(num) == str(num)[::-1]:\n",
    "            count += 1\n",
    "    return count\n",
    "\n",
    "                    \n",
    "                    \n",
    "    "
   ]
  },
  {
   "cell_type": "code",
   "execution_count": 4,
   "id": "c0ea9352",
   "metadata": {},
   "outputs": [
    {
     "data": {
      "text/plain": [
       "1"
      ]
     },
     "execution_count": 4,
     "metadata": {},
     "output_type": "execute_result"
    }
   ],
   "source": [
    "\n",
    "count_palindromes(555, 556)"
   ]
  },
  {
   "cell_type": "code",
   "execution_count": 5,
   "id": "29d00d31",
   "metadata": {},
   "outputs": [
    {
     "data": {
      "text/plain": [
       "3"
      ]
     },
     "execution_count": 5,
     "metadata": {},
     "output_type": "execute_result"
    }
   ],
   "source": [
    "count_palindromes(878, 898)"
   ]
  },
  {
   "cell_type": "markdown",
   "id": "6fd02454",
   "metadata": {},
   "source": [
    "3.\n",
    "Sum of all Evens in a Matrix\n",
    "Create a function that returns the sum of all even elements in a 2D matrix.\n",
    "\n",
    "Examples\n",
    "sum_of_evens([\n",
    "  [1, 0, 2],\n",
    "  [5, 5, 7],\n",
    "  [9, 4, 3]\n",
    "]) ➞ 6\n",
    "\n",
    "// 2 + 4 = 6\n",
    "\n",
    "sum_of_evens([\n",
    "  [1, 1],\n",
    "  [1, 1]\n",
    "]) ➞ 0\n",
    "\n",
    "sum_of_evens([\n",
    "  [42, 9],\n",
    "  [16, 8]\n",
    "]) ➞ 66\n",
    "\n",
    "sum_of_evens([\n",
    "  [],\n",
    "  [],\n",
    "  []\n",
    "]) ➞ 0\n",
    "Notes\n",
    "Submatrices will be of equal length.\n",
    "Return 0 if the 2D matrix only consists of empty submatrices."
   ]
  },
  {
   "cell_type": "code",
   "execution_count": 6,
   "id": "140939c7",
   "metadata": {},
   "outputs": [],
   "source": [
    "def sum_of_evens(matrix):\n",
    "    total = 0\n",
    "    for row in matrix:\n",
    "        for num in row:\n",
    "            if num % 2 == 0:\n",
    "                total += num\n",
    "    return total\n"
   ]
  },
  {
   "cell_type": "code",
   "execution_count": 7,
   "id": "7b5ee8d5",
   "metadata": {},
   "outputs": [
    {
     "name": "stdout",
     "output_type": "stream",
     "text": [
      "6\n"
     ]
    }
   ],
   "source": [
    "matrix1 = [\n",
    "    [1, 0, 2],\n",
    "    [5, 5, 7],\n",
    "    [9, 4, 3]\n",
    "]\n",
    "print(sum_of_evens(matrix1))\n",
    "\n"
   ]
  },
  {
   "cell_type": "markdown",
   "id": "75fa5c3e",
   "metadata": {},
   "source": [
    "4.\n",
    "Split a String Based on Vowels and Consonants\n",
    "Write a function that takes a string, breaks it up and returns it with vowels first, consonants second. For any character that's not a vowel (like special characters or spaces), treat them like consonants.\n",
    "\n",
    "Examples\n",
    "split(\"abcde\") ➞ \"aebcd\"\n",
    "\n",
    "split(\"Hello!\") ➞ \"eoHll!\"\n",
    "\n",
    "split(\"What's the time?\") ➞ \"aeieWht's th tm?\"\n",
    "Notes\n",
    "Vowels are a, e, i, o, u.\n",
    "Define a separate is_vowel() function for easier to read code (recommendation)."
   ]
  },
  {
   "cell_type": "code",
   "execution_count": 9,
   "id": "4182b507",
   "metadata": {},
   "outputs": [],
   "source": [
    "\n",
    "def is_vowel(char):\n",
    "    vowels = ['a', 'e', 'i', 'o', 'u']\n",
    "    return char.lower() in vowels\n",
    "\n",
    "def split(string):\n",
    "    vowels = ''\n",
    "    consonants = ''\n",
    "    for char in string:\n",
    "        if is_vowel(char):\n",
    "            vowels += char\n",
    "        else:\n",
    "            consonants += char\n",
    "    return vowels + consonants\n"
   ]
  },
  {
   "cell_type": "code",
   "execution_count": 10,
   "id": "bba6b6df",
   "metadata": {},
   "outputs": [
    {
     "data": {
      "text/plain": [
       "'aebcd'"
      ]
     },
     "execution_count": 10,
     "metadata": {},
     "output_type": "execute_result"
    }
   ],
   "source": [
    "split(\"abcde\")"
   ]
  },
  {
   "cell_type": "markdown",
   "id": "ec9d2728",
   "metadata": {},
   "source": [
    "5.\n",
    "H4ck3r Sp34k\n",
    "Create a function that takes a string as an argument and returns a coded (h4ck3r 5p34k) version of the string.\n",
    "\n",
    "Examples\n",
    "hacker_speak(\"javascript is cool\") ➞ \"j4v45cr1pt 15 c00l\"\n",
    "\n",
    "hacker_speak(\"programming is fun\") ➞ \"pr0gr4mm1ng 15 fun\"\n",
    "\n",
    "hacker_speak(\"become a coder\") ➞ \"b3c0m3 4 c0d3r\"\n",
    "\n",
    "\n",
    "Notes\n",
    "In order to work properly, the function should replace all \"a\"s with 4, \"e\"s with 3, \"i\"s with 1, \"o\"s with 0, and \"s\"s with 5."
   ]
  },
  {
   "cell_type": "code",
   "execution_count": 11,
   "id": "073f168c",
   "metadata": {},
   "outputs": [],
   "source": [
    "def hacker_speak(string):\n",
    "    string = string.replace('a', '4')\n",
    "    string = string.replace('e', '3')\n",
    "    string = string.replace('i', '1')\n",
    "    string = string.replace('o', '0')\n",
    "    string = string.replace('s', '5')\n",
    "    return string\n",
    "\n"
   ]
  },
  {
   "cell_type": "code",
   "execution_count": 12,
   "id": "e2024e34",
   "metadata": {},
   "outputs": [
    {
     "data": {
      "text/plain": [
       "'pr0gr4mm1ng 15 fun'"
      ]
     },
     "execution_count": 12,
     "metadata": {},
     "output_type": "execute_result"
    }
   ],
   "source": [
    "hacker_speak(\"programming is fun\")"
   ]
  },
  {
   "cell_type": "markdown",
   "id": "74daa7b3",
   "metadata": {},
   "source": [
    "6.\n",
    "Get the Century\n",
    "Create a function that takes in a year and returns the correct century.\n",
    "\n",
    "Examples\n",
    "century(1756) ➞ \"18th century\"\n",
    "\n",
    "century(1555) ➞ \"16th century\"\n",
    "\n",
    "century(1000) ➞ \"10th century\"\n",
    "\n",
    "century(1001) ➞ \"11th century\"\n",
    "\n",
    "century(2005) ➞ \"21st century\"\n",
    "Notes\n",
    "All years will be between 1000 and 2010.\n",
    "The 11th century is between 1001 and 1100."
   ]
  },
  {
   "cell_type": "code",
   "execution_count": 13,
   "id": "0720d4a8",
   "metadata": {},
   "outputs": [],
   "source": [
    "def century(year):\n",
    "    century_number = (year + 99) // 100 \n",
    "    suffix = \"th\"\n",
    "    if century_number % 10 == 1 and century_number != 11:\n",
    "        suffix = \"st\"\n",
    "    elif century_number % 10 == 2 and century_number != 12:\n",
    "        suffix = \"nd\"\n",
    "    elif century_number % 10 == 3 and century_number != 13:\n",
    "        suffix = \"rd\"\n",
    "    return str(century_number) + suffix + \" century\"\n"
   ]
  },
  {
   "cell_type": "code",
   "execution_count": 14,
   "id": "2d464999",
   "metadata": {},
   "outputs": [
    {
     "data": {
      "text/plain": [
       "'11th century'"
      ]
     },
     "execution_count": 14,
     "metadata": {},
     "output_type": "execute_result"
    }
   ],
   "source": [
    "century(1001)"
   ]
  },
  {
   "cell_type": "code",
   "execution_count": 15,
   "id": "a1c86cd0",
   "metadata": {},
   "outputs": [],
   "source": [
    "def century(year):\n",
    "    century_number = (year - 1) // 100 + 1\n",
    "    suffix = \"th\"\n",
    "    if century_number % 10 == 1 and century_number != 11:\n",
    "        suffix = \"st\"\n",
    "    elif century_number % 10 == 2 and century_number != 12:\n",
    "        suffix = \"nd\"\n",
    "    elif century_number % 10 == 3 and century_number != 13:\n",
    "        suffix = \"rd\"\n",
    "    return str(century_number) + suffix + \" century\"\n"
   ]
  },
  {
   "cell_type": "code",
   "execution_count": 16,
   "id": "606862ce",
   "metadata": {},
   "outputs": [
    {
     "data": {
      "text/plain": [
       "'11th century'"
      ]
     },
     "execution_count": 16,
     "metadata": {},
     "output_type": "execute_result"
    }
   ],
   "source": [
    "century(1001)"
   ]
  },
  {
   "cell_type": "code",
   "execution_count": null,
   "id": "15ee1bd7",
   "metadata": {},
   "outputs": [],
   "source": []
  }
 ],
 "metadata": {
  "kernelspec": {
   "display_name": "Python 3 (ipykernel)",
   "language": "python",
   "name": "python3"
  },
  "language_info": {
   "codemirror_mode": {
    "name": "ipython",
    "version": 3
   },
   "file_extension": ".py",
   "mimetype": "text/x-python",
   "name": "python",
   "nbconvert_exporter": "python",
   "pygments_lexer": "ipython3",
   "version": "3.10.9"
  }
 },
 "nbformat": 4,
 "nbformat_minor": 5
}
