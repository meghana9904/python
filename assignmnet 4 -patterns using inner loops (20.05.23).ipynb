{
 "cells": [
  {
   "cell_type": "code",
   "execution_count": 1,
   "id": "653cf8d2",
   "metadata": {},
   "outputs": [
    {
     "name": "stdout",
     "output_type": "stream",
     "text": [
      "\n",
      "1\n",
      "22\n",
      "333\n",
      "4444\n",
      "55555\n"
     ]
    }
   ],
   "source": [
    "#a\n",
    "\n",
    "for y in range(6):\n",
    "    for z in range(0,y):   \n",
    "        print(y,end=\"\")\n",
    "    print()"
   ]
  },
  {
   "cell_type": "code",
   "execution_count": 2,
   "id": "04ba9124",
   "metadata": {},
   "outputs": [
    {
     "name": "stdout",
     "output_type": "stream",
     "text": [
      "\n",
      "\n",
      "1 \n",
      "1 2 \n",
      "1 2 3 \n",
      "1 2 3 4 \n",
      "1 2 3 4 5 \n"
     ]
    }
   ],
   "source": [
    "#b\n",
    "\n",
    "\n",
    "for y in range(7):\n",
    "    for z in range(1,y):          \n",
    "        print(z,end=\" \")\n",
    "    print()"
   ]
  },
  {
   "cell_type": "code",
   "execution_count": 3,
   "id": "cd04218b",
   "metadata": {},
   "outputs": [
    {
     "name": "stdout",
     "output_type": "stream",
     "text": [
      "11111\n",
      "2222\n",
      "333\n",
      "44\n",
      "5\n"
     ]
    }
   ],
   "source": [
    "#c\n",
    "\n",
    "for y in range(1,6):\n",
    "    for z in range(y,6):\n",
    "        print(y,end=\"\")           \n",
    "    print()"
   ]
  },
  {
   "cell_type": "code",
   "execution_count": 1,
   "id": "fa63ce61",
   "metadata": {},
   "outputs": [
    {
     "name": "stdout",
     "output_type": "stream",
     "text": [
      "55555\n",
      "5555\n",
      "555\n",
      "55\n",
      "5\n"
     ]
    }
   ],
   "source": [
    "#d\n",
    "\n",
    "\n",
    "for y in range(1,6):\n",
    "    for z in range(y,6):               \n",
    "        print(\"5\",end=\"\")\n",
    "    print()"
   ]
  },
  {
   "cell_type": "code",
   "execution_count": 24,
   "id": "08122663",
   "metadata": {},
   "outputs": [
    {
     "name": "stdout",
     "output_type": "stream",
     "text": [
      "012345\n",
      "01234\n",
      "0123\n",
      "012\n",
      "01\n"
     ]
    }
   ],
   "source": [
    "#e\n",
    "\n",
    "for y in range(5):\n",
    "    for z in range(6-y):              \n",
    "        print(z,end=\"\")\n",
    "    print()"
   ]
  },
  {
   "cell_type": "code",
   "execution_count": 2,
   "id": "d168fa9f",
   "metadata": {},
   "outputs": [
    {
     "name": "stdout",
     "output_type": "stream",
     "text": [
      "1 \n",
      "3 3 \n",
      "5 5 5 \n",
      "7 7 7 7 \n",
      "9 9 9 9 9 \n"
     ]
    }
   ],
   "source": [
    "#f\n",
    "\n",
    "for y in range(1,10,2):\n",
    "    for z in range((y//2)+1):\n",
    "        print(y,end=\" \")                          \n",
    "    print()"
   ]
  },
  {
   "cell_type": "code",
   "execution_count": 11,
   "id": "52ca0543",
   "metadata": {},
   "outputs": [
    {
     "name": "stdout",
     "output_type": "stream",
     "text": [
      "55555\n",
      "4444\n",
      "333\n",
      "22\n",
      "1\n"
     ]
    }
   ],
   "source": [
    "#g\n",
    "\n",
    "for y in range(5,0,-1):\n",
    "    for z in range(y):\n",
    "        print(y,end=\"\")                    \n",
    "    print()"
   ]
  },
  {
   "cell_type": "code",
   "execution_count": 22,
   "id": "00df8f2a",
   "metadata": {},
   "outputs": [
    {
     "name": "stdout",
     "output_type": "stream",
     "text": [
      "1 \n",
      "2 1 \n",
      "3 2 1 \n",
      "4 3 2 1 \n",
      "5 4 3 2 1 \n"
     ]
    }
   ],
   "source": [
    "#h\n",
    "\n",
    "for y in range(1, 6):\n",
    "    for z in range(y, 0, -1):                   \n",
    "        print(z, end=' ')\n",
    "    print()"
   ]
  },
  {
   "cell_type": "code",
   "execution_count": 23,
   "id": "fdeb2187",
   "metadata": {},
   "outputs": [
    {
     "name": "stdout",
     "output_type": "stream",
     "text": [
      "5 4 3 2 1 \n",
      "4 3 2 1 \n",
      "3 2 1 \n",
      "2 1 \n",
      "1 \n"
     ]
    }
   ],
   "source": [
    "#i\n",
    "\n",
    "for y in range(5,0,-1):\n",
    "    for z in range(y, 0, -1):              \n",
    "        print(z,end=' ')\n",
    "    print()"
   ]
  },
  {
   "cell_type": "code",
   "execution_count": 10,
   "id": "34716300",
   "metadata": {},
   "outputs": [
    {
     "name": "stdout",
     "output_type": "stream",
     "text": [
      "* \n",
      "* * \n",
      "* * * \n",
      "* * * * \n",
      "* * * * * \n"
     ]
    }
   ],
   "source": [
    "#o\n",
    "\n",
    "for y in range(1, 6):\n",
    "    for z in range(y, 0, -1):                   \n",
    "        print(\"*\", end=' ')\n",
    "    print()"
   ]
  },
  {
   "cell_type": "code",
   "execution_count": 11,
   "id": "047c3dce",
   "metadata": {},
   "outputs": [
    {
     "name": "stdout",
     "output_type": "stream",
     "text": [
      "* * * * * \n",
      "* * * * \n",
      "* * * \n",
      "* * \n",
      "* \n"
     ]
    }
   ],
   "source": [
    "#q\n",
    "\n",
    "for y in range(5,0,-1):\n",
    "    for z in range(y, 0, -1):               \n",
    "        print(\"*\",end=' ')\n",
    "    print()"
   ]
  },
  {
   "cell_type": "code",
   "execution_count": 3,
   "id": "94439293",
   "metadata": {},
   "outputs": [
    {
     "name": "stdout",
     "output_type": "stream",
     "text": [
      "1 \n",
      "2 1 \n",
      "3 2 1 \n",
      "4 3 2 1 \n"
     ]
    }
   ],
   "source": [
    "#j\n",
    "\n",
    "1\n",
    "3 2\n",
    "6 5 4\n",
    "10 9 8 7\n"
   ]
  },
  {
   "cell_type": "code",
   "execution_count": 4,
   "id": "1cba9371",
   "metadata": {},
   "outputs": [
    {
     "name": "stdout",
     "output_type": "stream",
     "text": [
      "    1 \n",
      "   1 2 \n",
      "  1 2 3 \n",
      " 1 2 3 4 \n",
      "1 2 3 4 5 \n"
     ]
    }
   ],
   "source": [
    "\n",
    "for x in range(5):                           #k\n",
    "    for z in range(5 - x - 1):\n",
    "        print(\" \", end=\"\")\n",
    "    for z in range(x + 1):\n",
    "        print(z + 1, end=\" \")\n",
    "    \n",
    "    print()"
   ]
  },
  {
   "cell_type": "code",
   "execution_count": 4,
   "id": "969c1524",
   "metadata": {},
   "outputs": [
    {
     "name": "stdout",
     "output_type": "stream",
     "text": [
      "        * \n",
      "      * * \n",
      "    * * * \n",
      "  * * * * \n",
      "* * * * * \n"
     ]
    }
   ],
   "source": [
    "rows = 5 \n",
    "for i in range(rows):                       #p\n",
    "    for j in range(rows - i - 1):\n",
    "        print(\" \", end=\" \")\n",
    "    for k in range(i + 1):\n",
    "        print(\"*\", end=\" \")\n",
    "    \n",
    "    print() \n"
   ]
  },
  {
   "cell_type": "code",
   "execution_count": 3,
   "id": "d0b01383",
   "metadata": {},
   "outputs": [
    {
     "name": "stdout",
     "output_type": "stream",
     "text": [
      "12345\n",
      "22345\n",
      "33345\n",
      "44445\n",
      "55555\n"
     ]
    }
   ],
   "source": [
    "for x in range(1,6):\n",
    "    for y in range(1,6):\n",
    "        if y<=x:\n",
    "            print(x,end=\"\")          #m\n",
    "        else:\n",
    "            print(y,end=\"\")\n",
    "    print()\n",
    "        \n",
    "    "
   ]
  },
  {
   "cell_type": "code",
   "execution_count": 7,
   "id": "edf05eb8",
   "metadata": {},
   "outputs": [
    {
     "name": "stdout",
     "output_type": "stream",
     "text": [
      "1 \n",
      "2 4 \n",
      "3 6 9 \n",
      "4 8 12 16 \n",
      "5 10 15 20 25 \n",
      "6 12 18 24 30 36 \n",
      "7 14 21 28 35 42 49 \n",
      "8 16 24 32 40 48 56 64 \n"
     ]
    }
   ],
   "source": [
    "for x in range(1,9):\n",
    "    z=1\n",
    "    for y in range(1,x+1):\n",
    "        print(x*z,end=\" \")          #n\n",
    "        z+=1\n",
    "    print()"
   ]
  },
  {
   "cell_type": "code",
   "execution_count": 8,
   "id": "d504cd91",
   "metadata": {},
   "outputs": [
    {
     "name": "stdout",
     "output_type": "stream",
     "text": [
      "  * * * * * * \n",
      "   * * * * * \n",
      "    * * * * \n",
      "     * * * \n",
      "      * * \n",
      "       * \n"
     ]
    }
   ],
   "source": [
    "z=1\n",
    "for y in range(7,1,-1):            #r\n",
    "    print(\" \"*z,end=\" \")\n",
    "    for x in range(y,1,-1):\n",
    "        print(\"*\",end=\" \")\n",
    "    z+=1\n",
    "    print()"
   ]
  },
  {
   "cell_type": "code",
   "execution_count": 10,
   "id": "a9b3ae0b",
   "metadata": {},
   "outputs": [
    {
     "name": "stdout",
     "output_type": "stream",
     "text": [
      "  *****\n",
      "   ****\n",
      "    ***\n",
      "     **\n",
      "      *\n"
     ]
    }
   ],
   "source": [
    "z=1\n",
    "for y in range(6,1,-1):\n",
    "    print(\" \"*z,end=\" \")           #s\n",
    "    for x in range(y,1,-1):\n",
    "        print(\"*\",end=\"\")\n",
    "    z+=1\n",
    "    print()"
   ]
  },
  {
   "cell_type": "code",
   "execution_count": 11,
   "id": "417334b9",
   "metadata": {},
   "outputs": [
    {
     "name": "stdout",
     "output_type": "stream",
     "text": [
      "         * \n",
      "        * * \n",
      "       * * * \n",
      "      * * * * \n",
      "     * * * * * \n",
      "    * * * * * * \n",
      "   * * * * * * * \n"
     ]
    }
   ],
   "source": [
    "z=1\n",
    "for y in range(8,1,-1):\n",
    "    print(\" \"*y,end=\" \")             #t\n",
    "    for x in range(1,z+1):\n",
    "        print(\"*\",end=\" \")\n",
    "    z+=1\n",
    "    print()"
   ]
  },
  {
   "cell_type": "code",
   "execution_count": 12,
   "id": "8ee5c326",
   "metadata": {},
   "outputs": [
    {
     "name": "stdout",
     "output_type": "stream",
     "text": [
      "* \n",
      "* * \n",
      "* * * \n",
      "* * * * \n",
      "* * * * * \n",
      "* * * * * * \n",
      "\n",
      "* * * * * * \n",
      "* * * * * \n",
      "* * * * \n",
      "* * * \n",
      "* * \n",
      "* \n"
     ]
    }
   ],
   "source": [
    "for y in range(1,7):\n",
    "    for x in range(1,y+1):\n",
    "        print(\"*\",end=\" \")           #u\n",
    "    print()\n",
    "print()\n",
    "for y in range(7,1,-1):\n",
    "    for x in range(1,y):\n",
    "        print(\"*\",end=\" \")\n",
    "    print()"
   ]
  },
  {
   "cell_type": "code",
   "execution_count": 15,
   "id": "54ab5784",
   "metadata": {},
   "outputs": [
    {
     "name": "stdout",
     "output_type": "stream",
     "text": [
      "\n",
      "* \n",
      "* * \n",
      "* * * \n",
      "* * * * \n",
      "* * * * * \n",
      "* * * * \n",
      "* * * \n",
      "* * \n",
      "* \n"
     ]
    }
   ],
   "source": [
    "for y in range(1,6):\n",
    "    for x in range(1,y):\n",
    "        print(\"*\",end=\" \")           #v\n",
    "    print()\n",
    "for y in range(6,1,-1):\n",
    "    for x in range(1,y):\n",
    "        print(\"*\",end=\" \")\n",
    "    print()"
   ]
  },
  {
   "cell_type": "code",
   "execution_count": 16,
   "id": "2ea2721f",
   "metadata": {},
   "outputs": [
    {
     "name": "stdout",
     "output_type": "stream",
     "text": [
      "      *\n",
      "     **\n",
      "    ***\n",
      "   ****\n",
      "  *****\n",
      "   ****\n",
      "    ***\n",
      "     **\n",
      "      *\n"
     ]
    }
   ],
   "source": [
    "z=1\n",
    "for y in range(5,1,-1):\n",
    "    print(\" \"*y,end=\" \")\n",
    "    for x in range(1,z+1):           #w\n",
    "        print(\"*\",end=\"\")\n",
    "    z+=1\n",
    "    print()\n",
    "a=1\n",
    "for y in range(6,1,-1):\n",
    "    print(\" \"*a,end=\" \")\n",
    "    for x in range(1,y):\n",
    "        print(\"*\",end=\"\")\n",
    "    a+=1\n",
    "    print()"
   ]
  },
  {
   "cell_type": "code",
   "execution_count": 20,
   "id": "4d5948c5",
   "metadata": {},
   "outputs": [
    {
     "name": "stdout",
     "output_type": "stream",
     "text": [
      "  * * * * * \n",
      "   * * * * \n",
      "    * * * \n",
      "     * * \n",
      "      * \n",
      "      * \n",
      "     * * \n",
      "    * * * \n",
      "   * * * * \n",
      "  * * * * * \n"
     ]
    }
   ],
   "source": [
    "z=1\n",
    "for y in range(6,1,-1):            #x\n",
    "    print(\" \"*z,end=\" \")\n",
    "    for x in range(1,y):\n",
    "        print(\"*\",end=\" \")\n",
    "    z+=1\n",
    "    print()\n",
    "z=5\n",
    "for y in range(1,6):\n",
    "    print(\" \"*z,end=\" \")\n",
    "    for x in range(y+1,1,-1):\n",
    "        print(\"*\",end=\" \")\n",
    "    z-=1\n",
    "    print()"
   ]
  },
  {
   "cell_type": "code",
   "execution_count": 22,
   "id": "b9277b55",
   "metadata": {},
   "outputs": [
    {
     "name": "stdout",
     "output_type": "stream",
     "text": [
      "       * \n",
      "      * * \n",
      "     * * * \n",
      "    * * * * \n",
      "   * * * * * \n",
      "  * * * * * * \n",
      "   * * * * * \n",
      "    * * * * \n",
      "     * * * \n",
      "      * * \n",
      "       * \n"
     ]
    }
   ],
   "source": [
    "z=1\n",
    "for y in range(6,1,-1):\n",
    "    print(\" \"*y,end=\" \")             #y\n",
    "    for x in range(1,z+1):\n",
    "        print(\"*\",end=\" \")\n",
    "    z+=1\n",
    "    print()\n",
    "a=1\n",
    "for y in range(7,1,-1):            \n",
    "    print(\" \"*a,end=\" \")\n",
    "    for x in range(1,y):\n",
    "        print(\"*\",end=\" \")\n",
    "    a+=1\n",
    "    print()\n",
    "\n"
   ]
  },
  {
   "cell_type": "code",
   "execution_count": null,
   "id": "43971175",
   "metadata": {},
   "outputs": [],
   "source": [
    "#l\n",
    "\n",
    "\n"
   ]
  },
  {
   "cell_type": "code",
   "execution_count": null,
   "id": "6d2b7573",
   "metadata": {},
   "outputs": [],
   "source": [
    "#z\n",
    "\n",
    "#    *\n",
    "#   * *\n",
    "#  *   *\n",
    "# *     *\n",
    "#*       *\n",
    "# *     *\n",
    "#  *   *\n",
    "#   * *\n",
    "#    *"
   ]
  }
 ],
 "metadata": {
  "kernelspec": {
   "display_name": "Python 3 (ipykernel)",
   "language": "python",
   "name": "python3"
  },
  "language_info": {
   "codemirror_mode": {
    "name": "ipython",
    "version": 3
   },
   "file_extension": ".py",
   "mimetype": "text/x-python",
   "name": "python",
   "nbconvert_exporter": "python",
   "pygments_lexer": "ipython3",
   "version": "3.10.9"
  }
 },
 "nbformat": 4,
 "nbformat_minor": 5
}
