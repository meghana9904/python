{
 "cells": [
  {
   "cell_type": "code",
   "execution_count": 9,
   "id": "f43ba8cd",
   "metadata": {},
   "outputs": [
    {
     "name": "stdout",
     "output_type": "stream",
     "text": [
      " * * *\n",
      "      *\n",
      "  * * *\n",
      "*     *\n",
      "* * * *\n"
     ]
    }
   ],
   "source": [
    "x=0\n",
    "while x<5:\n",
    "    if x==0 :\n",
    "         print(\" * * *\")\n",
    "    elif x==1:\n",
    "        print(\"      *\")\n",
    "        \n",
    "    elif x==2:\n",
    "        print(\"  * * *\")\n",
    "    elif x==3:\n",
    "          print(\"*     *\")\n",
    "    else:\n",
    "         print(\"* * * *\")\n",
    "    x=x+1"
   ]
  },
  {
   "cell_type": "code",
   "execution_count": 7,
   "id": "f48241f2",
   "metadata": {},
   "outputs": [
    {
     "name": "stdout",
     "output_type": "stream",
     "text": [
      "*\n",
      "*\n",
      "* *\n",
      "*   *\n",
      "*   *\n",
      "* *\n"
     ]
    }
   ],
   "source": [
    "x=0\n",
    "while x<6:\n",
    "    if x==0 or x==1:\n",
    "        print(\"*\")\n",
    "    elif x==2 or x==5:\n",
    "        print(\"* *\")\n",
    "    else:\n",
    "        print(\"*   *\")\n",
    "    x=x+1"
   ]
  },
  {
   "cell_type": "code",
   "execution_count": 19,
   "id": "09ff4d5d",
   "metadata": {},
   "outputs": [
    {
     "name": "stdout",
     "output_type": "stream",
     "text": [
      "  * *\n",
      "* \n",
      "*   \n",
      "* \n",
      "  * *\n"
     ]
    }
   ],
   "source": [
    "x=0\n",
    "while x<5:\n",
    "    if x==0 or x==4:\n",
    "        print(\"  * *\")\n",
    "    elif x==1 or x==3:\n",
    "        print(\"* \")\n",
    "    else:\n",
    "        print(\"*   \")\n",
    "    x=x+1\n",
    "    "
   ]
  },
  {
   "cell_type": "code",
   "execution_count": 22,
   "id": "fcd71ccc",
   "metadata": {},
   "outputs": [
    {
     "name": "stdout",
     "output_type": "stream",
     "text": [
      "    *\n",
      "    *\n",
      "  * *\n",
      "*   *\n",
      "*   *\n",
      "  * *\n"
     ]
    }
   ],
   "source": [
    "x=0\n",
    "while x<6:\n",
    "    if x==0 or x==1:\n",
    "        print(\"    *\")\n",
    "    elif x==2 or x==5:\n",
    "        print(\"  * *\")\n",
    "    else:\n",
    "        print(\"*   *\")\n",
    "    x=x+1"
   ]
  },
  {
   "cell_type": "code",
   "execution_count": 23,
   "id": "48b978ce",
   "metadata": {},
   "outputs": [
    {
     "name": "stdout",
     "output_type": "stream",
     "text": [
      "  * *\n",
      "*   * \n",
      "* * *\n",
      "*   \n",
      "  * *\n"
     ]
    }
   ],
   "source": [
    "x=0\n",
    "while x<5:\n",
    "    if x==0 or x==4:\n",
    "        print(\"  * *\")\n",
    "    elif x==1 :\n",
    "        print(\"*   * \")\n",
    "    elif x==2:\n",
    "        print(\"* * *\")\n",
    "    else:\n",
    "        print(\"*   \")\n",
    "    x=x+1\n",
    "    "
   ]
  },
  {
   "cell_type": "code",
   "execution_count": 25,
   "id": "4e9eca7c",
   "metadata": {},
   "outputs": [
    {
     "name": "stdout",
     "output_type": "stream",
     "text": [
      "  * *\n",
      "  *   * \n",
      "  * \n",
      "* * *\n",
      "  * \n",
      "  * \n"
     ]
    }
   ],
   "source": [
    "x=0\n",
    "while x<6:\n",
    "    if x==0 :\n",
    "        print(\"  * *\")\n",
    "    elif x==1 :\n",
    "        print(\"  *   * \")\n",
    "    elif x==2 or x==4 or x==5:\n",
    "        print(\"  * \")\n",
    "    \n",
    "    else:\n",
    "        print(\"* * *\")\n",
    "    x=x+1\n",
    "\n",
    "    "
   ]
  },
  {
   "cell_type": "code",
   "execution_count": 30,
   "id": "50509a79",
   "metadata": {},
   "outputs": [
    {
     "name": "stdout",
     "output_type": "stream",
     "text": [
      "  * \n",
      "*   *\n",
      "*   *\n",
      "  * *\n",
      "    *\n",
      "    *\n",
      "*   *\n",
      "  * \n"
     ]
    }
   ],
   "source": [
    "x=0\n",
    "while x<8:\n",
    "    if x==0  or x==7 :\n",
    "        print(\"  * \")\n",
    "    elif x==1 or x==2 or x==6  :\n",
    "        print(\"*   *\")\n",
    "    elif x==3:\n",
    "        print(\"  * *\")\n",
    "    else:\n",
    "        print(\"    *\")\n",
    "    x=x+1\n"
   ]
  },
  {
   "cell_type": "code",
   "execution_count": 43,
   "id": "a5e5562c",
   "metadata": {},
   "outputs": [
    {
     "name": "stdout",
     "output_type": "stream",
     "text": [
      "* \n",
      "* \n",
      "* \n",
      "* * *\n",
      "*   *\n"
     ]
    }
   ],
   "source": [
    "x=0\n",
    "while x<5:\n",
    "    if x==3  :\n",
    "        print(\"* * *\")\n",
    "    elif x==0  or x==1:\n",
    "        print(\"* \")\n",
    "    elif x==2:\n",
    "        print(\"* \")\n",
    "        \n",
    "    else:\n",
    "        print(\"*   *\")\n",
    "    x=x+1"
   ]
  },
  {
   "cell_type": "code",
   "execution_count": 44,
   "id": "be34afef",
   "metadata": {},
   "outputs": [
    {
     "name": "stdout",
     "output_type": "stream",
     "text": [
      " * \n",
      " \n",
      " * \n",
      " *\n",
      " *\n"
     ]
    }
   ],
   "source": [
    "x=0\n",
    "while x<5:\n",
    "    if x==0  :\n",
    "        print(\" * \")\n",
    "    elif  x==1:\n",
    "        print(\" \")\n",
    "    elif x==2:\n",
    "        print(\" * \")\n",
    "        \n",
    "    else:\n",
    "        print(\" *\")\n",
    "    x=x+1"
   ]
  },
  {
   "cell_type": "code",
   "execution_count": 47,
   "id": "7cf160ba",
   "metadata": {},
   "outputs": [
    {
     "name": "stdout",
     "output_type": "stream",
     "text": [
      "    * \n",
      " \n",
      "    * \n",
      "    * \n",
      "*   *\n",
      "* * *\n"
     ]
    }
   ],
   "source": [
    "x=0\n",
    "while x<6:\n",
    "    if x==0  :\n",
    "        print(\"    * \")\n",
    "    elif  x==1:\n",
    "        print(\" \")\n",
    "    elif x==2 or x==3:\n",
    "        print(\"    * \")\n",
    "    elif x==4:\n",
    "        print(\"*   *\")\n",
    "        \n",
    "    else:\n",
    "        print(\"* * *\")\n",
    "    x=x+1"
   ]
  },
  {
   "cell_type": "code",
   "execution_count": 52,
   "id": "bf5e9e66",
   "metadata": {},
   "outputs": [
    {
     "name": "stdout",
     "output_type": "stream",
     "text": [
      "*  \n",
      "* *\n",
      "**\n",
      "* *\n"
     ]
    }
   ],
   "source": [
    "x=0\n",
    "while x<4:\n",
    "    if x==0:\n",
    "        print(\"*  \")\n",
    "    elif x==1 or x==3:\n",
    "        print(\"* *\")\n",
    "    else:\n",
    "        print(\"**\")\n",
    "    x=x+1"
   ]
  },
  {
   "cell_type": "code",
   "execution_count": 54,
   "id": "1cb799e1",
   "metadata": {},
   "outputs": [
    {
     "name": "stdout",
     "output_type": "stream",
     "text": [
      "*  \n",
      "*  \n",
      "*  \n",
      "*  \n"
     ]
    }
   ],
   "source": [
    "x=0\n",
    "while x<4:\n",
    "    if x==0 or x==1 or x==2 or x==3:\n",
    "        print(\"*  \")\n",
    "    x=x+1"
   ]
  },
  {
   "cell_type": "code",
   "execution_count": 1,
   "id": "f4728f84",
   "metadata": {},
   "outputs": [
    {
     "name": "stdout",
     "output_type": "stream",
     "text": [
      "* *  * * \n",
      "*  *   *\n",
      "*  *   *\n",
      "*  *   *\n"
     ]
    }
   ],
   "source": [
    "x=0\n",
    "while x<4:\n",
    "    if x==0:\n",
    "        print(\"* *  * * \")\n",
    "    \n",
    "    else:\n",
    "        print(\"*  *   *\")\n",
    "    x=x+1"
   ]
  },
  {
   "cell_type": "code",
   "execution_count": 2,
   "id": "7500f0ec",
   "metadata": {},
   "outputs": [
    {
     "name": "stdout",
     "output_type": "stream",
     "text": [
      "* *  \n",
      "*  *   \n",
      "*  *   \n",
      "*  *   \n"
     ]
    }
   ],
   "source": [
    "x=0\n",
    "while x<4:\n",
    "    if x==0:\n",
    "        print(\"* *  \")\n",
    "    \n",
    "    else:\n",
    "        print(\"*  *   \")\n",
    "    x=x+1"
   ]
  },
  {
   "cell_type": "code",
   "execution_count": 3,
   "id": "76a5e262",
   "metadata": {},
   "outputs": [
    {
     "name": "stdout",
     "output_type": "stream",
     "text": [
      "* * *\n",
      "*   * \n",
      "*   * \n",
      "* * *\n"
     ]
    }
   ],
   "source": [
    "x=0\n",
    "while x<4:\n",
    "    if x==0 or x==3:\n",
    "        print(\"* * *\")\n",
    "    elif x==1 or x==2:\n",
    "        print(\"*   * \")\n",
    "    x=x+1"
   ]
  },
  {
   "cell_type": "code",
   "execution_count": 4,
   "id": "2bae2786",
   "metadata": {},
   "outputs": [
    {
     "name": "stdout",
     "output_type": "stream",
     "text": [
      "* * *\n",
      "*    *\n",
      "* * *\n",
      "*\n",
      "*\n"
     ]
    }
   ],
   "source": [
    "x=0\n",
    "while x<5:\n",
    "    if x==0 or x==2:\n",
    "        print(\"* * *\")\n",
    "    elif x==3 or x==4:\n",
    "        print(\"*\")\n",
    "    else:\n",
    "        print(\"*    *\")\n",
    "    x=x+1"
   ]
  },
  {
   "cell_type": "code",
   "execution_count": 7,
   "id": "e4f68002",
   "metadata": {},
   "outputs": [
    {
     "name": "stdout",
     "output_type": "stream",
     "text": [
      "* * *\n",
      "*    *\n",
      "* * *\n",
      "    *   \n",
      "    *   \n"
     ]
    }
   ],
   "source": [
    "x=0\n",
    "while x<5:\n",
    "    if x==0 or x==2:\n",
    "        print(\"* * *\")\n",
    "    elif x==3 or x==4:\n",
    "        print(\"    *   \")\n",
    "    else:\n",
    "        print(\"*    *\")\n",
    "    x=x+1"
   ]
  },
  {
   "cell_type": "code",
   "execution_count": 11,
   "id": "315fedd2",
   "metadata": {},
   "outputs": [
    {
     "name": "stdout",
     "output_type": "stream",
     "text": [
      "*   *\n",
      "* *   \n",
      "*    \n",
      "*    \n",
      "*    \n"
     ]
    }
   ],
   "source": [
    "x=0\n",
    "while x<5:\n",
    "    if x==0 :\n",
    "        print(\"*   *\")\n",
    "    elif x==1 :\n",
    "        print(\"* *   \")\n",
    "    else:\n",
    "        print(\"*    \")\n",
    "    x=x+1"
   ]
  },
  {
   "cell_type": "code",
   "execution_count": 12,
   "id": "527e4750",
   "metadata": {},
   "outputs": [
    {
     "name": "stdout",
     "output_type": "stream",
     "text": [
      "* * *\n",
      "*\n",
      "* * *\n",
      "    *\n",
      "* * *\n"
     ]
    }
   ],
   "source": [
    "x=0 \n",
    "while x<5:\n",
    "    if x==0 or x==2 or x==4:\n",
    "        print(\"* * *\")\n",
    "    elif x==1:\n",
    "        print(\"*\")\n",
    "    else:\n",
    "        print(\"    *\")\n",
    "    x=x+1"
   ]
  },
  {
   "cell_type": "code",
   "execution_count": 14,
   "id": "6172b9c2",
   "metadata": {},
   "outputs": [
    {
     "name": "stdout",
     "output_type": "stream",
     "text": [
      " *\n",
      " *\n",
      "* * *\n",
      " *\n",
      " * * *\n"
     ]
    }
   ],
   "source": [
    "x=0 \n",
    "while x<5:\n",
    "    if x==0 or x==1 or x==3:\n",
    "        print(\" *\")\n",
    "    elif x==2:\n",
    "        print(\"* * *\")\n",
    "    else:\n",
    "        print(\" * * *\")\n",
    "    x=x+1"
   ]
  },
  {
   "cell_type": "code",
   "execution_count": 16,
   "id": "5b291ab5",
   "metadata": {},
   "outputs": [
    {
     "name": "stdout",
     "output_type": "stream",
     "text": [
      "*     * \n",
      "*     * \n",
      "*     * \n",
      "  ***  \n"
     ]
    }
   ],
   "source": [
    "x=0 \n",
    "while x<4:\n",
    "    if x==0 or x==1 or x==2:\n",
    "        print(\"*     * \")\n",
    "    elif x==3:\n",
    "        print(\"  ***  \")\n",
    "   \n",
    "    x=x+1"
   ]
  },
  {
   "cell_type": "code",
   "execution_count": 17,
   "id": "71f7418b",
   "metadata": {},
   "outputs": [
    {
     "name": "stdout",
     "output_type": "stream",
     "text": [
      "*     * \n",
      "*     * \n",
      "*     * \n",
      "   *  \n"
     ]
    }
   ],
   "source": [
    "x=0 \n",
    "while x<4:\n",
    "    if x==0 or x==1 or x==2:\n",
    "        print(\"*     * \")\n",
    "    elif x==3:\n",
    "        print(\"   *  \")\n",
    "   \n",
    "    x=x+1"
   ]
  },
  {
   "cell_type": "code",
   "execution_count": 21,
   "id": "97b849cc",
   "metadata": {},
   "outputs": [
    {
     "name": "stdout",
     "output_type": "stream",
     "text": [
      "*  *   *\n",
      "*  *   *\n",
      "*  *   *\n",
      "*  *   *\n",
      "* *  * * \n"
     ]
    }
   ],
   "source": [
    "x=0\n",
    "while x<5:\n",
    "    if x==4:\n",
    "        print(\"* *  * * \")\n",
    "    \n",
    "    else:\n",
    "        print(\"*  *   *\")\n",
    "    x=x+1"
   ]
  },
  {
   "cell_type": "code",
   "execution_count": 22,
   "id": "b09966b4",
   "metadata": {},
   "outputs": [
    {
     "name": "stdout",
     "output_type": "stream",
     "text": [
      "*         *\n",
      "  *     *  \n",
      "     *    \n",
      "  *     *  \n",
      "*         *\n"
     ]
    }
   ],
   "source": [
    "x=0 \n",
    "while x<5:\n",
    "    if x==0 or x==4:\n",
    "         print(\"*         *\")\n",
    "    elif x==1 or x==3:\n",
    "         print(\"  *     *  \")\n",
    "    else:\n",
    "        print(\"     *    \")\n",
    "    x=x+1"
   ]
  },
  {
   "cell_type": "code",
   "execution_count": 23,
   "id": "40919e5f",
   "metadata": {},
   "outputs": [
    {
     "name": "stdout",
     "output_type": "stream",
     "text": [
      "*         *\n",
      "  *     *  \n",
      "     *    \n",
      "   *        \n",
      "*         \n"
     ]
    }
   ],
   "source": [
    "x=0 \n",
    "while x<5:\n",
    "    if x==0:\n",
    "        print(\"*         *\")\n",
    "    elif x==1:\n",
    "        print(\"  *     *  \")\n",
    "    elif x==2:\n",
    "        print(\"     *    \")\n",
    "    elif x==3:\n",
    "        print(\"   *        \")\n",
    "    else:\n",
    "        print(\"*         \")\n",
    "    x=x+1"
   ]
  },
  {
   "cell_type": "code",
   "execution_count": 24,
   "id": "0fa10fc0",
   "metadata": {},
   "outputs": [
    {
     "name": "stdout",
     "output_type": "stream",
     "text": [
      "****\n",
      "  *\n",
      " *\n",
      "****\n"
     ]
    }
   ],
   "source": [
    "x=0 \n",
    "while x<4:\n",
    "    if x==0 or x==3:\n",
    "        print(\"****\")\n",
    "    elif x==1 :\n",
    "        print(\"  *\")\n",
    "    else:\n",
    "        print(\" *\")\n",
    "    x=x+1"
   ]
  }
 ],
 "metadata": {
  "kernelspec": {
   "display_name": "Python 3 (ipykernel)",
   "language": "python",
   "name": "python3"
  },
  "language_info": {
   "codemirror_mode": {
    "name": "ipython",
    "version": 3
   },
   "file_extension": ".py",
   "mimetype": "text/x-python",
   "name": "python",
   "nbconvert_exporter": "python",
   "pygments_lexer": "ipython3",
   "version": "3.10.9"
  }
 },
 "nbformat": 4,
 "nbformat_minor": 5
}
