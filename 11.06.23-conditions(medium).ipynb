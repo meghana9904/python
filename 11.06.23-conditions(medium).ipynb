{
 "cells": [
  {
   "cell_type": "markdown",
   "id": "83d057a4",
   "metadata": {},
   "source": [
    "#1 Adding Numbers\n",
    "Create a function that takes two number strings and returns their sum as a string.\n",
    "\n",
    "Examples\n",
    "add(\"111\", \"111\") ➞ \"222\"\n",
    "\n",
    "add(\"10\", \"80\") ➞ \"90\"\n",
    "\n",
    "add(\"\", \"20\") ➞ \"Invalid Operation\"\n",
    "Notes\n",
    "If any input is \"\" or None, return \"Invalid Operation\"."
   ]
  },
  {
   "cell_type": "code",
   "execution_count": 2,
   "id": "8aaae65b",
   "metadata": {},
   "outputs": [],
   "source": [
    "def add(num1, num2):\n",
    "    if num1 and num2 and num1.isdigit() and num2.isdigit():\n",
    "        return str(int(num1) + int(num2))\n",
    "    else:\n",
    "        return \"Invalid Operation\"\n"
   ]
  },
  {
   "cell_type": "code",
   "execution_count": 3,
   "id": "2544bed1",
   "metadata": {},
   "outputs": [
    {
     "data": {
      "text/plain": [
       "'50'"
      ]
     },
     "execution_count": 3,
     "metadata": {},
     "output_type": "execute_result"
    }
   ],
   "source": [
    "add(\"20\",\"30\")"
   ]
  },
  {
   "cell_type": "markdown",
   "id": "52143d22",
   "metadata": {},
   "source": [
    "#2 Quadratic Equation\n",
    "Create a function to find only the root value of x in any quadratic equation ax^2 + bx + c. The function will take three arguments:\n",
    "\n",
    "a as the coefficient of x^2\n",
    "b as the coefficient of x\n",
    "c as the constant term\n",
    "Examples\n",
    "quadratic_equation(1, 2, -3) ➞ 1\n",
    "\n",
    "quadratic_equation(2, -7, 3) ➞ 3\n",
    "\n",
    "quadratic_equation(1, -12, -28) ➞ 14\n",
    "Notes\n",
    "Quadratic equation is always guaranteed to have a root.\n",
    "Check the Resources tab for more information on quadratic equations.\n",
    "Calculate only the root that sums the square root of the discriminant, not the one that subtracts it.\n",
    "Round the value / return only integer value."
   ]
  },
  {
   "cell_type": "code",
   "execution_count": 3,
   "id": "95ce0692",
   "metadata": {},
   "outputs": [],
   "source": [
    "def quadratic_equation(a, b, c):\n",
    "    discriminant = b**2 - 4*a*c\n",
    "    root = (-b + (discriminant ** 0.5)) / (2*a)\n",
    "    return root\n"
   ]
  },
  {
   "cell_type": "code",
   "execution_count": 4,
   "id": "4c14db40",
   "metadata": {},
   "outputs": [
    {
     "data": {
      "text/plain": [
       "3.0"
      ]
     },
     "execution_count": 4,
     "metadata": {},
     "output_type": "execute_result"
    }
   ],
   "source": [
    "quadratic_equation(2,-7,3)"
   ]
  },
  {
   "cell_type": "markdown",
   "id": "7884c00f",
   "metadata": {},
   "source": [
    "#3 Two Distinct Elements\n",
    "In each input list, every number repeats at least once, except for two. Write a function that returns the two unique numbers.\n",
    "\n",
    "Examples\n",
    "return_unique([1, 9, 8, 8, 7, 6, 1, 6]) ➞ [9, 7]\n",
    "\n",
    "return_unique([5, 5, 2, 4, 4, 4, 9, 9, 9, 1]) ➞ [2, 1]\n",
    "\n",
    "return_unique([9, 5, 6, 8, 7, 7, 1, 1, 1, 1, 1, 9, 8]) ➞ [5, 6]\n",
    "Notes\n",
    "Keep the same ordering in the output."
   ]
  },
  {
   "cell_type": "code",
   "execution_count": 32,
   "id": "614cf7ac",
   "metadata": {},
   "outputs": [],
   "source": [
    "def return_unique(nums):\n",
    "    unique_numbers = []\n",
    "    for num in nums:\n",
    "        if nums.count(num) == 1:\n",
    "            unique_numbers.append(num)\n",
    "    return unique_numbers\n"
   ]
  },
  {
   "cell_type": "code",
   "execution_count": 33,
   "id": "8732953a",
   "metadata": {},
   "outputs": [
    {
     "data": {
      "text/plain": [
       "[5, 6]"
      ]
     },
     "execution_count": 33,
     "metadata": {},
     "output_type": "execute_result"
    }
   ],
   "source": [
    "return_unique([1,2,3,4,1,2,3,4,5,6])"
   ]
  },
  {
   "cell_type": "markdown",
   "id": "9d6520dd",
   "metadata": {},
   "source": [
    "#4 Stupid Addition\n",
    "Create a function that takes two parameters and, if both parameters are strings, add them as if they were integers or if the two parameters are integers, concatenate them.\n",
    "\n",
    "Examples\n",
    "stupid_addition(1, 2) ➞ \"12\"\n",
    "\n",
    "stupid_addition(\"1\", \"2\") ➞ 3\n",
    "\n",
    "stupid_addition(\"1\", 2) ➞ None\n",
    "Notes\n",
    "If the two parameters are different data types, return None.\n",
    "All parameters will either be strings or integers."
   ]
  },
  {
   "cell_type": "code",
   "execution_count": 5,
   "id": "0e5504a8",
   "metadata": {},
   "outputs": [],
   "source": [
    "def stupid_addition(param1, param2):\n",
    "    if type(param1) == str and type(param2) == str:\n",
    "        return int(param1) + int(param2)\n",
    "    elif type(param1) == int and type(param2) == int:\n",
    "        return str(param1) + str(param2)\n",
    "    else:\n",
    "        return None\n",
    "\n"
   ]
  },
  {
   "cell_type": "code",
   "execution_count": 6,
   "id": "73343467",
   "metadata": {},
   "outputs": [
    {
     "data": {
      "text/plain": [
       "3"
      ]
     },
     "execution_count": 6,
     "metadata": {},
     "output_type": "execute_result"
    }
   ],
   "source": [
    "stupid_addition(\"1\", \"2\")"
   ]
  },
  {
   "cell_type": "code",
   "execution_count": 7,
   "id": "de8255b5",
   "metadata": {},
   "outputs": [
    {
     "data": {
      "text/plain": [
       "'12'"
      ]
     },
     "execution_count": 7,
     "metadata": {},
     "output_type": "execute_result"
    }
   ],
   "source": [
    "stupid_addition(1, 2)"
   ]
  },
  {
   "cell_type": "code",
   "execution_count": 8,
   "id": "44a8d77c",
   "metadata": {},
   "outputs": [],
   "source": [
    "stupid_addition(\"1\", 2) "
   ]
  },
  {
   "cell_type": "markdown",
   "id": "4b310a6d",
   "metadata": {},
   "source": [
    "#5 Transcribe to mRNA\n",
    "Transcribe the given DNA strand into corresponding mRNA - a type of RNA, that will be formed from it after transcription. DNA has the bases A, T, G and C, while RNA converts to U, A, C and G respectively.\n",
    "\n",
    "Examples\n",
    "dna_to_rna(\"ATTAGCGCGATATACGCGTAC\") ➞ \"UAAUCGCGCUAUAUGCGCAUG\"\n",
    "\n",
    "dna_to_rna(\"CGATATA\") ➞ \"GCUAUAU\"\n",
    "\n",
    "dna_to_rna(\"GTCATACGACGTA\") ➞ \"CAGUAUGCUGCAU\"\n",
    "Notes\n",
    "Transcription is the process of making complementary strand.\n",
    "A, T, G and C in DNA converts to U, A, C and G respectively, when in mRNA."
   ]
  },
  {
   "cell_type": "code",
   "execution_count": 21,
   "id": "beba4940",
   "metadata": {},
   "outputs": [],
   "source": [
    "dna_to_rna(\"CGATATA\")"
   ]
  },
  {
   "cell_type": "code",
   "execution_count": 26,
   "id": "8ff7e091",
   "metadata": {},
   "outputs": [],
   "source": [
    " def dna_to_rna(dna):\n",
    "    rna = \"\"\n",
    "    for base in dna:\n",
    "        if base == \"A\":\n",
    "            rna += \"U\"\n",
    "        elif base == \"T\":\n",
    "            rna += \"A\"\n",
    "        elif base == \"G\":\n",
    "            rna += \"C\"\n",
    "        elif base == \"C\":\n",
    "            rna += \"G\"\n",
    "    return rna\n"
   ]
  },
  {
   "cell_type": "code",
   "execution_count": 27,
   "id": "029e8580",
   "metadata": {},
   "outputs": [
    {
     "data": {
      "text/plain": [
       "'GCUAUAU'"
      ]
     },
     "execution_count": 27,
     "metadata": {},
     "output_type": "execute_result"
    }
   ],
   "source": [
    "dna_to_rna(\"CGATATA\")"
   ]
  },
  {
   "cell_type": "markdown",
   "id": "fd6fe63c",
   "metadata": {},
   "source": [
    "#6 A Long Long Time\n",
    "Create a function that takes three values:\n",
    "\n",
    "h hours\n",
    "m minutes\n",
    "s seconds\n",
    "Return the value that's the longest duration.\n",
    "\n",
    "Examples\n",
    "longest_time(1, 59, 3598) ➞ 1\n",
    "\n",
    "longest_time(2, 300, 15000) ➞ 300\n",
    "\n",
    "longest_time(15, 955, 59400) ➞ 59400\n",
    "Notes\n",
    "No two durations will be the same."
   ]
  },
  {
   "cell_type": "code",
   "execution_count": 29,
   "id": "fa9bf882",
   "metadata": {},
   "outputs": [],
   "source": [
    "def longest_time(h,m,s):\n",
    "    H=h*3600\n",
    "    M=m*60\n",
    "    S=s*1\n",
    "    if H>M and H>S:\n",
    "        return h\n",
    "    elif M>H and M>s:\n",
    "        return m\n",
    "    else:\n",
    "        return s"
   ]
  },
  {
   "cell_type": "code",
   "execution_count": 30,
   "id": "6aa9200c",
   "metadata": {},
   "outputs": [
    {
     "data": {
      "text/plain": [
       "1"
      ]
     },
     "execution_count": 30,
     "metadata": {},
     "output_type": "execute_result"
    }
   ],
   "source": [
    "longest_time(1,59,3598)"
   ]
  },
  {
   "cell_type": "markdown",
   "id": "f4d45fac",
   "metadata": {},
   "source": [
    "#7 Likes vs. Dislikes\n",
    "YouTube currently displays a like and a dislike button, allowing you to express your opinions about particular content. It's set up in such a way that you cannot like and dislike a video at the same time.\n",
    "\n",
    "There are two other interesting rules to be noted about the interface:\n",
    "\n",
    "Pressing a button, which is already active, will undo your press.\n",
    "If you press the like button after pressing the dislike button, the like button overwrites the previous \"dislike\" state. The same is true for the other way round.\n",
    "Create a function that takes in a list of button inputs and returns the final state.\n",
    "\n",
    "Examples\n",
    "like_or_dislike([\"Dislike\"]) ➞ \"Dislike\"\n",
    "\n",
    "like_or_dislike([\"Like\", \"Like\"]) ➞ \"Nothing\"\n",
    "\n",
    "like_or_dislike([\"Dislike\", \"Like\"]) ➞ \"Like\"\n",
    "\n",
    "like_or_dislike([\"Like\", \"Dislike\", \"Dislike\"]) ➞ \"Nothing\"\n",
    "Notes\n",
    "If no button is currently active, return \"Nothing\".\n",
    "If the list is empty, return \"Nothing\"."
   ]
  },
  {
   "cell_type": "code",
   "execution_count": 27,
   "id": "4402ef11",
   "metadata": {},
   "outputs": [],
   "source": [
    "def like_or_dislike(buttons):\n",
    "    if not buttons:\n",
    "        return \"Nothing\"\n",
    "    elif \"Like\" in buttons and \"Dislike\" in buttons:\n",
    "        return \"Nothing\"\n",
    "    elif \"Like\" in buttons:\n",
    "        return \"Like\"\n",
    "    elif \"Dislike\" in buttons:\n",
    "        return \"Dislike\"\n",
    "    else:\n",
    "        return \"Nothing\""
   ]
  },
  {
   "cell_type": "code",
   "execution_count": 28,
   "id": "a8bb9392",
   "metadata": {},
   "outputs": [
    {
     "data": {
      "text/plain": [
       "'Nothing'"
      ]
     },
     "execution_count": 28,
     "metadata": {},
     "output_type": "execute_result"
    }
   ],
   "source": [
    "like_or_dislike([\"Like\", \"Dislike\", \"Dislike\"])"
   ]
  },
  {
   "cell_type": "code",
   "execution_count": 29,
   "id": "339d47e7",
   "metadata": {},
   "outputs": [
    {
     "data": {
      "text/plain": [
       "'Dislike'"
      ]
     },
     "execution_count": 29,
     "metadata": {},
     "output_type": "execute_result"
    }
   ],
   "source": [
    "like_or_dislike([\"Dislike\"])"
   ]
  },
  {
   "cell_type": "code",
   "execution_count": 30,
   "id": "dc0fa157",
   "metadata": {},
   "outputs": [
    {
     "data": {
      "text/plain": [
       "'Like'"
      ]
     },
     "execution_count": 30,
     "metadata": {},
     "output_type": "execute_result"
    }
   ],
   "source": [
    "like_or_dislike([\"Like\", \"Like\"])"
   ]
  },
  {
   "cell_type": "code",
   "execution_count": 31,
   "id": "f498e4d3",
   "metadata": {},
   "outputs": [
    {
     "data": {
      "text/plain": [
       "'Nothing'"
      ]
     },
     "execution_count": 31,
     "metadata": {},
     "output_type": "execute_result"
    }
   ],
   "source": [
    "like_or_dislike([\"Dislike\", \"Like\"])"
   ]
  },
  {
   "cell_type": "markdown",
   "id": "e70e842f",
   "metadata": {},
   "source": [
    "#8 Oddish vs. Evenish\n",
    "Create a function that determines whether a number is Oddish or Evenish. A number is Oddish if the sum of all of its digits is odd, and a number is Evenish if the sum of all of its digits is even. If a number is Oddish, return \"Oddish\". Otherwise, return \"Evenish\".\n",
    "\n",
    "For example, oddish_or_evenish(121) should return \"Evenish\", since 1 + 2 + 1 = 4. oddish_or_evenish(41) should return \"Oddish\", since 4 + 1 = 5.\n",
    "\n",
    "Examples\n",
    "oddish_or_evenish(43) ➞ \"Oddish\"\n",
    "# 4 + 3 = 7\n",
    "# 7 % 2 = 1\n",
    "\n",
    "oddish_or_evenish(373) ➞ \"Oddish\"\n",
    "# 3 + 7 + 3 = 13\n",
    "# 13 % 2 = 1\n",
    "\n",
    "oddish_or_evenish(4433) ➞ \"Evenish\"\n",
    "# 4 + 4 + 3 + 3 = 14\n",
    "# 14 % 2 = 0\n",
    "Notes\n",
    "N/A"
   ]
  },
  {
   "cell_type": "code",
   "execution_count": 11,
   "id": "90ae4d7e",
   "metadata": {},
   "outputs": [],
   "source": [
    "def oddish_or_evenish(num):\n",
    "    digit_sum = 0\n",
    "    for digit in str(num):\n",
    "        digit_sum += int(digit)\n",
    "    if digit_sum % 2 == 0:\n",
    "            return \"Evenish\"\n",
    "    else:\n",
    "            return \"Oddish\"\n"
   ]
  },
  {
   "cell_type": "code",
   "execution_count": 12,
   "id": "c7f9ac78",
   "metadata": {},
   "outputs": [
    {
     "data": {
      "text/plain": [
       "'Evenish'"
      ]
     },
     "execution_count": 12,
     "metadata": {},
     "output_type": "execute_result"
    }
   ],
   "source": [
    "oddish_or_evenish(44)"
   ]
  },
  {
   "cell_type": "code",
   "execution_count": 13,
   "id": "bf40049b",
   "metadata": {},
   "outputs": [
    {
     "data": {
      "text/plain": [
       "'Oddish'"
      ]
     },
     "execution_count": 13,
     "metadata": {},
     "output_type": "execute_result"
    }
   ],
   "source": [
    "oddish_or_evenish(23)"
   ]
  },
  {
   "cell_type": "code",
   "execution_count": 14,
   "id": "4ed7b68a",
   "metadata": {},
   "outputs": [
    {
     "data": {
      "text/plain": [
       "'Evenish'"
      ]
     },
     "execution_count": 14,
     "metadata": {},
     "output_type": "execute_result"
    }
   ],
   "source": [
    "oddish_or_evenish(4433)"
   ]
  },
  {
   "cell_type": "markdown",
   "id": "ef9a51e7",
   "metadata": {},
   "source": [
    "#9 The Fifth Argument\n",
    "Create a function (named fifth) that takes some arguments and returns the type of the fifth argument. In case the arguments were less than 5, return \"Not enough arguments\".\n",
    "\n",
    "Examples\n",
    "fifth(1, 2, 3, 4, 5) ➞ int\n",
    "\n",
    "fifth(\"a\", 2, 3, [1, 2, 3], \"five\") ➞ str\n",
    "\n",
    "fifth() ➞ \"Not enough arguments\"\n",
    "Notes\n",
    "Don't get confused between zero-indexing and one-indexing.\n",
    "If you get stuck check the Resources tab."
   ]
  },
  {
   "cell_type": "code",
   "execution_count": 51,
   "id": "8c1326d8",
   "metadata": {},
   "outputs": [],
   "source": [
    "def fifth(*x):\n",
    "    if len(x)==0:\n",
    "        return \"Not enough arguments\"\n",
    "    elif len(x)>=5:\n",
    "        return type(x[4])"
   ]
  },
  {
   "cell_type": "code",
   "execution_count": 52,
   "id": "1ab9b116",
   "metadata": {},
   "outputs": [
    {
     "data": {
      "text/plain": [
       "int"
      ]
     },
     "execution_count": 52,
     "metadata": {},
     "output_type": "execute_result"
    }
   ],
   "source": [
    "fifth(1,2,3,4,5)"
   ]
  },
  {
   "cell_type": "code",
   "execution_count": 53,
   "id": "4a6f4082",
   "metadata": {},
   "outputs": [
    {
     "data": {
      "text/plain": [
       "str"
      ]
     },
     "execution_count": 53,
     "metadata": {},
     "output_type": "execute_result"
    }
   ],
   "source": [
    "fifth(\"a\", 2, 3, [1, 2, 3], \"five\")"
   ]
  },
  {
   "cell_type": "markdown",
   "id": "9df1b249",
   "metadata": {},
   "source": [
    "#10 Censor Words Longer Than Four Characters\n",
    "Create a function that takes a string and censors words over four characters with *.\n",
    "\n",
    "Examples\n",
    "censor(\"The code is fourty\") ➞ \"The code is ******\"\n",
    "\n",
    "censor(\"Two plus three is five\") ➞ \"Two plus ***** is five\"\n",
    "\n",
    "censor(\"aaaa aaaaa 1234 12345\") ➞ \"aaaa ***** 1234 *****\"\n",
    "Notes\n",
    "Don't censor words with exactly four characters.\n",
    "If all words have four characters or less, return the original string.\n",
    "The amount of * is the same as the length of the word."
   ]
  },
  {
   "cell_type": "code",
   "execution_count": 1,
   "id": "320b6c44",
   "metadata": {},
   "outputs": [],
   "source": [
    "def censor(string):\n",
    "    words = string.split()\n",
    "    censored_words = []\n",
    "    \n",
    "    for word in words:\n",
    "        if len(word) > 4:\n",
    "            censored_words.append(\"*\" * len(word))\n",
    "        else:\n",
    "            censored_words.append(word)\n",
    "    \n",
    "    return \" \".join(censored_words)\n"
   ]
  },
  {
   "cell_type": "code",
   "execution_count": 2,
   "id": "b46a04d3",
   "metadata": {},
   "outputs": [
    {
     "data": {
      "text/plain": [
       "'aaaa ***** 1234 *****'"
      ]
     },
     "execution_count": 2,
     "metadata": {},
     "output_type": "execute_result"
    }
   ],
   "source": [
    "censor(\"aaaa aaaaa 1234 12345\")"
   ]
  },
  {
   "cell_type": "markdown",
   "id": "f550edc2",
   "metadata": {},
   "source": [
    "#11 Neutralisation\n",
    "Given two strings comprised of + and -, return a new string which shows how the two strings interact in the following way:\n",
    "\n",
    "When positives and positives interact, they remain positive.\n",
    "When negatives and negatives interact, they remain negative.\n",
    "But when negatives and positives interact, they become neutral, and are shown as the number 0.\n",
    "Worked Example\n",
    "neutralise(\"+-+\", \"+--\") ➞ \"+-0\"\n",
    "# Compare the first characters of each string, then the next in turn.\n",
    "# \"+\" against a \"+\" returns another \"+\".\n",
    "# \"-\" against a \"-\" returns another \"-\".\n",
    "# \"+\" against a \"-\" returns \"0\".\n",
    "# Return the string of characters.\n",
    "Examples\n",
    "neutralise(\"--++--\", \"++--++\") ➞ \"000000\"\n",
    "\n",
    "neutralise(\"-+-+-+\", \"-+-+-+\") ➞ \"-+-+-+\"\n",
    "\n",
    "neutralise(\"-++-\", \"-+-+\") ➞ \"-+00\"\n",
    "Notes\n",
    "The two strings will be the same length."
   ]
  },
  {
   "cell_type": "code",
   "execution_count": 3,
   "id": "14bfa77f",
   "metadata": {},
   "outputs": [],
   "source": [
    "def neutralise(s1, s2):\n",
    "    neutralised = \"\"\n",
    "    \n",
    "    for i in range(len(s1)):\n",
    "        c1 = s1[i]\n",
    "        c2 = s2[i]\n",
    "        \n",
    "        if c1 == \"+\" and c2 == \"+\":\n",
    "            neutralised += \"+\"\n",
    "        elif c1 == \"-\" and c2 == \"-\":\n",
    "            neutralised += \"-\"\n",
    "        else:\n",
    "            neutralised += \"0\"\n",
    "    \n",
    "    return neutralised\n"
   ]
  },
  {
   "cell_type": "code",
   "execution_count": 4,
   "id": "4aeb50dc",
   "metadata": {},
   "outputs": [
    {
     "data": {
      "text/plain": [
       "'000000'"
      ]
     },
     "execution_count": 4,
     "metadata": {},
     "output_type": "execute_result"
    }
   ],
   "source": [
    "neutralise(\"--++--\", \"++--++\")\n"
   ]
  },
  {
   "cell_type": "code",
   "execution_count": 5,
   "id": "3b44a9d1",
   "metadata": {},
   "outputs": [
    {
     "data": {
      "text/plain": [
       "'-+-+-+'"
      ]
     },
     "execution_count": 5,
     "metadata": {},
     "output_type": "execute_result"
    }
   ],
   "source": [
    "neutralise(\"-+-+-+\", \"-+-+-+\")"
   ]
  },
  {
   "cell_type": "markdown",
   "id": "f9f1216c",
   "metadata": {},
   "source": [
    "#12 Are the Sum of Digits in the Numbers Equal?\n",
    "Write a function that takes a list of two numbers and determines if the sum of the digits in each number are equal to each other.\n",
    "\n",
    "Examples\n",
    "is_equal([105, 42]) ➞ True\n",
    "# 1 + 0 + 5 = 6\n",
    "# 4 + 2 = 6\n",
    "\n",
    "is_equal([21, 35]) ➞ False\n",
    "\n",
    "is_equal([0, 0]) ➞ True\n",
    "Notes\n",
    "N/A"
   ]
  },
  {
   "cell_type": "code",
   "execution_count": 2,
   "id": "c66f2f2e",
   "metadata": {},
   "outputs": [],
   "source": [
    "def is_equal(num):\n",
    "    num_1,num_2=num[0],num[1]\n",
    "    sum_1=0\n",
    "    sum_2=0\n",
    "    \n",
    "    for digit in str(num_1):\n",
    "        sum_1+=int(digit)\n",
    "        \n",
    "    for digit in str(num_2):\n",
    "        sum_2+=int(digit)\n",
    "        \n",
    "    if sum_1==sum_2:\n",
    "        return True\n",
    "    else:\n",
    "        return False\n",
    "        \n",
    "        \n",
    "    "
   ]
  },
  {
   "cell_type": "code",
   "execution_count": 3,
   "id": "cc1ded9f",
   "metadata": {},
   "outputs": [
    {
     "data": {
      "text/plain": [
       "True"
      ]
     },
     "execution_count": 3,
     "metadata": {},
     "output_type": "execute_result"
    }
   ],
   "source": [
    "is_equal([105,42])"
   ]
  },
  {
   "cell_type": "markdown",
   "id": "6acf6f59",
   "metadata": {},
   "source": [
    "#13 Hold Your Breath!\n",
    "You will be given a list of numbers which represent your character's altitude above sea level at regular intervals:\n",
    "\n",
    "Positive numbers represent height above the water.\n",
    "0 is sea level.\n",
    "Negative numbers represent depth below the water's surface.\n",
    "Create a function which returns whether your character survives their unsupervised diving experience, given a list of integers.\n",
    "\n",
    "Your character starts with a breath meter of 10, which is the maximum. When diving underwater, your breath meter decreases by 2 per item in the array. Watch out! If your breath diminishes to 0, your character dies!\n",
    "\n",
    "To prevent this, you can replenish your breath by 4 (up to the maximum of 10) for each item in the array where you are at or above sea level.\n",
    "\n",
    "Your function should return True if your character survives, and False if not.\n",
    "\n",
    "Worked Example\n",
    "diving_minigame([-5, -15, -4, 0, 5]) ➞ True\n",
    "\n",
    "# Breath meter starts at 10.\n",
    "# -5 is below water, so breath meter decreases to 8.\n",
    "# -15 is below water, so breath meter decreases to 6.\n",
    "# -4 is below water, so breath meter decreases to 4.\n",
    "# 0 is at sea level, so breath meter increases to 8.\n",
    "# 5 is above sea level and breath meter is capped at 10 (would've been 12 otherwise).\n",
    "# Character survives!\n",
    "Examples\n",
    "diving_minigame([1, 2, 3, 4, 5, 6, 7, 8, 9, 10]) ➞ True\n",
    "\n",
    "diving_minigame([-3, -6, -2, -6, -2]) ➞ False\n",
    "\n",
    "diving_minigame([2, 1, 2, 1, -3, -4, -5, -3, -4]) ➞ False\n",
    "Notes\n",
    "Lists may be of any length.\n",
    "All lists are valid."
   ]
  },
  {
   "cell_type": "code",
   "execution_count": 4,
   "id": "3e2b8f2e",
   "metadata": {},
   "outputs": [],
   "source": [
    "def diving_minigame(altitudes):\n",
    "    breath_meter = 10\n",
    "\n",
    "    for altitude in altitudes:\n",
    "        if altitude < 0:\n",
    "            breath_meter -= 2\n",
    "        else:\n",
    "            breath_meter += 4\n",
    "            if breath_meter > 10:\n",
    "                breath_meter = 10\n",
    "\n",
    "        if breath_meter <= 0:\n",
    "            return False\n",
    "\n",
    "    return True\n"
   ]
  },
  {
   "cell_type": "code",
   "execution_count": 5,
   "id": "d3987603",
   "metadata": {},
   "outputs": [
    {
     "data": {
      "text/plain": [
       "True"
      ]
     },
     "execution_count": 5,
     "metadata": {},
     "output_type": "execute_result"
    }
   ],
   "source": [
    "diving_minigame([1, 2, 3, 4, 5, 6, 7, 8, 9, 10])"
   ]
  },
  {
   "cell_type": "code",
   "execution_count": 6,
   "id": "78058213",
   "metadata": {},
   "outputs": [
    {
     "data": {
      "text/plain": [
       "False"
      ]
     },
     "execution_count": 6,
     "metadata": {},
     "output_type": "execute_result"
    }
   ],
   "source": [
    "diving_minigame([-3, -6, -2, -6, -2])"
   ]
  },
  {
   "cell_type": "markdown",
   "id": "5e8aa0db",
   "metadata": {},
   "source": [
    "#14 Operations\n",
    "Write a function that does the following operations: adding, subtracting, dividing, or multiplying values. It is simply referred to as variable operation variable. Of course, the variables have to be defined, but in this challenge the variables will be defined for you. All you have to do is look at the variables, do some string to integer conversions, use some if conditionals, and combine them based on the operation.\n",
    "\n",
    "The numbers and operation will be given as strings, and you should return the value as a string as well.\n",
    "\n",
    "Examples\n",
    "operation(\"1\", \"2\", \"add\" ) ➞ \"3\"\n",
    "\n",
    "operation(\"4\", \"5\", \"subtract\") ➞ \"-1\"\n",
    "\n",
    "operation(\"6\", \"3\", \"divide\") ➞ \"2\"\n",
    "Notes\n",
    "The numbers and operation will be given as strings, and you should also return the value as a string.\n",
    "If the answer is \"undefined\", return \"undefined\" (e.g. dividing by zero).\n",
    "For divide, go ahead and round down to an integer."
   ]
  },
  {
   "cell_type": "code",
   "execution_count": 8,
   "id": "150ba044",
   "metadata": {},
   "outputs": [],
   "source": [
    "def operation(num1, num2, operation):\n",
    "    num1 = int(num1)\n",
    "    num2 = int(num2)\n",
    "\n",
    "    if operation == \"add\":\n",
    "        return str(num1 + num2)\n",
    "    elif operation == \"subtract\":\n",
    "        return str(num1 - num2)\n",
    "    elif operation == \"divide\":\n",
    "        if num2 == 0:\n",
    "            return \"undefined\"\n",
    "        return str(num1 // num2)\n",
    "    elif operation == \"multiply\":\n",
    "        return str(num1 * num2)\n",
    "    else:\n",
    "        return \"undefined\"\n"
   ]
  },
  {
   "cell_type": "code",
   "execution_count": 9,
   "id": "8883fb76",
   "metadata": {},
   "outputs": [
    {
     "data": {
      "text/plain": [
       "'3'"
      ]
     },
     "execution_count": 9,
     "metadata": {},
     "output_type": "execute_result"
    }
   ],
   "source": [
    "operation(\"1\", \"2\", \"add\" )"
   ]
  },
  {
   "cell_type": "code",
   "execution_count": 10,
   "id": "7b4c77ac",
   "metadata": {},
   "outputs": [
    {
     "data": {
      "text/plain": [
       "'-1'"
      ]
     },
     "execution_count": 10,
     "metadata": {},
     "output_type": "execute_result"
    }
   ],
   "source": [
    "operation(\"4\", \"5\", \"subtract\")"
   ]
  },
  {
   "cell_type": "code",
   "execution_count": 11,
   "id": "5ae2c50a",
   "metadata": {},
   "outputs": [
    {
     "data": {
      "text/plain": [
       "'2'"
      ]
     },
     "execution_count": 11,
     "metadata": {},
     "output_type": "execute_result"
    }
   ],
   "source": [
    "operation(\"6\", \"3\", \"divide\")"
   ]
  },
  {
   "cell_type": "code",
   "execution_count": 12,
   "id": "265d35e3",
   "metadata": {},
   "outputs": [
    {
     "data": {
      "text/plain": [
       "'undefined'"
      ]
     },
     "execution_count": 12,
     "metadata": {},
     "output_type": "execute_result"
    }
   ],
   "source": [
    "operation(\"6\", \"0\", \"divide\")"
   ]
  },
  {
   "cell_type": "markdown",
   "id": "a7a6951c",
   "metadata": {},
   "source": [
    "#15 Balanced List\n",
    "Given a list of even length, copy the half with the higher sum of numbers to the other half of the list. If the sum of the first half equals the sum of the second half, return the original list.\n",
    "\n",
    "Examples\n",
    "balanced([1, 2, 4, 6, 3, 1]) ➞ [6, 3, 1, 6, 3, 1]\n",
    "# 1 + 2 + 4 < 6 + 3 + 1  sol = [6, 3, 1, 6, 3, 1]\n",
    "\n",
    "balanced([88, 3, 27, 5, 9, 0, 13, 10]) ➞ [88, 3, 27, 5, 88, 3, 27, 5]\n",
    "# 88 + 3 + 27 + 5 > 9 + 0 + 13 + 10  sol = [88, 3, 27, 5, 88, 3, 27, 5]\n",
    "\n",
    "balanced([7, 5, 2, 6, 1, 0, 1, 5, 2, 7, 0, 6]) ➞ [7, 5, 2, 6, 1, 0, 1, 5, 2, 7, 0, 6]\n",
    "# 7 + 5 + 2 + 6 + 1 + 0 = 1 + 5 + 2 + 7 + 0 + 6  sol =  [7, 5, 2, 6, 1, 0, 1, 5, 2, 7, 0, 6]\n",
    "Notes\n",
    "The length of the list is even."
   ]
  },
  {
   "cell_type": "code",
   "execution_count": 13,
   "id": "58233713",
   "metadata": {},
   "outputs": [],
   "source": [
    "def balanced(lst):\n",
    "    half_length = len(lst) // 2\n",
    "\n",
    "    first_half_sum = 0\n",
    "    second_half_sum = 0\n",
    "\n",
    "    for i in range(half_length):\n",
    "        first_half_sum += lst[i]\n",
    "        second_half_sum += lst[i + half_length]\n",
    "\n",
    "    if first_half_sum == second_half_sum:\n",
    "        return lst\n",
    "\n",
    "    if first_half_sum > second_half_sum:\n",
    "        return lst[:half_length] * 2\n",
    "    else:\n",
    "        return lst[half_length:] * 2\n"
   ]
  },
  {
   "cell_type": "code",
   "execution_count": 14,
   "id": "7103555b",
   "metadata": {},
   "outputs": [
    {
     "data": {
      "text/plain": [
       "[6, 3, 1, 6, 3, 1]"
      ]
     },
     "execution_count": 14,
     "metadata": {},
     "output_type": "execute_result"
    }
   ],
   "source": [
    "balanced([1, 2, 4, 6, 3, 1])"
   ]
  },
  {
   "cell_type": "code",
   "execution_count": 15,
   "id": "97577c6f",
   "metadata": {},
   "outputs": [
    {
     "data": {
      "text/plain": [
       "[88, 3, 27, 5, 88, 3, 27, 5]"
      ]
     },
     "execution_count": 15,
     "metadata": {},
     "output_type": "execute_result"
    }
   ],
   "source": [
    "balanced([88, 3, 27, 5, 9, 0, 13, 10]) "
   ]
  },
  {
   "cell_type": "code",
   "execution_count": 16,
   "id": "38132e39",
   "metadata": {},
   "outputs": [
    {
     "data": {
      "text/plain": [
       "[7, 5, 2, 6, 1, 0, 1, 5, 2, 7, 0, 6]"
      ]
     },
     "execution_count": 16,
     "metadata": {},
     "output_type": "execute_result"
    }
   ],
   "source": [
    "balanced([7, 5, 2, 6, 1, 0, 1, 5, 2, 7, 0, 6])"
   ]
  },
  {
   "cell_type": "markdown",
   "id": "e83d3470",
   "metadata": {},
   "source": [
    "#16 Rock, Paper, Scissors\n",
    "Create a function which takes two strings (p1 and p2 ⁠— which represent player 1 and 2) as arguments and returns a string stating the winner in a game of Rock, Paper, Scissors.\n",
    "\n",
    "Each argument will contain a single string: \"Rock\", \"Paper\", or \"Scissors\". Return the winner according to the following rules:\n",
    "\n",
    "Rock beats Scissors\n",
    "Scissors beats Paper\n",
    "Paper beats Rock\n",
    "If p1 wins, return the string \"The winner is p1\". If p2 wins, return the string \"The winner is p2\" and if p1 and p2 are the same, return \"It's a draw\".\n",
    "\n",
    "Examples\n",
    "rps(\"Rock\", \"Paper\") ➞ \"The winner is p2\"\n",
    "\n",
    "rps(\"Scissors\", \"Paper\") ➞ \"The winner is p1\"\n",
    "\n",
    "rps(\"Paper\", \"Paper\") ➞ \"It's a draw\"\n",
    "Notes\n",
    "All inputs will be valid strings."
   ]
  },
  {
   "cell_type": "code",
   "execution_count": 6,
   "id": "264100a5",
   "metadata": {},
   "outputs": [],
   "source": [
    "def rps(p1, p2):\n",
    "    if p1 == p2:\n",
    "        return \"It's a draw\"\n",
    "    elif (p1 == \"Rock\" and p2 == \"Scissors\") or (p1 == \"Scissors\" and p2 == \"Paper\") or (p1 == \"Paper\" and p2 == \"Rock\"):\n",
    "        return \"The winner is p1\"\n",
    "    else:\n",
    "        return \"The winner is p2\"\n"
   ]
  },
  {
   "cell_type": "code",
   "execution_count": 7,
   "id": "a511d896",
   "metadata": {},
   "outputs": [
    {
     "data": {
      "text/plain": [
       "'The winner is p2'"
      ]
     },
     "execution_count": 7,
     "metadata": {},
     "output_type": "execute_result"
    }
   ],
   "source": [
    "rps(\"Rock\", \"Paper\") "
   ]
  },
  {
   "cell_type": "code",
   "execution_count": 8,
   "id": "b172993e",
   "metadata": {},
   "outputs": [
    {
     "data": {
      "text/plain": [
       "'The winner is p1'"
      ]
     },
     "execution_count": 8,
     "metadata": {},
     "output_type": "execute_result"
    }
   ],
   "source": [
    "rps(\"Scissors\", \"Paper\")"
   ]
  },
  {
   "cell_type": "code",
   "execution_count": 9,
   "id": "c0567142",
   "metadata": {},
   "outputs": [
    {
     "data": {
      "text/plain": [
       "\"It's a draw\""
      ]
     },
     "execution_count": 9,
     "metadata": {},
     "output_type": "execute_result"
    }
   ],
   "source": [
    "rps(\"paper\",\"paper\")"
   ]
  },
  {
   "cell_type": "markdown",
   "id": "bce2d018",
   "metadata": {},
   "source": [
    "#17 Car Timer 🏎️\n",
    "A built-in timer inside your car can count the length of your ride in minutes and you have started your ride at 00:00.\n",
    "\n",
    "Given the number of minutes n at the end of the ride, calculate the current time. Return the sum of digits that the digital timer in the format hh:mm will show at the end of the ride.\n",
    "\n",
    "Examples\n",
    "car_timer(240) ➞ 4\n",
    "# 240 minutes have passed since 00:00, the current time is 04:00\n",
    "# Digits sum up is 0 + 4 + 0 + 0 = 4\n",
    "\n",
    "car_timer(14) ➞ 5\n",
    "# Digits sum up is 0 + 0 + 1 + 4\n",
    "\n",
    "car_timer(808) ➞ 14\n",
    "Notes\n",
    "N/A"
   ]
  },
  {
   "cell_type": "code",
   "execution_count": 13,
   "id": "316c9318",
   "metadata": {},
   "outputs": [],
   "source": [
    "def car_timer(minutes):\n",
    "    hours = minutes // 60\n",
    "    mins = minutes % 60\n",
    "    time = \"{:02d}:{:02d}\".format(hours, mins)\n",
    "    digit_sum = 0\n",
    "    for digit in time:\n",
    "        if digit.isdigit():\n",
    "            digit_sum += int(digit)\n",
    "    return digit_sum\n"
   ]
  },
  {
   "cell_type": "code",
   "execution_count": 15,
   "id": "69122622",
   "metadata": {},
   "outputs": [
    {
     "data": {
      "text/plain": [
       "4"
      ]
     },
     "execution_count": 15,
     "metadata": {},
     "output_type": "execute_result"
    }
   ],
   "source": [
    "car_timer(240)"
   ]
  },
  {
   "cell_type": "code",
   "execution_count": 16,
   "id": "3b76cd1e",
   "metadata": {},
   "outputs": [
    {
     "data": {
      "text/plain": [
       "14"
      ]
     },
     "execution_count": 16,
     "metadata": {},
     "output_type": "execute_result"
    }
   ],
   "source": [
    "car_timer(808)"
   ]
  },
  {
   "cell_type": "markdown",
   "id": "4178283f",
   "metadata": {},
   "source": [
    "#18 Letters Only\n",
    "Check if the given string consists of only letters and spaces and if every letter is in lower case.\n",
    "\n",
    "Examples\n",
    "letters_only(\"PYTHON\") ➞ False\n",
    "\n",
    "letters_only(\"python\") ➞ True\n",
    "\n",
    "letters_only(\"12321313\") ➞ False\n",
    "\n",
    "letters_only(\"i have spaces\") ➞ True\n",
    "\n",
    "letters_only(\"i have numbers(1-10)\") ➞ False\n",
    "\n",
    "letters_only(\"\") ➞ False\n",
    "Notes\n",
    "Empty arguments will always return False.\n",
    "Input values will be mixed (symbols, letters, numbers)."
   ]
  },
  {
   "cell_type": "code",
   "execution_count": 30,
   "id": "13e37c8d",
   "metadata": {},
   "outputs": [],
   "source": [
    "def letters_only(txt):\n",
    "    if not txt:\n",
    "        return False\n",
    "\n",
    "    for char in txt:\n",
    "        if not char.isalpha() and char != ' ':\n",
    "            return False\n",
    "        if char.isalpha() and not char.islower():\n",
    "            return False\n",
    "\n",
    "    return True\n",
    "\n",
    "    \n",
    "        "
   ]
  },
  {
   "cell_type": "code",
   "execution_count": 31,
   "id": "fa0e208e",
   "metadata": {},
   "outputs": [
    {
     "data": {
      "text/plain": [
       "False"
      ]
     },
     "execution_count": 31,
     "metadata": {},
     "output_type": "execute_result"
    }
   ],
   "source": [
    "letters_only(\"PYTHON\")"
   ]
  },
  {
   "cell_type": "code",
   "execution_count": 32,
   "id": "de1172f7",
   "metadata": {},
   "outputs": [
    {
     "data": {
      "text/plain": [
       "True"
      ]
     },
     "execution_count": 32,
     "metadata": {},
     "output_type": "execute_result"
    }
   ],
   "source": [
    "letters_only(\"python\")"
   ]
  },
  {
   "cell_type": "code",
   "execution_count": 33,
   "id": "4eeeb91c",
   "metadata": {},
   "outputs": [
    {
     "data": {
      "text/plain": [
       "False"
      ]
     },
     "execution_count": 33,
     "metadata": {},
     "output_type": "execute_result"
    }
   ],
   "source": [
    "letters_only(\"i have numbers(1-10)\")"
   ]
  },
  {
   "cell_type": "markdown",
   "id": "ddf64302",
   "metadata": {},
   "source": [
    "#19 Find the Shared Letters between Two Strings\n",
    "Given two strings, return a string containing only the letters shared between the two.\n",
    "\n",
    "Examples\n",
    "shared_letters(\"house\", \"home\") ➞ \"eho\"\n",
    "\n",
    "shared_letters(\"Micky\", \"mouse\") ➞ \"m\"\n",
    "\n",
    "shared_letters(\"house\", \"villa\") ➞ \"\"\n",
    "Notes\n",
    "If none of the letters are shared, return an empty string.\n",
    "The function should be case insensitive (e.g. comparing A and a should return a).\n",
    "Sort the resulting string alphabetically before returning it."
   ]
  },
  {
   "cell_type": "code",
   "execution_count": 53,
   "id": "6c45dff3",
   "metadata": {},
   "outputs": [],
   "source": [
    "def shared_letters(str1, str2):\n",
    "    str1 = str1.lower()\n",
    "    str2 = str2.lower()\n",
    "    shared = set()\n",
    "    \n",
    "    for char in str1:\n",
    "        if char in str2:\n",
    "            shared.add(char)\n",
    "    \n",
    "    shared = sorted(shared)\n",
    "    \n",
    "    result = ''\n",
    "    for char in shared:\n",
    "        result += char\n",
    "    \n",
    "    return result\n"
   ]
  },
  {
   "cell_type": "code",
   "execution_count": 54,
   "id": "605d6eca",
   "metadata": {},
   "outputs": [
    {
     "data": {
      "text/plain": [
       "'eho'"
      ]
     },
     "execution_count": 54,
     "metadata": {},
     "output_type": "execute_result"
    }
   ],
   "source": [
    "shared_letters(\"house\", \"home\")"
   ]
  },
  {
   "cell_type": "markdown",
   "id": "0b3e684a",
   "metadata": {},
   "source": [
    "#20 List Chunking\n",
    "Given a list and chunk size \"n\", create a function such that it divides the list into many sublists where each sublist is of length size \"n\".\n",
    "\n",
    "Examples\n",
    "chunk([1, 2, 3, 4], 2) ➞ [\n",
    "  [1, 2], [3, 4]\n",
    "]\n",
    "\n",
    "chunk([1, 2, 3, 4, 5, 6, 7], 3) ➞ [\n",
    "  [1, 2, 3], [4, 5, 6], [7]\n",
    "]\n",
    "\n",
    "chunk([1, 2, 3, 4 ,5], 10) ➞ [\n",
    "  [1, 2, 3, 4, 5]\n",
    "]\n",
    "Notes\n",
    "Remember that number of sublists may not be equal to chunk size."
   ]
  },
  {
   "cell_type": "code",
   "execution_count": 55,
   "id": "7c33e444",
   "metadata": {},
   "outputs": [],
   "source": [
    "def chunk(lst, n):\n",
    "    result = []\n",
    "    length = len(lst)\n",
    "    i = 0\n",
    "\n",
    "    while i < length:\n",
    "        result.append(lst[i:i+n])\n",
    "        i += n\n",
    "\n",
    "    return result\n",
    "\n",
    "    "
   ]
  },
  {
   "cell_type": "code",
   "execution_count": 56,
   "id": "4b81f330",
   "metadata": {},
   "outputs": [
    {
     "data": {
      "text/plain": [
       "[[1, 2], [3, 4]]"
      ]
     },
     "execution_count": 56,
     "metadata": {},
     "output_type": "execute_result"
    }
   ],
   "source": [
    "chunk([1, 2, 3, 4], 2)"
   ]
  },
  {
   "cell_type": "code",
   "execution_count": 57,
   "id": "7adff27f",
   "metadata": {},
   "outputs": [
    {
     "data": {
      "text/plain": [
       "[[1, 2, 3, 4, 5]]"
      ]
     },
     "execution_count": 57,
     "metadata": {},
     "output_type": "execute_result"
    }
   ],
   "source": [
    "chunk([1, 2, 3, 4 ,5], 10) "
   ]
  },
  {
   "cell_type": "markdown",
   "id": "8dd081c2",
   "metadata": {},
   "source": [
    "#21 Flash Cards\n",
    "Create a function that outputs the results of a flashcard. A flashcard is a list of three elements: a number, an operator symbol, and another number. Return the mathematical result of that expression.\n",
    "\n",
    "There are 4 operators: + (addition), - (subtraction), x (multiplication), and / (division). If the flashcard displays a number being divided by zero, e.g. [3, \"/\", 0], then return None. For division, round to the hundredths place. So [10, \"/\", 3] should return 3.33.\n",
    "\n",
    "Examples\n",
    "flash([3, \"x\", 7]) ➞ 21\n",
    "\n",
    "flash([5, \"+\", 7]) ➞ 12\n",
    "\n",
    "flash([10, \"-\", 9]) ➞ 1\n",
    "\n",
    "flash([10, \"/\", 0]) ➞ None\n",
    "\n",
    "flash([10, \"/\", 3]) ➞ 3.33\n",
    "Notes\n",
    "Flash cards contain only zero or positive numbers."
   ]
  },
  {
   "cell_type": "code",
   "execution_count": 10,
   "id": "ff13c957",
   "metadata": {},
   "outputs": [],
   "source": [
    "\n",
    "def flash(flashcard):\n",
    "    num1, operator, num2 = flashcard\n",
    "    \n",
    "    if operator == \"+\":\n",
    "        return num1 + num2\n",
    "    elif operator == \"-\":\n",
    "        return num1 - num2\n",
    "    elif operator == \"x\":\n",
    "        return num1 * num2\n",
    "    elif operator == \"/\":\n",
    "        if num2 == 0:\n",
    "            return None\n",
    "        else:\n",
    "            result = num1 / num2\n",
    "            return round(result, 2)\n",
    "\n",
    "   \n"
   ]
  },
  {
   "cell_type": "code",
   "execution_count": 11,
   "id": "0107e922",
   "metadata": {},
   "outputs": [
    {
     "data": {
      "text/plain": [
       "21"
      ]
     },
     "execution_count": 11,
     "metadata": {},
     "output_type": "execute_result"
    }
   ],
   "source": [
    "flash([3, \"x\", 7])"
   ]
  },
  {
   "cell_type": "markdown",
   "id": "a4d50150",
   "metadata": {},
   "source": [
    "#22 What's My Golf Score?\n",
    "A standard-sized golf course has 18 holes. Each hole is given a par, which is the expected number of strokes (hits) that a good player would use to complete a hole. Golf also uses different terms for a player being over/under par for a particular hole:\n",
    "\n",
    "\"eagle\" = 2 under par (-2)\n",
    "\"birdie\" = 1 under par (-1)\n",
    "\"bogey\" = 1 over par (+1)\n",
    "\"double-bogey\" = 2 over par (+2)\n",
    "Example scores:\n",
    "\n",
    "\"birdie\" on a par 3 hole = 2\n",
    "\"eagle\" on a par 5 hole = 3\n",
    "\"par\" on a par 3 hole = 3\n",
    "\"bogey\" on a par 4 hole = 5\n",
    "Given a list of pars for an 18-hole golf course, and another list containing the player result for each hole, return the total score for the round of golf.\n",
    "\n",
    "Example\n",
    "course = [4, 4, 5, 3, 4, 4, 3, 5, 5, 3, 5, 4, 4, 4, 4, 3, 4, 4]\n",
    "\n",
    "result = [\"eagle\", \"bogey\", \"par\", \"bogey\", \"double-bogey\", \"birdie\", \"bogey\", \"par\", \"birdie\", \"par\", \"par\", \"par\", \"par\", \"par\", \"bogey\", \"eagle\", \"bogey\", \"par\"]\n",
    "\n",
    "score = 2+5+5+4+6+3+4+5+4+3+5+4+4+4+5+1+5+4 = 73\n",
    "Notes\n",
    "For this challenge, there will be no holes-in-one, albatrosses (-3), or anything worse than a double-bogey."
   ]
  },
  {
   "cell_type": "code",
   "execution_count": 13,
   "id": "25136537",
   "metadata": {},
   "outputs": [],
   "source": [
    "def calculate_golf_score(course, result):\n",
    "    point_values = {\n",
    "        \"eagle\": -2,\n",
    "        \"birdie\": -1,\n",
    "        \"par\": 0,\n",
    "        \"bogey\": 1,\n",
    "        \"double-bogey\": 2\n",
    "    }\n",
    "\n",
    "    score = 0\n",
    "    for i in range(len(course)):\n",
    "        score += course[i] + point_values[result[i]]\n",
    "\n",
    "    return score\n",
    "\n"
   ]
  },
  {
   "cell_type": "code",
   "execution_count": 14,
   "id": "92a4b4ad",
   "metadata": {},
   "outputs": [
    {
     "name": "stdout",
     "output_type": "stream",
     "text": [
      "73\n"
     ]
    }
   ],
   "source": [
    "\n",
    "course = [4, 4, 5, 3, 4, 4, 3, 5, 5, 3, 5, 4, 4, 4, 4, 3, 4, 4]\n",
    "result = [\"eagle\", \"bogey\", \"par\", \"bogey\", \"double-bogey\", \"birdie\", \"bogey\", \"par\", \"birdie\", \"par\", \"par\", \"par\", \"par\", \"par\", \"bogey\", \"eagle\", \"bogey\", \"par\"]\n",
    "\n",
    "score = calculate_golf_score(course, result)\n",
    "print(score)  \n"
   ]
  },
  {
   "cell_type": "markdown",
   "id": "6095557b",
   "metadata": {},
   "source": [
    "#23 The Major Sum\n",
    "Create a function that takes an integer list and return the biggest between positive sum, negative sum, or 0s count. The major is understood as the greatest absolute.\n",
    "\n",
    "l = [1,2,3,4,0,0,-3,-2], the function has to return 10, because:\n",
    "\n",
    "Positive sum = 1+2+3+4 = 10\n",
    "Negative sum = (-3)+(-2) = -5\n",
    "0s count = 2 (there are two zeros in list)\n",
    "Examples\n",
    "major_sum([1, 2, 3, 4, 0, 0, -3, -2]) ➞ 10\n",
    "\n",
    "major_sum([-4, -8, -12, -3, 4, 7, 1, 3, 0, 0, 0, 0]) ➞ -27\n",
    "\n",
    "major_sum([0, 0, 0, 0, 0, 1, 2, -3]) ➞ 5\n",
    "# Because -3 < 1+2 < 0sCount = 5\n",
    "Notes\n",
    "All numbers are integers.\n",
    "There aren't empty lists.\n",
    "All tests are made to return only one value."
   ]
  },
  {
   "cell_type": "code",
   "execution_count": 1,
   "id": "2a6fa8cf",
   "metadata": {},
   "outputs": [],
   "source": [
    "def major_sum(lst):\n",
    "    positive_sum = 0\n",
    "    negative_sum = 0\n",
    "    zeros_count = 0\n",
    "\n",
    "    for num in lst:\n",
    "        if num > 0:\n",
    "            positive_sum += num\n",
    "        elif num < 0:\n",
    "            negative_sum += num\n",
    "        else:\n",
    "            zeros_count += 1\n",
    "            \n",
    "    if zeros_count > positive_sum and zeros_count > -negative_sum:\n",
    "        return zeros_count\n",
    "    elif positive_sum > -negative_sum:\n",
    "        return positive_sum\n",
    "    else:\n",
    "        return -negative_sum\n",
    "            "
   ]
  },
  {
   "cell_type": "code",
   "execution_count": 2,
   "id": "fe798c8a",
   "metadata": {},
   "outputs": [
    {
     "data": {
      "text/plain": [
       "10"
      ]
     },
     "execution_count": 2,
     "metadata": {},
     "output_type": "execute_result"
    }
   ],
   "source": [
    "major_sum([1, 2, 3, 4, 0, 0, -3, -2])"
   ]
  },
  {
   "cell_type": "code",
   "execution_count": 3,
   "id": "04dbfe4d",
   "metadata": {},
   "outputs": [
    {
     "data": {
      "text/plain": [
       "27"
      ]
     },
     "execution_count": 3,
     "metadata": {},
     "output_type": "execute_result"
    }
   ],
   "source": [
    "major_sum([-4, -8, -12, -3, 4, 7, 1, 3, 0, 0, 0, 0])"
   ]
  },
  {
   "cell_type": "code",
   "execution_count": 4,
   "id": "0fecaf88",
   "metadata": {},
   "outputs": [
    {
     "data": {
      "text/plain": [
       "5"
      ]
     },
     "execution_count": 4,
     "metadata": {},
     "output_type": "execute_result"
    }
   ],
   "source": [
    "major_sum([0, 0, 0, 0, 0, 1, 2, -3])"
   ]
  },
  {
   "cell_type": "markdown",
   "id": "62c9ffa8",
   "metadata": {},
   "source": [
    "#24 Numerical Morphisms\n",
    "A number num, that elevated to the power of another number k \"ends\" with the same num, it's automorphic.\n",
    "\n",
    "5² = 25\n",
    "# It's automorphic because \"25\" ends with \"5\"\n",
    "\n",
    "5³  = 125\n",
    "# It's automorphic because \"125\" ends with \"5\"\n",
    "\n",
    "76⁴ = 33362176\n",
    "# It's automorphic because \"33362176\" ends with \"76\"\n",
    "A number can have various powers that make it automorphic (i.e. look at number 5 in the above example). In this challenge, you have to verify if the given number is automorphic for each power from 2 up to 10.\n",
    "\n",
    "Given a non-negative integer num, implement a function that returns the string:\n",
    "\n",
    "\"Polymorphic\" if num is automorphic for every power from 2 up to 10.\n",
    "\"Quadrimorphic\" if num is automorphic for only four powers (any from 2 up to 10).\n",
    "\"Dimorphic\" if num is automorphic for only two powers (any from 2 up to 10).\n",
    "\"Enamorphic\" if num is automorphic for only one power (any from 2 up to 10).\n",
    "\"Amorphic\" if num is not automorphic for for any powers from 2 up to 10.\n",
    "Examples\n",
    "power_morphic(5) ➞ \"Polymorphic\"\n",
    "# From 2 up to 10, every power of 5 ends with 5\n",
    "\n",
    "power_morphic(21) ➞ \"Enamorphic\"\n",
    "# 21⁶ = 85766121\n",
    "\n",
    "power_morphic(7) ➞ \"Dimorphic\"\n",
    "# 7⁵ = 716807\n",
    "# 7⁹ = 40353607\n",
    "\n",
    "power_morphic(4) ➞ \"Quadrimorphic\"\n",
    "# 4³ = 64\n",
    "# 4⁵ = 1024\n",
    "# 4⁷ = 16384\n",
    "# 4⁹ = 262144\n",
    "\n",
    "power_morphic(10) ➞ \"Amorphic\"\n",
    "# There are no powers that make it automorphic\n",
    "Notes\n",
    "You can do a complete loop cycle to check if num is automorphic for each power, or you can try to spot the discriminants that permit you to shorten the logic of your code.\n",
    "Despite being inspired by the OEIS sequence A003226, the assertions of this challenge are to be considered properly valid only in the specific context."
   ]
  },
  {
   "cell_type": "code",
   "execution_count": 1,
   "id": "46abf768",
   "metadata": {},
   "outputs": [],
   "source": [
    "def power_morphic(num):\n",
    "    for power in range(2, 11):\n",
    "        if str(num ** power)[-len(str(num)):] != str(num):\n",
    "            if power == 2:\n",
    "                return \"Amorphic\"\n",
    "            elif power == 3:\n",
    "                return \"Enamorphic\"\n",
    "            elif power == 4:\n",
    "                return \"Dimorphic\"\n",
    "            else:\n",
    "                return \"Quadrimorphic\"\n",
    "    return \"Polymorphic\"\n"
   ]
  },
  {
   "cell_type": "code",
   "execution_count": 2,
   "id": "c72c2dfe",
   "metadata": {},
   "outputs": [
    {
     "data": {
      "text/plain": [
       "'Polymorphic'"
      ]
     },
     "execution_count": 2,
     "metadata": {},
     "output_type": "execute_result"
    }
   ],
   "source": [
    "power_morphic(5) "
   ]
  },
  {
   "cell_type": "code",
   "execution_count": 3,
   "id": "1bfe4283",
   "metadata": {},
   "outputs": [
    {
     "data": {
      "text/plain": [
       "'Amorphic'"
      ]
     },
     "execution_count": 3,
     "metadata": {},
     "output_type": "execute_result"
    }
   ],
   "source": [
    "power_morphic(7) "
   ]
  },
  {
   "cell_type": "code",
   "execution_count": 4,
   "id": "20e355d9",
   "metadata": {},
   "outputs": [
    {
     "data": {
      "text/plain": [
       "'Amorphic'"
      ]
     },
     "execution_count": 4,
     "metadata": {},
     "output_type": "execute_result"
    }
   ],
   "source": [
    "power_morphic(4) "
   ]
  },
  {
   "cell_type": "markdown",
   "id": "a8b4a4bd",
   "metadata": {},
   "source": [
    "#25 Order by Length First\n",
    "Graded lexicographic order (grlex order for short) is a way of ordering words that:\n",
    "\n",
    "First orders words by length.\n",
    "Then orders words of the same size by their dictionary order.\n",
    "For example, in grlex order:\n",
    "\n",
    "\"tray\" < \"trapped\" since \"tray\" has length 4 while \"trapped\" has length 7.\n",
    "\"trap\" < \"tray\" since both have length 4, but \"trap\" comes before \"tray\" in the dictionary.\n",
    "Given a list of words, return that list in grlex order.\n",
    "\n",
    "Examples\n",
    "make_grlex([\"small\", \"big\"]) ➞ [\"big\", \"small\"]\n",
    "\n",
    "make_grlex([\"cat\", \"ran\", \"for\", \"the\", \"rat\"]) ➞ [\"cat\", \"for\", \"ran\", \"rat\", \"the\"]\n",
    "\n",
    "make_grlex([\"this\", \"is\", \"a\", \"small\", \"test\"]) ➞ [\"a\", \"is\", \"test\", \"this\", \"small\"]\n",
    "Notes\n",
    "N/A"
   ]
  },
  {
   "cell_type": "code",
   "execution_count": 5,
   "id": "c430f670",
   "metadata": {},
   "outputs": [],
   "source": [
    "def make_grlex(words):\n",
    "    return sorted(words, key=lambda word: (len(word), word))\n"
   ]
  },
  {
   "cell_type": "code",
   "execution_count": 6,
   "id": "3412afaf",
   "metadata": {},
   "outputs": [
    {
     "data": {
      "text/plain": [
       "['big', 'small']"
      ]
     },
     "execution_count": 6,
     "metadata": {},
     "output_type": "execute_result"
    }
   ],
   "source": [
    "make_grlex([\"small\", \"big\"]) "
   ]
  },
  {
   "cell_type": "markdown",
   "id": "d6a7dad6",
   "metadata": {},
   "source": [
    "#26 Anti-Divisors of a Number\n",
    "The anti-divisors are numbers that do not divide a given number by the largest possible margin, and they can be found following a simple set of rules:\n",
    "\n",
    "Every number greater than 1 and lower than n is checked.\n",
    "Every checked number must not be a divisor of n.\n",
    "If the checked number is odd and it is a divisor of n * 2 - 1 or n * 2 + 1 it's an anti-divisor.\n",
    "If the checked number is even and it is a divisor of n * 2, it's an anti-divisor.\n",
    "Given an integer n, implement a function that returns a list containing the anti-divisors of n sorted in ascending order.\n",
    "\n",
    "Examples\n",
    "anti_divisors(10) ➞ [3, 4, 7]\n",
    "# 3 is a divisor of 21 (10 * 2 + 1)\n",
    "# 4 is a divisor of 20 (10 * 2)\n",
    "# 7 is a divisor of 21\n",
    "\n",
    "anti_divisors(12) ➞ [5, 8]\n",
    "# 5 is a divisor of 25 (12 * 2 + 1)\n",
    "# 8 is a divisor of 24 (12 * 2)\n",
    "\n",
    "anti_divisors(20) ➞ [3, 8, 13]\n",
    "# 3 is a divisor of 39 (20 * 2 - 1)\n",
    "# 8 is a divisor of 40 (20 * 2)\n",
    "# 13 is a divisor of 39\n",
    "Notes\n",
    "The given n can be any integer, either positive, negative or 0."
   ]
  },
  {
   "cell_type": "markdown",
   "id": "2c4ce3a5",
   "metadata": {},
   "source": [
    "#27 Dice Gambling\n",
    "Create a function that takes a list consisting of dice rolls from 1-6. Return the sum of your rolls with the following conditions:\n",
    "\n",
    "If a 1 is rolled, that is bad luck. The next roll counts as 0.\n",
    "If a 6 is rolled, that is good luck. The next roll is multiplied by 2.\n",
    "The list length will always be 3 or higher.\n",
    "Examples\n",
    "rolls([1, 2, 3]) ➞ 4\n",
    "# The second roll, 2, counts as 0 as a result of rolling 1.\n",
    "\n",
    "rolls([2, 6, 2, 5]) ➞ 17\n",
    "# The 2 following the 6 was multiplied by 2.\n",
    "\n",
    "rolls([6, 1, 1]) ➞ 8\n",
    "# The first roll makes the second roll worth 2, but the\n",
    "# second roll was still 1 so the third roll doesn't count.\n",
    "Notes\n",
    "Even if a 6 is rolled after a 1, 6 isn't summed but the 6's \"effect\" still takes place."
   ]
  },
  {
   "cell_type": "code",
   "execution_count": 15,
   "id": "3178eb7b",
   "metadata": {},
   "outputs": [],
   "source": [
    "def rolls(dice_rolls):\n",
    "    total_sum = 0\n",
    "    previous_roll_state = None\n",
    "\n",
    "    for roll in dice_rolls:\n",
    "        if previous_roll_state == 1:\n",
    "            previous_roll_state = None\n",
    "        elif previous_roll_state == 6:\n",
    "            total_sum += roll * 2\n",
    "            previous_roll_state = None\n",
    "        else:\n",
    "            if roll == 1:\n",
    "                previous_roll_state = 1\n",
    "            elif roll == 6:\n",
    "                previous_roll_state = 6\n",
    "            else:\n",
    "                total_sum += roll\n",
    "                previous_roll_state = None\n",
    "\n",
    "    return total_sum\n"
   ]
  },
  {
   "cell_type": "code",
   "execution_count": 16,
   "id": "0c07c38b",
   "metadata": {},
   "outputs": [
    {
     "data": {
      "text/plain": [
       "3"
      ]
     },
     "execution_count": 16,
     "metadata": {},
     "output_type": "execute_result"
    }
   ],
   "source": [
    "rolls([1, 2, 3])"
   ]
  },
  {
   "cell_type": "code",
   "execution_count": 17,
   "id": "8798a881",
   "metadata": {},
   "outputs": [
    {
     "data": {
      "text/plain": [
       "11"
      ]
     },
     "execution_count": 17,
     "metadata": {},
     "output_type": "execute_result"
    }
   ],
   "source": [
    "rolls([2, 6, 2, 5])"
   ]
  },
  {
   "cell_type": "markdown",
   "id": "f5402f8f",
   "metadata": {},
   "source": [
    "#27 Strictly Increasing or Decreasing\n",
    "Write a function that takes a list and determines whether it's strictly increasing, strictly decreasing, or neither.\n",
    "\n",
    "Examples\n",
    "check([1, 2, 3]) ➞ \"increasing\"\n",
    "\n",
    "check([3, 2, 1]) ➞ \"decreasing\"\n",
    "\n",
    "check([1, 2, 1]) ➞ \"neither\"\n",
    "\n",
    "check([1, 1, 2]) ➞ \"neither\"\n",
    "Notes\n",
    "The last example does NOT count as strictly increasing, since 1-indexed 1 is not strictly greater than the 0-indexed 1.\n",
    "Input lists have a minimum length of 2."
   ]
  },
  {
   "cell_type": "code",
   "execution_count": 18,
   "id": "1570ab92",
   "metadata": {},
   "outputs": [],
   "source": [
    "def check(lst):\n",
    "    increasing = all(lst[i] < lst[i+1] for i in range(len(lst)-1))\n",
    "    decreasing = all(lst[i] > lst[i+1] for i in range(len(lst)-1))\n",
    "\n",
    "    if increasing:\n",
    "        return \"increasing\"\n",
    "    elif decreasing:\n",
    "        return \"decreasing\"\n",
    "    else:\n",
    "        return \"neither\"\n"
   ]
  },
  {
   "cell_type": "code",
   "execution_count": 19,
   "id": "ba4c77e8",
   "metadata": {},
   "outputs": [
    {
     "data": {
      "text/plain": [
       "'neither'"
      ]
     },
     "execution_count": 19,
     "metadata": {},
     "output_type": "execute_result"
    }
   ],
   "source": [
    "check([1, 2, 1])"
   ]
  },
  {
   "cell_type": "markdown",
   "id": "dcbe107c",
   "metadata": {},
   "source": [
    "#28 No Good Numbers\n",
    "A positive number's population is the sum of 1's in its binary representation.\n",
    "\n",
    "An evil number has an even numbered population.\n",
    "An odious number has an odd numbered population.\n",
    "A number is pernicious if its population is a prime number.\n",
    "Create a function that takes a number as an argument and returns a sorted list of all its descriptors (\"Evil\", \"Odious\", or \"Pernicious\").\n",
    "\n",
    "Examples\n",
    "how_bad(7) ➞ [\"Odious\", \"Pernicious\"]\n",
    "# 7 in binary is \"111\".\n",
    "# 1 + 1 + 1 = 3 in \"111\" means \"Odious\" should be added to the list answer.\n",
    "# 3 is a prime number, meaning \"Pernicious\" should also be added.\n",
    "\n",
    "how_bad(17) ➞ [\"Evil\", \"Pernicious\"]\n",
    "# 17 in binary is \"10001\".\n",
    "# 1 + 1 = 2 in \"10001\" means \"Evil\" should be added to the list answer.\n",
    "# 2 is a prime number, meaning \"Pernicious\" should also be added.\n",
    "\n",
    "how_bad(23) ➞ [\"Evil\"]\n",
    "# 23 in binary is \"10111\".\n",
    "# Four 1's in \"10111\" means \"Evil\" should be added to the list answer.\n",
    "# 4 is not a prime number, meaning \"Pernicious\" should not be added.\n",
    "Notes\n",
    "N/A"
   ]
  },
  {
   "cell_type": "code",
   "execution_count": 1,
   "id": "372f80b9",
   "metadata": {},
   "outputs": [],
   "source": [
    "def how_bad(number):\n",
    "    binary = bin(number)[2:] \n",
    "    population = binary.count('1') \n",
    "\n",
    "    descriptors = []\n",
    "    if population % 2 == 0:\n",
    "        descriptors.append(\"Evil\")\n",
    "    else:\n",
    "        descriptors.append(\"Odious\")\n",
    "\n",
    "   \n",
    "    if population > 1:\n",
    "        for i in range(2, int(population**0.5) + 1):\n",
    "            if population % i == 0:\n",
    "                break\n",
    "        else:\n",
    "            descriptors.append(\"Pernicious\")\n",
    "\n",
    "    return descriptors\n",
    "\n"
   ]
  },
  {
   "cell_type": "code",
   "execution_count": 2,
   "id": "ff397d02",
   "metadata": {},
   "outputs": [
    {
     "data": {
      "text/plain": [
       "['Odious', 'Pernicious']"
      ]
     },
     "execution_count": 2,
     "metadata": {},
     "output_type": "execute_result"
    }
   ],
   "source": [
    "how_bad(7)"
   ]
  },
  {
   "cell_type": "markdown",
   "id": "9b02d712",
   "metadata": {},
   "source": [
    "#29 Correct My Sentence\n",
    "Mubashir is not so good with the English language. He needs your help to correct his sentences.\n",
    "\n",
    "Start each sentence with an uppercase alphabet.\n",
    "For every uppercase letter (other than the first alphabet), you have to place a fullstop(.) followed by an empty space.\n",
    "There must be only one space between the words and sentences.\n",
    "Sentence must end with a full stop(.)\n",
    "Two continuous spaces are not allowed.\n",
    "correct_sentences (\"  mubashir loves  edabit  Matt  loves  edabit  \") ➞ \"Mubashir loves edabit. Matt loves edabit.\"\n",
    "\n",
    "# Remove extra spaces.\n",
    "# Capitalise first character.\n",
    "# Dot followed by an empty space before \"Matt\".\n",
    "# A dot at the end.\n",
    "Examples\n",
    "correct_sentences (\"  mubashir loves  edabit  Matt  loves  edabit  \") ➞ \"Mubashir loves edabit. Matt loves edabit.\"\n",
    "\n",
    "correct_sentences (\"  he is an engineer He sleeps a lot\") ➞ \"He is an engineer. He sleeps a lot.\"\n",
    "\n",
    "correct_sentences (\" his english is not good Help him     Thank you\") ➞ \"His english is not good. Help him. Thank you.\"\n",
    "Notes\n",
    "N/A"
   ]
  },
  {
   "cell_type": "code",
   "execution_count": 7,
   "id": "4c442814",
   "metadata": {},
   "outputs": [],
   "source": [
    "def correct_sentences(sentence):\n",
    "    # Remove extra spaces and split the sentence into words\n",
    "    words = sentence.strip().split()\n",
    "\n",
    "    # Capitalize the first word\n",
    "    words[0] = words[0].capitalize()\n",
    "\n",
    "    # Process the remaining words\n",
    "    for i in range(1, len(words)):\n",
    "        # Capitalize the word if it's not an abbreviation\n",
    "        if not words[i].isupper():\n",
    "            words[i] = words[i].capitalize()\n",
    "        else:\n",
    "            # If the word is an abbreviation, make sure it's in uppercase\n",
    "            words[i] = words[i].upper()\n",
    "\n",
    "        # Add a dot and an empty space before the word\n",
    "        words[i] = \".\"  + words[i]\n",
    "\n",
    "    # Join the words to form the corrected sentence\n",
    "    corrected_sentence = \" \".join(words) + \".\"\n",
    "\n",
    "    return corrected_sentence\n"
   ]
  },
  {
   "cell_type": "code",
   "execution_count": 8,
   "id": "24edfc65",
   "metadata": {},
   "outputs": [
    {
     "data": {
      "text/plain": [
       "'Mubashir .Loves .Edabit .Matt .Loves .Edabit.'"
      ]
     },
     "execution_count": 8,
     "metadata": {},
     "output_type": "execute_result"
    }
   ],
   "source": [
    "correct_sentences (\"  mubashir loves  edabit  Matt  loves  edabit  \")"
   ]
  },
  {
   "cell_type": "markdown",
   "id": "5af7f3f1",
   "metadata": {},
   "source": [
    "#29 An Absolute\n",
    "Given a sentence, create a function that replaces every \"a\" as an article with \"an absolute\". It should return the same string without any change if it doesn't have any \"a\".\n",
    "\n",
    "Examples\n",
    "absolute(\"I am a champion!!!\") ➞ \"I am an absolute champion!!!\"\n",
    "\n",
    "absolute(\"Such an amazing bowler.\") ➞ \"Such an amazing bowler.\"\n",
    "\n",
    "absolute(\"A man with no haters.\") ➞ \"An absolute man with no haters.\"\n",
    "Notes\n",
    "Watch for uppercase letters as shown in example #3."
   ]
  },
  {
   "cell_type": "code",
   "execution_count": 11,
   "id": "297d52bb",
   "metadata": {},
   "outputs": [],
   "source": [
    "def absolute(sentence):\n",
    "    words = sentence.split()  # Split the sentence into words\n",
    "    for i in range(len(words)):\n",
    "        # Check if the word is \"a\" as an article (case-insensitive)\n",
    "        if words[i].lower() == \"a\":\n",
    "            # Check if the next word starts with a vowel sound\n",
    "            if i < len(words) - 1 and words[i+1][0].lower() in \"aeiou\":\n",
    "                words[i] = \"an absolute\"  # Replace \"a\" with \"an absolute\"\n",
    "            else:\n",
    "                words[i] = \"an absolute\"  # Replace \"a\" with \"an absolute\"\n",
    "    \n",
    "    return \" \".join(words)  # Join the words to form the modified sentence\n",
    "\n"
   ]
  },
  {
   "cell_type": "code",
   "execution_count": 12,
   "id": "ce924f8d",
   "metadata": {},
   "outputs": [
    {
     "data": {
      "text/plain": [
       "'I am an absolute champion!!!'"
      ]
     },
     "execution_count": 12,
     "metadata": {},
     "output_type": "execute_result"
    }
   ],
   "source": [
    "absolute(\"I am a champion!!!\")"
   ]
  },
  {
   "cell_type": "markdown",
   "id": "e708c09e",
   "metadata": {},
   "source": [
    "#30 Pokemon Damage Calculator\n",
    "It's a Pokemon battle! Your task is to calculate the damage that a particular move would do using the following formula (not the actual one from the game):\n",
    "\n",
    "damage = 50 * (attack / defense) * effectiveness\n",
    "attack = your attack power\n",
    "defense = the opponent's defense\n",
    "effectiveness = the effectiveness of the attack based on the matchup (see explanation below)\n",
    "Effectiveness:\n",
    "\n",
    "Attacks can be super effective, neutral, or not very effective depending on the matchup. For example, water would be super effective against fire, but not very effective against grass.\n",
    "\n",
    "Super effective: 2x damage\n",
    "Neutral: 1x damage\n",
    "Not very effective: 0.5x damage\n",
    "To prevent this challenge from being tedious, you'll only be dealing with four types: fire, water, grass, and electric. Here is the effectiveness of each matchup:\n",
    "\n",
    "fire > grass\n",
    "fire < water\n",
    "fire = electric\n",
    "water < grass\n",
    "water < electric\n",
    "grass = electric\n",
    "The function you must implement takes in:\n",
    "\n",
    "your type\n",
    "the opponent's type\n",
    "your attack power\n",
    "the opponent's defense\n",
    "Examples\n",
    "calculate_damage(\"fire\", \"water\", 100, 100) ➞ 25\n",
    "\n",
    "calculate_damage(\"grass\", \"fire\", 35, 5) ➞ 175\n",
    "\n",
    "calculate_damage(\"electric\", \"fire\", 100, 100) ➞ 50\n",
    "Notes\n",
    "Any type against itself is not very effective. Also, assume that the relationships between different types are symmetric (if A is super effective against B, then B is not very effective against A)."
   ]
  },
  {
   "cell_type": "code",
   "execution_count": 13,
   "id": "bb55e6d1",
   "metadata": {},
   "outputs": [],
   "source": [
    "def calculate_damage(your_type, opponent_type, attack_power, defense):\n",
    "    effectiveness = 1.0  # Default effectiveness is neutral\n",
    "\n",
    "    # Check the type matchup\n",
    "    if your_type == \"fire\":\n",
    "        if opponent_type == \"grass\":\n",
    "            effectiveness = 2.0  # Super effective against grass\n",
    "        elif opponent_type == \"water\":\n",
    "            effectiveness = 0.5  # Not very effective against water\n",
    "        elif opponent_type == \"electric\":\n",
    "            effectiveness = 1.0  # Neutral effectiveness against electric\n",
    "\n",
    "    elif your_type == \"water\":\n",
    "        if opponent_type == \"grass\":\n",
    "            effectiveness = 0.5  # Not very effective against grass\n",
    "        elif opponent_type == \"electric\":\n",
    "            effectiveness = 0.5  # Not very effective against electric\n",
    "\n",
    "    elif your_type == \"grass\":\n",
    "        if opponent_type == \"fire\":\n",
    "            effectiveness = 0.5  # Not very effective against fire\n",
    "        elif opponent_type == \"water\":\n",
    "            effectiveness = 2.0  # Super effective against water\n",
    "        elif opponent_type == \"electric\":\n",
    "            effectiveness = 1.0  # Neutral effectiveness against electric\n",
    "\n",
    "    elif your_type == \"electric\":\n",
    "        if opponent_type == \"fire\":\n",
    "            effectiveness = 1.0  # Neutral effectiveness against fire\n",
    "        elif opponent_type == \"water\":\n",
    "            effectiveness = 2.0  # Super effective against water\n",
    "        elif opponent_type == \"grass\":\n",
    "            effectiveness = 1.0  # Neutral effectiveness against grass\n",
    "\n",
    "    damage = 50 * (attack_power / defense) * effectiveness\n",
    "\n",
    "    return int(damage)  # Return the damage as an integer\n",
    "\n"
   ]
  },
  {
   "cell_type": "code",
   "execution_count": 14,
   "id": "0a6da5ec",
   "metadata": {},
   "outputs": [
    {
     "data": {
      "text/plain": [
       "25"
      ]
     },
     "execution_count": 14,
     "metadata": {},
     "output_type": "execute_result"
    }
   ],
   "source": [
    "calculate_damage(\"fire\", \"water\", 100, 100)"
   ]
  },
  {
   "cell_type": "markdown",
   "id": "d33a8112",
   "metadata": {},
   "source": [
    "#31 Blackjack\n",
    "Create a function that takes a list of card numbers and checks if the sum of their value exceeds 21. If the sum exceeds 21, return True and if the sum is under or equal to 21, return False. Values of the cards are as follows:\n",
    "\n",
    "2-10 are their value.\n",
    "J-K (face cards) count as 10.\n",
    "Aces count either as 1 or 11 - play conservatively, so that if giving an ace a value of 11 causes you to lose and 1 allows you to win, then go with 1.\n",
    "Examples\n",
    "over_twenty_one([2, 8, \"J\"]) ➞ False\n",
    "\n",
    "over_twenty_one([\"A\", \"J\", \"K\"]) ➞ False\n",
    "\n",
    "over_twenty_one([5, 5, 3, 9]) ➞ True\n",
    "\n",
    "over_twenty_one([2, 6, 4, 4, 5]) ➞ False\n",
    "\n",
    "over_twenty_one([\"J\", \"Q\", \"K\"]) ➞ True\n",
    "Notes\n",
    "There will be a maximum of one ace in each hand."
   ]
  },
  {
   "cell_type": "code",
   "execution_count": 15,
   "id": "48845189",
   "metadata": {},
   "outputs": [],
   "source": [
    "def over_twenty_one(cards):\n",
    "    # Define the value of each card\n",
    "    card_values = {\n",
    "        \"A\": 1,\n",
    "        \"J\": 10,\n",
    "        \"Q\": 10,\n",
    "        \"K\": 10\n",
    "    }\n",
    "\n",
    "    # Calculate the sum of card values\n",
    "    total = 0\n",
    "    for card in cards:\n",
    "        if card in card_values:\n",
    "            total += card_values[card]\n",
    "        else:\n",
    "            total += card\n",
    "\n",
    "    # Check if the sum exceeds 21\n",
    "    return total > 21\n",
    "\n"
   ]
  },
  {
   "cell_type": "code",
   "execution_count": 16,
   "id": "edc9f2c1",
   "metadata": {},
   "outputs": [
    {
     "data": {
      "text/plain": [
       "False"
      ]
     },
     "execution_count": 16,
     "metadata": {},
     "output_type": "execute_result"
    }
   ],
   "source": [
    "over_twenty_one([2, 8, \"J\"])"
   ]
  },
  {
   "cell_type": "markdown",
   "id": "2cde5ecd",
   "metadata": {},
   "source": [
    "#32 AlTeRnAtInG cApS\n",
    "Create a function that alternates the case of the letters in a string (known as Spongecase).\n",
    "\n",
    "Examples\n",
    "alternating_caps(\"Hello\") ➞ \"HeLlO\"\n",
    "\n",
    "alternating_caps(\"How are you?\") ➞ \"HoW aRe YoU?\"\n",
    "\n",
    "alternating_caps(\"OMG this website is awesome!\") ➞ \"OmG tHiS wEbSiTe Is AwEsOmE!\"\n",
    "Notes\n",
    "The first letter should always be UPPERCASE.\n",
    "Ignore spaces."
   ]
  },
  {
   "cell_type": "code",
   "execution_count": 17,
   "id": "65722c79",
   "metadata": {},
   "outputs": [],
   "source": [
    "def alternating_caps(txt):\n",
    "    result = \"\"\n",
    "    uppercase = True  # Start with uppercase\n",
    "\n",
    "    for char in txt:\n",
    "        if char.isalpha():\n",
    "            if uppercase:\n",
    "                result += char.upper()\n",
    "            else:\n",
    "                result += char.lower()\n",
    "\n",
    "            uppercase = not uppercase  # Toggle uppercase flag\n",
    "        else:\n",
    "            result += char  # Keep non-alphabetic characters as is\n",
    "\n",
    "    return result\n",
    "\n"
   ]
  },
  {
   "cell_type": "code",
   "execution_count": 18,
   "id": "98c03ed2",
   "metadata": {},
   "outputs": [
    {
     "data": {
      "text/plain": [
       "'HeLlO'"
      ]
     },
     "execution_count": 18,
     "metadata": {},
     "output_type": "execute_result"
    }
   ],
   "source": [
    "alternating_caps(\"Hello\") "
   ]
  },
  {
   "cell_type": "markdown",
   "id": "5b8a2c32",
   "metadata": {},
   "source": [
    "#33 Check If the Brick Fits through the Hole\n",
    "Write the function that takes three dimensions of a brick: height(a), width(b) and depth(c) and returns True if this brick can fit into a hole with the width(w) and height(h).\n",
    "\n",
    "Examples\n",
    "does_brick_fit(1, 1, 1, 1, 1) ➞ True\n",
    "\n",
    "does_brick_fit(1, 2, 1, 1, 1) ➞ True\n",
    "\n",
    "does_brick_fit(1, 2, 2, 1, 1) ➞ False\n",
    "Notes\n",
    "You can turn the brick with any side towards the hole.\n",
    "We assume that the brick fits if its sizes equal the ones of the hole (i.e. brick size should be less than or equal to the size of the hole, not strictly less).\n",
    "You can't put a brick in at a non-orthogonal angle."
   ]
  },
  {
   "cell_type": "code",
   "execution_count": 19,
   "id": "3bf57284",
   "metadata": {},
   "outputs": [],
   "source": [
    "def does_brick_fit(a, b, c, w, h):\n",
    "    # Check if any side of the brick is larger than the corresponding side of the hole\n",
    "    if a <= w and b <= h:\n",
    "        return True\n",
    "    if a <= h and b <= w:\n",
    "        return True\n",
    "    if b <= w and c <= h:\n",
    "        return True\n",
    "    if b <= h and c <= w:\n",
    "        return True\n",
    "    if c <= w and a <= h:\n",
    "        return True\n",
    "    if c <= h and a <= w:\n",
    "        return True\n",
    "\n",
    "    return False\n",
    "\n"
   ]
  },
  {
   "cell_type": "code",
   "execution_count": 20,
   "id": "bbd248be",
   "metadata": {},
   "outputs": [
    {
     "data": {
      "text/plain": [
       "True"
      ]
     },
     "execution_count": 20,
     "metadata": {},
     "output_type": "execute_result"
    }
   ],
   "source": [
    "does_brick_fit(1, 1, 1, 1, 1)"
   ]
  },
  {
   "cell_type": "code",
   "execution_count": 21,
   "id": "368cd05b",
   "metadata": {},
   "outputs": [
    {
     "data": {
      "text/plain": [
       "True"
      ]
     },
     "execution_count": 21,
     "metadata": {},
     "output_type": "execute_result"
    }
   ],
   "source": [
    "does_brick_fit(1, 2, 1, 1, 1)"
   ]
  },
  {
   "cell_type": "markdown",
   "id": "846561a5",
   "metadata": {},
   "source": [
    "#33 Chemical Reactions\n",
    "Mubashir was testing how atoms can react in their ionic state during nuclear fusion. He observed that atoms can introduce different elements with Hydrogen at high temperatures and inside a pressurized chamber. During his experiment, elements started precipitating inside the chamber. Help him find the total number of molecules of Water H2O, Carbon Dioxide CO2 and Methane CH4 generated during this process.\n",
    "\n",
    "Given the number of atoms of carbon, hydrogen and oxygen, calculate the molecules in the following order:\n",
    "\n",
    "1. Hydrogen reacts with Oxygen = H2O\n",
    "2. Carbon reacts with Oxygen   = CO2\n",
    "3. Carbon reacts with Hydrogen = CH4\n",
    "Examples\n",
    "chemical_reactions(45, 11, 100) ➞ [5, 45, 0]\n",
    "# 10 atoms of hydrogen + 5 atoms of oxygen = 5 molecules of H2O\n",
    "# 45 atoms of carbon + 90 atoms of oxygen = 45 molecules of CO2\n",
    "# 1 hydrogen atom + 0 carbon atoms = 0 molecules of CH4\n",
    "\n",
    "chemical_reactions(113, 0, 52) ➞ [0, 26, 0]\n",
    "\n",
    "chemical_reactions(939, 3, 694) ➞ [1, 346, 0]\n",
    "Notes\n",
    "N/A"
   ]
  },
  {
   "cell_type": "code",
   "execution_count": 22,
   "id": "4d25e9bc",
   "metadata": {},
   "outputs": [],
   "source": [
    "def chemical_reactions(carbon, hydrogen, oxygen):\n",
    "    water = min(hydrogen // 2, oxygen)  # Calculate molecules of H2O\n",
    "    carbon_dioxide = min(carbon, oxygen // 2)  # Calculate molecules of CO2\n",
    "    methane = min(carbon, hydrogen // 4)  # Calculate molecules of CH4\n",
    "\n",
    "    return [water, carbon_dioxide, methane]\n",
    "\n"
   ]
  },
  {
   "cell_type": "code",
   "execution_count": 23,
   "id": "a1a65084",
   "metadata": {},
   "outputs": [
    {
     "data": {
      "text/plain": [
       "[0, 26, 0]"
      ]
     },
     "execution_count": 23,
     "metadata": {},
     "output_type": "execute_result"
    }
   ],
   "source": [
    "chemical_reactions(113, 0, 52)"
   ]
  },
  {
   "cell_type": "markdown",
   "id": "33fe2674",
   "metadata": {},
   "source": [
    "#34 Pronouncing the Xs\n",
    "Create a function which replaces all the x's in the string in the following ways:\n",
    "\n",
    "Replace all x's with \"cks\" UNLESS:\n",
    "\n",
    "The word begins with \"x\", therefore replace it with \"z\".\n",
    "The word is just the letter \"x\", therefore replace it with \"ecks\".\n",
    "Examples\n",
    "x_pronounce(\"Inside the box was a xylophone\") ➞ \"Inside the bocks was a zylophone\"\n",
    "\n",
    "x_pronounce(\"The x ray is excellent\") ➞ \"The ecks ray is eckscellent\"\n",
    "\n",
    "x_pronounce(\"OMG x box unboxing video x D\") ➞ \"OMG ecks bocks unbocksing video ecks D\"\n",
    "Notes\n",
    "All x's are lowercase.\n",
    "I know that not all words with x's follow this rule, but there are too many edge cases to count!"
   ]
  },
  {
   "cell_type": "code",
   "execution_count": 24,
   "id": "04838cc4",
   "metadata": {},
   "outputs": [],
   "source": [
    "def x_pronounce(sentence):\n",
    "    words = sentence.split()  # Split the sentence into words\n",
    "    result = []  # List to store the modified words\n",
    "    \n",
    "    for word in words:\n",
    "        if word == 'x':\n",
    "            result.append('ecks')  # Replace 'x' with 'ecks'\n",
    "        elif word[0] == 'x':\n",
    "            result.append('z' + word[1:])  # Replace 'x' at the beginning with 'z'\n",
    "        else:\n",
    "            result.append(word.replace('x', 'cks'))  # Replace all other 'x's with 'cks'\n",
    "\n",
    "    return ' '.join(result)  # Join the modified words into a sentence\n"
   ]
  },
  {
   "cell_type": "code",
   "execution_count": 25,
   "id": "f96863f3",
   "metadata": {},
   "outputs": [
    {
     "data": {
      "text/plain": [
       "'Inside the bocks was a zylophone'"
      ]
     },
     "execution_count": 25,
     "metadata": {},
     "output_type": "execute_result"
    }
   ],
   "source": [
    "x_pronounce(\"Inside the box was a xylophone\")"
   ]
  },
  {
   "cell_type": "markdown",
   "id": "ce46ebc3",
   "metadata": {},
   "source": [
    "#35 Can You Spare a Square?\n",
    "Try to imagine a world in which you might have to stay home for 14 days at any given time. Do you have enough TP to make it through?\n",
    "\n",
    "Although the number of squares per roll of TP varies significantly, we'll assume each roll has 500 sheets, and the average person uses 57 sheets per day.\n",
    "\n",
    "Create a function that will receive a dictionary with two key/values:\n",
    "\n",
    "\"people\" ⁠— Number of people in the household.\n",
    "\"tp\" ⁠— Number of rolls.\n",
    "Return a statement telling the user if they need to buy more TP!\n",
    "\n",
    "Examples\n",
    "tp_checker({ \"people\": 4, \"tp\": 1 }) ➞ \"Your TP will only last 2 days, buy more!\"\n",
    "\n",
    "tp_checker({ \"people\": 3, \"tp\": 20 }) ➞ \"Your TP will last 58 days, no need to panic!\"\n",
    "\n",
    "tp_checker({ \"people\": 4, \"tp\": 12 }) ➞ \"Your TP will last 26 days, no need to panic!\"\n",
    "Notes\n",
    "Stay safe, and happy coding!"
   ]
  },
  {
   "cell_type": "code",
   "execution_count": 26,
   "id": "1ffad884",
   "metadata": {},
   "outputs": [],
   "source": [
    "def tp_checker(info):\n",
    "    people = info[\"people\"]\n",
    "    rolls = info[\"tp\"]\n",
    "    \n",
    "    sheets_per_roll = 500\n",
    "    sheets_per_day = 57\n",
    "    \n",
    "    total_sheets = rolls * sheets_per_roll\n",
    "    days = total_sheets // (people * sheets_per_day)\n",
    "    \n",
    "    if days < 14:\n",
    "        return f\"Your TP will only last {days} days, buy more!\"\n",
    "    else:\n",
    "        return f\"Your TP will last {days} days, no need to panic!\"\n"
   ]
  },
  {
   "cell_type": "code",
   "execution_count": 27,
   "id": "d165ae7b",
   "metadata": {},
   "outputs": [
    {
     "data": {
      "text/plain": [
       "'Your TP will only last 2 days, buy more!'"
      ]
     },
     "execution_count": 27,
     "metadata": {},
     "output_type": "execute_result"
    }
   ],
   "source": [
    "tp_checker({ \"people\": 4, \"tp\": 1 })"
   ]
  },
  {
   "cell_type": "markdown",
   "id": "71881b77",
   "metadata": {},
   "source": [
    "#36 Perimeters with a Catch\n",
    "Write a function that takes a number and returns the perimeter of either a circle or a square. The input will be in the form (letter l, number num) where the letter will be either \"s\" for square, or \"c\" for circle, and the number will be the side of the square or the radius of the circle.\n",
    "\n",
    "Use the following formulas:\n",
    "\n",
    "Perimeter of a square: 4 * side.\n",
    "Perimeter of a circle: 6.28 * radius.\n",
    "The catch is you can only use arithmetic or comparison operators, which means:\n",
    "\n",
    "No if... else statements.\n",
    "No dictionaries.\n",
    "No lambdas.\n",
    "No formatting methods, etc.\n",
    "The goal is to write a short, branch-free piece of code.\n",
    "\n",
    "Examples\n",
    "perimeter(\"s\", 7) ➞ 28\n",
    "\n",
    "perimeter(\"c\", 4) ➞ 25.12\n",
    "\n",
    "perimeter(\"c\", 9) ➞ 56.52\n",
    "Notes\n",
    "No rounding is needed.\n",
    "Hint: The Boolean True, used with arithmetic operators, counts as 1, while False counts as 0. That means (a>b)+1 will return 1 or 2, depending on the values of a and b."
   ]
  },
  {
   "cell_type": "code",
   "execution_count": 28,
   "id": "da2453cc",
   "metadata": {},
   "outputs": [],
   "source": [
    "def perimeter(l, num):\n",
    "    square_perimeter = 4 * num\n",
    "    circle_perimeter = 6.28 * num\n",
    "    return (l == 's') * square_perimeter + (l == 'c') * circle_perimeter\n"
   ]
  },
  {
   "cell_type": "code",
   "execution_count": 29,
   "id": "43257647",
   "metadata": {},
   "outputs": [
    {
     "data": {
      "text/plain": [
       "28.0"
      ]
     },
     "execution_count": 29,
     "metadata": {},
     "output_type": "execute_result"
    }
   ],
   "source": [
    "perimeter(\"s\", 7)"
   ]
  },
  {
   "cell_type": "markdown",
   "id": "c5cd4dfc",
   "metadata": {},
   "source": [
    "#37 Powerful Numbers\n",
    "Given a positive number x:\n",
    "\n",
    "p = (p1, p2, …)\n",
    "# Set of *prime* factors of x\n",
    "If the square of every item in p is also a factor of x, then x is said to be a powerful number.\n",
    "\n",
    "Create a function that takes a number and returns True if it's powerful, False if it's not.\n",
    "\n",
    "Examples\n",
    "is_powerful(36) ➞ True\n",
    "# p = (2, 3) (prime factors of 36)\n",
    "# 2^2 = 4 (factor of 36)\n",
    "# 3^2 = 9 (factor of 36)\n",
    "\n",
    "is_powerful(27) ➞ True\n",
    "\n",
    "is_powerful(674) ➞ False\n",
    "Notes\n",
    "N/A"
   ]
  },
  {
   "cell_type": "code",
   "execution_count": 30,
   "id": "63d57fb8",
   "metadata": {},
   "outputs": [],
   "source": [
    "from math import isqrt\n",
    "\n",
    "def is_powerful(x):\n",
    "    factors = set()\n",
    "    \n",
    "    # Find prime factors of x\n",
    "    for i in range(2, isqrt(x) + 1):\n",
    "        while x % i == 0:\n",
    "            factors.add(i)\n",
    "            x //= i\n",
    "    \n",
    "    if x > 1:\n",
    "        factors.add(x)\n",
    "    \n",
    "    # Check if the square of each factor is also a factor of x\n",
    "    for factor in factors:\n",
    "        if x % (factor * factor) != 0:\n",
    "            return False\n",
    "    \n",
    "    return True\n"
   ]
  },
  {
   "cell_type": "code",
   "execution_count": 31,
   "id": "7b5f0bf4",
   "metadata": {},
   "outputs": [
    {
     "data": {
      "text/plain": [
       "False"
      ]
     },
     "execution_count": 31,
     "metadata": {},
     "output_type": "execute_result"
    }
   ],
   "source": [
    "is_powerful(27)"
   ]
  },
  {
   "cell_type": "code",
   "execution_count": null,
   "id": "c7746a96",
   "metadata": {},
   "outputs": [],
   "source": []
  }
 ],
 "metadata": {
  "kernelspec": {
   "display_name": "Python 3 (ipykernel)",
   "language": "python",
   "name": "python3"
  },
  "language_info": {
   "codemirror_mode": {
    "name": "ipython",
    "version": 3
   },
   "file_extension": ".py",
   "mimetype": "text/x-python",
   "name": "python",
   "nbconvert_exporter": "python",
   "pygments_lexer": "ipython3",
   "version": "3.10.9"
  }
 },
 "nbformat": 4,
 "nbformat_minor": 5
}
