{
 "cells": [
  {
   "cell_type": "code",
   "execution_count": null,
   "id": "5ee2984a",
   "metadata": {},
   "outputs": [],
   "source": [
    "#1.Write a Python program that prints all the numbers from 0 to 6 except 3 and 6"
   ]
  },
  {
   "cell_type": "code",
   "execution_count": 20,
   "id": "10cafff5",
   "metadata": {},
   "outputs": [
    {
     "name": "stdout",
     "output_type": "stream",
     "text": [
      "0\n",
      "1\n",
      "2\n",
      "4\n",
      "5\n"
     ]
    }
   ],
   "source": [
    "for num in range(7):\n",
    "    if num != 3 and num != 6:\n",
    "        print(num)"
   ]
  },
  {
   "cell_type": "code",
   "execution_count": null,
   "id": "3dda3007",
   "metadata": {},
   "outputs": [],
   "source": [
    "#2.Write a program to accept a number from a user and calculate the sum of all numbers from 1 to a given number"
   ]
  },
  {
   "cell_type": "code",
   "execution_count": 21,
   "id": "2a5f5210",
   "metadata": {},
   "outputs": [
    {
     "name": "stdout",
     "output_type": "stream",
     "text": [
      "Enter a number: 5\n",
      "Sum of numbers from 1 to 5 is: 15\n"
     ]
    }
   ],
   "source": [
    "num = int(input(\"Enter a number: \"))\n",
    "\n",
    "sum_of_numbers = 0\n",
    "\n",
    "for i in range(1, num + 1):\n",
    "    sum_of_numbers += i\n",
    "\n",
    "print(\"Sum of numbers from 1 to\", num, \"is:\", sum_of_numbers)"
   ]
  },
  {
   "cell_type": "code",
   "execution_count": null,
   "id": "91e33d79",
   "metadata": {},
   "outputs": [],
   "source": [
    "#3.Write a program to print multiplication table of a given number(input)"
   ]
  },
  {
   "cell_type": "code",
   "execution_count": 22,
   "id": "361952cc",
   "metadata": {},
   "outputs": [
    {
     "name": "stdout",
     "output_type": "stream",
     "text": [
      "which table do you want6\n",
      "6*1=6\n",
      "6*2=12\n",
      "6*3=18\n",
      "6*4=24\n",
      "6*5=30\n",
      "6*6=36\n",
      "6*7=42\n",
      "6*8=48\n",
      "6*9=54\n",
      "6*10=60\n"
     ]
    }
   ],
   "source": [
    "table=int(input(\"which table do you want\"))\n",
    "for x in range(1,11):\n",
    "    print(\"{}*{}={}\".format(table,x,table*x))"
   ]
  },
  {
   "cell_type": "code",
   "execution_count": null,
   "id": "b2e4000a",
   "metadata": {},
   "outputs": [],
   "source": [
    "#4.Write a program to count the total number of digits in a number using a while loop."
   ]
  },
  {
   "cell_type": "code",
   "execution_count": 1,
   "id": "c6903901",
   "metadata": {},
   "outputs": [
    {
     "name": "stdout",
     "output_type": "stream",
     "text": [
      "Enter a digit: 8695\n",
      "Total number of digits: 4\n"
     ]
    }
   ],
   "source": [
    "x=input(\"Enter a digit: \")\n",
    "y=0\n",
    "while y<len(x):\n",
    "    y+=1\n",
    "print(\"Total number of digits: \"+str(y))"
   ]
  },
  {
   "cell_type": "code",
   "execution_count": null,
   "id": "b85017d1",
   "metadata": {},
   "outputs": [],
   "source": [
    "#5.Write a Python program to guess a number between 1 to\n",
    "#Example:\n",
    "#User is prompted to enter a guess. If the user guesses wrong then the prompt appears again until the guess\n",
    "#is correct, on successful guess, user will get a \"Well guessed!\" message, and the program will exit."
   ]
  },
  {
   "cell_type": "code",
   "execution_count": null,
   "id": "25faf088",
   "metadata": {},
   "outputs": [],
   "source": [
    "#6.Write a Python program which iterates the integers from 1 to 60.\n",
    "#For multiples of three print \"Fizz\" instead of the number and for the multiples of five print \"Buzz\".\n",
    "#For numbers which are multiples of both three and five print \"FizzBuz"
   ]
  },
  {
   "cell_type": "code",
   "execution_count": 2,
   "id": "f4969a55",
   "metadata": {},
   "outputs": [
    {
     "name": "stdout",
     "output_type": "stream",
     "text": [
      "1\n",
      "2\n",
      "Fizz\n",
      "4\n",
      "Buzz\n",
      "Fizz\n",
      "7\n",
      "8\n",
      "Fizz\n",
      "Buzz\n",
      "11\n",
      "Fizz\n",
      "13\n",
      "14\n",
      "FizzBuzz\n",
      "16\n",
      "17\n",
      "Fizz\n",
      "19\n",
      "Buzz\n",
      "Fizz\n",
      "22\n",
      "23\n",
      "Fizz\n",
      "Buzz\n",
      "26\n",
      "Fizz\n",
      "28\n",
      "29\n",
      "FizzBuzz\n",
      "31\n",
      "32\n",
      "Fizz\n",
      "34\n",
      "Buzz\n",
      "Fizz\n",
      "37\n",
      "38\n",
      "Fizz\n",
      "Buzz\n",
      "41\n",
      "Fizz\n",
      "43\n",
      "44\n",
      "FizzBuzz\n",
      "46\n",
      "47\n",
      "Fizz\n",
      "49\n",
      "Buzz\n",
      "Fizz\n",
      "52\n",
      "53\n",
      "Fizz\n",
      "Buzz\n",
      "56\n",
      "Fizz\n",
      "58\n",
      "59\n",
      "FizzBuzz\n"
     ]
    }
   ],
   "source": [
    "for x in range(1,61):\n",
    "    if x%3==0 and x%5==0:\n",
    "        print(\"FizzBuzz\")\n",
    "    elif x%3==0:\n",
    "        print(\"Fizz\")\n",
    "    elif x%5==0:\n",
    "        print(\"Buzz\")\n",
    "    else:\n",
    "        print(x)"
   ]
  },
  {
   "cell_type": "code",
   "execution_count": null,
   "id": "abd57297",
   "metadata": {},
   "outputs": [],
   "source": [
    "#7. Write a Python program that accepts a string and calculate the number of digits and letters\n",
    "#Example: Input\n",
    "#Python 3.2\n",
    "#Output\n",
    "#Letters 6 Digits 2"
   ]
  },
  {
   "cell_type": "code",
   "execution_count": 3,
   "id": "4c97df06",
   "metadata": {},
   "outputs": [
    {
     "name": "stdout",
     "output_type": "stream",
     "text": [
      "Enter a string: 555\n",
      "Letters: 0\n",
      "Digits: 3\n"
     ]
    }
   ],
   "source": [
    "y=input(\"Enter a string: \")\n",
    "a=b=0\n",
    "for x in range(0,len(y)):\n",
    "    if y[x].isalpha():\n",
    "        a+=1\n",
    "    elif y[x].isdigit():\n",
    "        b+=1\n",
    "    else:\n",
    "        continue\n",
    "print(\"Letters: \"+str(a)+\"\\nDigits: \"+str(b))"
   ]
  },
  {
   "cell_type": "code",
   "execution_count": null,
   "id": "027d6cc2",
   "metadata": {},
   "outputs": [],
   "source": [
    "#8.Write a Python program to check the validity of password input by users.\n",
    "#Validation:\n",
    "#At least 1 letter between [a-z] and 1 letter between [A-Z].\n",
    "#At least 1 number between [0-9]. At least 1 character from [$#@].\n",
    "#Minimum length 6 characters. Maximum length 16 characters.\n"
   ]
  },
  {
   "cell_type": "code",
   "execution_count": 4,
   "id": "9b1cdcac",
   "metadata": {},
   "outputs": [
    {
     "name": "stdout",
     "output_type": "stream",
     "text": [
      "Please enter your password: hhwq463#\n",
      "Invalid password\n"
     ]
    }
   ],
   "source": [
    "p=input(\"Please enter your password: \")\n",
    "l=u=d=c=0\n",
    "for x in range(0,len(p)):\n",
    "    if p[x].isalpha():\n",
    "        if p[x].isupper():\n",
    "            u+=1\n",
    "        else:\n",
    "            l+=1\n",
    "    elif p[x].isdigit():\n",
    "        d+=1\n",
    "    elif p[x]==\"$\" or p[x]==\"#\" or p[x]==\"@\":\n",
    "        c+=1\n",
    "    else:\n",
    "        continue\n",
    "if l>0 and u>1 and d>1 and c>1 and 6<=len(p)<=16:\n",
    "    print(\"Valid password\")\n",
    "else:\n",
    "    print(\"Invalid password\")"
   ]
  },
  {
   "cell_type": "code",
   "execution_count": null,
   "id": "d9d54747",
   "metadata": {},
   "outputs": [],
   "source": [
    "#9.Write a program in Python to reverse a word by using while loop."
   ]
  },
  {
   "cell_type": "code",
   "execution_count": 5,
   "id": "4a2fb886",
   "metadata": {},
   "outputs": [
    {
     "name": "stdout",
     "output_type": "stream",
     "text": [
      "Enter a string: meghana\n",
      "Reversed string is: anahgem\n"
     ]
    }
   ],
   "source": [
    "x=input(\"Enter a string: \")\n",
    "a=\"\";y=len(x)-1\n",
    "while len(a)<len(x):\n",
    "    a+=x[y]\n",
    "    y-=1\n",
    "print(\"Reversed string is: \"+a)"
   ]
  },
  {
   "cell_type": "code",
   "execution_count": null,
   "id": "135d4983",
   "metadata": {},
   "outputs": [],
   "source": [
    "#10.Write a program which takes 10 integers as input using loop and print their average value on the screen"
   ]
  },
  {
   "cell_type": "code",
   "execution_count": 6,
   "id": "52e12b68",
   "metadata": {},
   "outputs": [
    {
     "name": "stdout",
     "output_type": "stream",
     "text": [
      "Enter an integer: 5\n",
      "Enter an integer: 5\n",
      "Enter an integer: 4\n",
      "Enter an integer: 8\n",
      "Enter an integer: 3\n",
      "Enter an integer: 21\n",
      "Enter an integer: 87\n",
      "Enter an integer: 6\n",
      "Enter an integer: 1\n",
      "Enter an integer: 6\n",
      "Average: 14.6\n"
     ]
    }
   ],
   "source": [
    "\n",
    "s=0\n",
    "for x in range(0,10):\n",
    "    y=int(input(\"Enter an integer: \"))\n",
    "    s+=y\n",
    "print(\"Average: \"+str(s/10))"
   ]
  },
  {
   "cell_type": "code",
   "execution_count": null,
   "id": "f0249839",
   "metadata": {},
   "outputs": [],
   "source": [
    "#11. Write a program which takes integer inputs from user until he/she presses “q” \n",
    "#(Ask to press q to quit after every integer input). Print average and product of all numbers."
   ]
  },
  {
   "cell_type": "code",
   "execution_count": 7,
   "id": "0c8ec979",
   "metadata": {},
   "outputs": [
    {
     "name": "stdout",
     "output_type": "stream",
     "text": [
      "Enter a number 5\n",
      "Press q to quit 4\n",
      "Enter a number 5\n",
      "Press q to quit q\n",
      "Sum is 10\n",
      "Product is 25\n"
     ]
    }
   ],
   "source": [
    "\n",
    "s=0;x=\"\";p=1\n",
    "while not(x==\"q\" or x==\"Q\"):\n",
    "    y=int(input(\"Enter a number \")) \n",
    "    s+=y\n",
    "    p*=y\n",
    "    x=input(\"Press q to quit \")\n",
    "print(\"Sum is \"+str(s)+\"\\nProduct is \"+str(p))"
   ]
  },
  {
   "cell_type": "code",
   "execution_count": null,
   "id": "23360db3",
   "metadata": {},
   "outputs": [],
   "source": [
    "#12.Write a Python program which will remove all digits or any other characters from the string except alphabets\n",
    "#Example: Input:\n",
    "#“asd12.asd22”\n",
    "#Output: 'asdasd'"
   ]
  },
  {
   "cell_type": "code",
   "execution_count": 9,
   "id": "50201655",
   "metadata": {},
   "outputs": [
    {
     "name": "stdout",
     "output_type": "stream",
     "text": [
      "Enter a string: nb2gv@vhj\n",
      "nbgvvhj\n"
     ]
    }
   ],
   "source": [
    "x=input(\"Enter a string: \")\n",
    "a=\"\"\n",
    "for y in range(0,len(x)):\n",
    "    if x[y].isalpha():\n",
    "        a+=x[y]\n",
    "    else:\n",
    "        continue\n",
    "print(a)"
   ]
  },
  {
   "cell_type": "code",
   "execution_count": null,
   "id": "447aee57",
   "metadata": {},
   "outputs": [],
   "source": [
    "#13.Write a python program to find the sum of all even numbers from 0 to 10."
   ]
  },
  {
   "cell_type": "code",
   "execution_count": 10,
   "id": "2708c2ba",
   "metadata": {},
   "outputs": [
    {
     "name": "stdout",
     "output_type": "stream",
     "text": [
      "Sum is: 30\n"
     ]
    }
   ],
   "source": [
    "s=0\n",
    "for x in range(0,11):\n",
    "    if x%2==0:\n",
    "        s+=x\n",
    "    else:\n",
    "        continue\n",
    "print(\"Sum is: \"+str(s))"
   ]
  },
  {
   "cell_type": "code",
   "execution_count": null,
   "id": "d3f4e9cf",
   "metadata": {},
   "outputs": [],
   "source": [
    "#14.Write a python program which will accept a digit and print All the numbers before it till 0\n",
    "#Example: Input: 5\n",
    "#Output:\n",
    "#4 \n",
    "#3 \n",
    "#2 \n",
    "#1 \n",
    "#0"
   ]
  },
  {
   "cell_type": "code",
   "execution_count": 11,
   "id": "c3c31be3",
   "metadata": {},
   "outputs": [
    {
     "name": "stdout",
     "output_type": "stream",
     "text": [
      "Enter a number 56\n",
      "56\n",
      "55\n",
      "54\n",
      "53\n",
      "52\n",
      "51\n",
      "50\n",
      "49\n",
      "48\n",
      "47\n",
      "46\n",
      "45\n",
      "44\n",
      "43\n",
      "42\n",
      "41\n",
      "40\n",
      "39\n",
      "38\n",
      "37\n",
      "36\n",
      "35\n",
      "34\n",
      "33\n",
      "32\n",
      "31\n",
      "30\n",
      "29\n",
      "28\n",
      "27\n",
      "26\n",
      "25\n",
      "24\n",
      "23\n",
      "22\n",
      "21\n",
      "20\n",
      "19\n",
      "18\n",
      "17\n",
      "16\n",
      "15\n",
      "14\n",
      "13\n",
      "12\n",
      "11\n",
      "10\n",
      "9\n",
      "8\n",
      "7\n",
      "6\n",
      "5\n",
      "4\n",
      "3\n",
      "2\n",
      "1\n",
      "0\n"
     ]
    }
   ],
   "source": [
    "x=int(input(\"Enter a number \"))\n",
    "for y in range(x,-1,-1):\n",
    "    print(y)"
   ]
  }
 ],
 "metadata": {
  "kernelspec": {
   "display_name": "Python 3 (ipykernel)",
   "language": "python",
   "name": "python3"
  },
  "language_info": {
   "codemirror_mode": {
    "name": "ipython",
    "version": 3
   },
   "file_extension": ".py",
   "mimetype": "text/x-python",
   "name": "python",
   "nbconvert_exporter": "python",
   "pygments_lexer": "ipython3",
   "version": "3.10.9"
  }
 },
 "nbformat": 4,
 "nbformat_minor": 5
}
