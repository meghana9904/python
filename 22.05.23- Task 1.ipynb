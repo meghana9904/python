{
 "cells": [
  {
   "cell_type": "code",
   "execution_count": null,
   "id": "585d48fe",
   "metadata": {},
   "outputs": [],
   "source": [
    "#1.write a python programm to convert a string to lower case"
   ]
  },
  {
   "cell_type": "code",
   "execution_count": 4,
   "id": "1f0b9ab2",
   "metadata": {},
   "outputs": [],
   "source": [
    "x=\"\"\n",
    "for y in \"ABCD\":\n",
    "    x=x+y\n",
    "    x=x.lower()"
   ]
  },
  {
   "cell_type": "code",
   "execution_count": 5,
   "id": "7ce9f531",
   "metadata": {},
   "outputs": [
    {
     "data": {
      "text/plain": [
       "'abcd'"
      ]
     },
     "execution_count": 5,
     "metadata": {},
     "output_type": "execute_result"
    }
   ],
   "source": [
    "x"
   ]
  },
  {
   "cell_type": "code",
   "execution_count": null,
   "id": "3a16c8e5",
   "metadata": {},
   "outputs": [],
   "source": [
    "#2.write a python programm to convert only the odd indexed character to lower case."
   ]
  },
  {
   "cell_type": "code",
   "execution_count": 5,
   "id": "a3433c23",
   "metadata": {},
   "outputs": [
    {
     "name": "stdout",
     "output_type": "stream",
     "text": [
      "type a word to convert odd index letters to lower casePHYTON\n",
      "PhYtOn\n"
     ]
    }
   ],
   "source": [
    "b=input(\"type a word to convert odd index letters to lower case\")\n",
    "y=list(b)\n",
    "a=\"\"\n",
    "for x in range(0,len(b)):\n",
    "    if x%2==0:\n",
    "        a+=str(b[x])\n",
    "    else:\n",
    "        a+=str(b[x]).lower()\n",
    "print(a)"
   ]
  },
  {
   "cell_type": "code",
   "execution_count": null,
   "id": "56dd0298",
   "metadata": {},
   "outputs": [],
   "source": [
    "#3.write a python programm to convert only the even indexed character to lower case."
   ]
  },
  {
   "cell_type": "code",
   "execution_count": 7,
   "id": "3070c549",
   "metadata": {},
   "outputs": [
    {
     "name": "stdout",
     "output_type": "stream",
     "text": [
      "type a word to convert even index letters to lower casePHYTON\n",
      "pHyToN\n"
     ]
    }
   ],
   "source": [
    "b=input(\"type a word to convert even index letters to lower case\")\n",
    "y=list(b)\n",
    "a=\"\"\n",
    "for x in range(0,len(b)):\n",
    "    if x%2==0:\n",
    "        a+=str(b[x]).lower()\n",
    "    else:\n",
    "        a+=str(b[x])\n",
    "print(a)"
   ]
  },
  {
   "cell_type": "code",
   "execution_count": null,
   "id": "b958f0c3",
   "metadata": {},
   "outputs": [],
   "source": [
    "#4.write a python programm to convert only the odd indexed character to lower case."
   ]
  },
  {
   "cell_type": "code",
   "execution_count": 9,
   "id": "a80011a7",
   "metadata": {},
   "outputs": [
    {
     "name": "stdout",
     "output_type": "stream",
     "text": [
      "type a word to convert odd index letters to upper casepython\n",
      "pYtHoN\n"
     ]
    }
   ],
   "source": [
    "b=input(\"type a word to convert odd index letters to upper case\")\n",
    "y=list(b)\n",
    "a=\"\"\n",
    "for x in range(0,len(b)):\n",
    "    if x%2==0:\n",
    "        a+=str(b[x])\n",
    "    else:\n",
    "        a+=str(b[x]).upper()\n",
    "print(a)"
   ]
  },
  {
   "cell_type": "code",
   "execution_count": null,
   "id": "260d2fd1",
   "metadata": {},
   "outputs": [],
   "source": [
    "#5.write a python programm to convert only the even indexed character to upper case."
   ]
  },
  {
   "cell_type": "code",
   "execution_count": 10,
   "id": "eca17698",
   "metadata": {},
   "outputs": [
    {
     "name": "stdout",
     "output_type": "stream",
     "text": [
      "type a word to convert even index letters to upper casepython\n",
      "PyThOn\n"
     ]
    }
   ],
   "source": [
    "b=input(\"type a word to convert even index letters to upper case\")\n",
    "y=list(b)\n",
    "a=\"\"\n",
    "for x in range(0,len(b)):\n",
    "    if x%2==0:\n",
    "        a+=str(b[x]).upper()\n",
    "    else:\n",
    "        a+=str(b[x])\n",
    "print(a)"
   ]
  },
  {
   "cell_type": "code",
   "execution_count": null,
   "id": "f8ed57db",
   "metadata": {},
   "outputs": [],
   "source": [
    "#6.write a python code using a variable which contains name,age,phone no,fathers name, mothers named bio-data and now use it"
   ]
  },
  {
   "cell_type": "code",
   "execution_count": 18,
   "id": "7f89ba38",
   "metadata": {},
   "outputs": [
    {
     "name": "stdout",
     "output_type": "stream",
     "text": [
      "type your name:Meghana Rampally\n",
      "type your gender:female\n",
      "type your age24\n",
      "type your father name:sri hari\n",
      "type your mother name:sri lakshmi\n",
      "type your phone number:8332906346\n",
      " my name isMeghana Rampally, my gender is female, my age is 24, my father_name is sri hari, my mother_name is sri lakshmi, my phonenumber is 8332906346\n"
     ]
    }
   ],
   "source": [
    "name=input(\"type your name:\")\n",
    "gender=input(\"type your gender:\")\n",
    "age=int(input(\"type your age\"))\n",
    "father_name=str(input(\"type your father name:\"))\n",
    "mother_name=str(input(\"type your mother name:\"))\n",
    "phonenumber=int(input(\"type your phone number:\"))\n",
    "\n",
    "bio_data= \" my name is{}, my gender is {}, my age is {}, my father_name is {}, my mother_name is {}, my phonenumber is {}\"\n",
    "print(bio_data.format(name,gender,age,father_name,mother_name,phonenumber))\n"
   ]
  },
  {
   "cell_type": "code",
   "execution_count": null,
   "id": "eaeaa508",
   "metadata": {},
   "outputs": [],
   "source": [
    "#7.write a python code to count @"
   ]
  },
  {
   "cell_type": "code",
   "execution_count": 19,
   "id": "3119e341",
   "metadata": {},
   "outputs": [
    {
     "data": {
      "text/plain": [
       "8"
      ]
     },
     "execution_count": 19,
     "metadata": {},
     "output_type": "execute_result"
    }
   ],
   "source": [
    "x=\"12bhbsj@@2@2@gg@@2@2@hj\"\n",
    "x.count(\"@\")"
   ]
  },
  {
   "cell_type": "code",
   "execution_count": null,
   "id": "628bae06",
   "metadata": {},
   "outputs": [],
   "source": [
    "#8.write a python code to only extract names from the string\n",
    "\"name1.@gmail.com,name2.@gmail.com,name3.@gmail.com\""
   ]
  },
  {
   "cell_type": "code",
   "execution_count": 21,
   "id": "9d847818",
   "metadata": {},
   "outputs": [
    {
     "name": "stdout",
     "output_type": "stream",
     "text": [
      "name1\n",
      "name2\n",
      "name3\n"
     ]
    }
   ],
   "source": [
    "names = \"name1.@gmail.com,name2.@gmail.com,name3.@gmail.com\"\n",
    "name_list = names.split(',')\n",
    "extracted_names = []\n",
    "\n",
    "for name in name_list:\n",
    "    extracted_name = name.split('.')[0].strip()\n",
    "    extracted_names.append(extracted_name)\n",
    "\n",
    "for extracted_name in extracted_names:\n",
    "    print(extracted_name)"
   ]
  },
  {
   "cell_type": "code",
   "execution_count": null,
   "id": "3ea360b3",
   "metadata": {},
   "outputs": [],
   "source": [
    "#9.Given a string of odd length greater that 9,return a new string made of the middle three characters of a given String\n"
   ]
  },
  {
   "cell_type": "code",
   "execution_count": 22,
   "id": "01e1c5f2",
   "metadata": {},
   "outputs": [
    {
     "data": {
      "text/plain": [
       "'mei'"
      ]
     },
     "execution_count": 22,
     "metadata": {},
     "output_type": "execute_result"
    }
   ],
   "source": [
    "string=\"mynameissan\"\n",
    "string[4:7]"
   ]
  },
  {
   "cell_type": "code",
   "execution_count": null,
   "id": "30790fcf",
   "metadata": {},
   "outputs": [],
   "source": [
    "#10.Write a python program to insert a 2 string in the middle of 1 string"
   ]
  },
  {
   "cell_type": "code",
   "execution_count": 1,
   "id": "5af312d9",
   "metadata": {},
   "outputs": [
    {
     "name": "stdout",
     "output_type": "stream",
     "text": [
      "Please enter a string meghana\n",
      "Enetr a string of 2 characters you want to insert in the middlegha\n",
      "megghahana\n"
     ]
    }
   ],
   "source": [
    "x=input(\"Please enter a string \")\n",
    "y=input(\"Enetr a string of 2 characters you want to insert in the middle\")\n",
    "z=len(x)//2\n",
    "print(x[:z]+y+x[z:])"
   ]
  },
  {
   "cell_type": "code",
   "execution_count": null,
   "id": "c5d80144",
   "metadata": {},
   "outputs": [],
   "source": [
    "#11.Write a program to remove vowels fromthe entire alphabets"
   ]
  },
  {
   "cell_type": "code",
   "execution_count": 2,
   "id": "c439ef0a",
   "metadata": {},
   "outputs": [
    {
     "name": "stdout",
     "output_type": "stream",
     "text": [
      "Enetr a string: hello\n",
      "hll\n"
     ]
    }
   ],
   "source": [
    "x=input(\"Enetr a string: \")\n",
    "z=list(x)\n",
    "a=\"\"\n",
    "for y in range(0,len(x)):\n",
    "    if z[y]==\"a\" or z[y]==\"e\" or z[y]==\"i\" or z[y]==\"o\" or z[y]==\"u\" or z[y]==\"A\" or z[y]==\"E\" or z[y]==\"I\" or z[y]==\"O\" or z[y]==\"U\":\n",
    "        a+=\"\"\n",
    "    else:\n",
    "        a+=str(z[y])\n",
    "print(a)"
   ]
  }
 ],
 "metadata": {
  "kernelspec": {
   "display_name": "Python 3 (ipykernel)",
   "language": "python",
   "name": "python3"
  },
  "language_info": {
   "codemirror_mode": {
    "name": "ipython",
    "version": 3
   },
   "file_extension": ".py",
   "mimetype": "text/x-python",
   "name": "python",
   "nbconvert_exporter": "python",
   "pygments_lexer": "ipython3",
   "version": "3.10.9"
  }
 },
 "nbformat": 4,
 "nbformat_minor": 5
}
