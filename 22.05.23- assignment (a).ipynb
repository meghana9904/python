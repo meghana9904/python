{
 "cells": [
  {
   "cell_type": "code",
   "execution_count": null,
   "id": "5ee2984a",
   "metadata": {},
   "outputs": [],
   "source": [
    "#1.Write a program to accept two numbers from the userand calculate multiplication, division"
   ]
  },
  {
   "cell_type": "code",
   "execution_count": 2,
   "id": "6deadd2c",
   "metadata": {},
   "outputs": [
    {
     "name": "stdout",
     "output_type": "stream",
     "text": [
      "type 0 to start0\n",
      "type a number :5\n",
      "type a symbol *,/ :*\n",
      "type a number :4\n",
      "20\n",
      " press y/n to continue:n\n"
     ]
    }
   ],
   "source": [
    "x=input(\"type 0 to start\")\n",
    "\n",
    "while x==\"0\":\n",
    "    num1=int(input(\"type a number :\"))\n",
    "    operator=input(\"type a symbol *,/ :\")\n",
    "    num2=int(input(\"type a number :\"))\n",
    "    \n",
    "    \n",
    "    if operator==\"*\":\n",
    "        print(num1*num2)\n",
    "        y=input(\" press y/n to continue:\")\n",
    "    \n",
    "    else:\n",
    "        print(num1/num2)\n",
    "        y=input(\" press y/n to continue:\")\n",
    "    \n",
    "        \n",
    "    if y==\"n\":\n",
    "       break\n",
    "    \n",
    "        \n",
    "    else:\n",
    "      continue"
   ]
  },
  {
   "cell_type": "code",
   "execution_count": null,
   "id": "f5611a27",
   "metadata": {},
   "outputs": [],
   "source": [
    "#2.Write a python program to print the characters from a string that are present at an even index"
   ]
  },
  {
   "cell_type": "code",
   "execution_count": 4,
   "id": "58999d7f",
   "metadata": {},
   "outputs": [
    {
     "name": "stdout",
     "output_type": "stream",
     "text": [
      "type a wordmeghana\n",
      "mgaa\n"
     ]
    }
   ],
   "source": [
    "b=input(\"type a word\")\n",
    "y=list(b)\n",
    "a=\"\"\n",
    "for x in range(0,len(b)):\n",
    "    if x%2=0:\n",
    "        a+=str(b[x])\n",
    "print(a)\n",
    "    "
   ]
  },
  {
   "cell_type": "code",
   "execution_count": null,
   "id": "9b823f46",
   "metadata": {},
   "outputs": [],
   "source": [
    "#3.Write a python program to print the characters from a string that are present at an odd index"
   ]
  },
  {
   "cell_type": "code",
   "execution_count": 5,
   "id": "19f60857",
   "metadata": {},
   "outputs": [
    {
     "name": "stdout",
     "output_type": "stream",
     "text": [
      "type a wordmeghana\n",
      "ehn\n"
     ]
    }
   ],
   "source": [
    "b=input(\"type a word\")\n",
    "y=list(b)\n",
    "a=\"\"\n",
    "for x in range(0,len(b)):\n",
    "    if x%2!=0:\n",
    "        a+=str(b[x])\n",
    "print(a)\n",
    "    "
   ]
  },
  {
   "cell_type": "code",
   "execution_count": null,
   "id": "b48b4d72",
   "metadata": {},
   "outputs": [],
   "source": [
    "#4.Write a python program which will print the sum of the two numbers if the two numbers are even or it will print the difference of two numbers"
   ]
  },
  {
   "cell_type": "code",
   "execution_count": 7,
   "id": "b0d15d49",
   "metadata": {},
   "outputs": [
    {
     "name": "stdout",
     "output_type": "stream",
     "text": [
      "type a number6\n",
      "type a number7\n",
      "Difference: -1\n"
     ]
    }
   ],
   "source": [
    "num1=int(input(\"type a number\"))\n",
    "num2=int(input(\"type a number\"))\n",
    "if num1 % 2 == 0 and num2 % 2 == 0:\n",
    "    result = num1 + num2\n",
    "    print(\"Sum:\", result)\n",
    "else:\n",
    "    result = num1 - num2\n",
    "    print(\"Difference:\", result)"
   ]
  },
  {
   "cell_type": "code",
   "execution_count": null,
   "id": "4cf0621d",
   "metadata": {},
   "outputs": [],
   "source": [
    "#5.Write a python program to convert all even indexed alphabets to upper and odd indexed char"
   ]
  },
  {
   "cell_type": "code",
   "execution_count": 8,
   "id": "270d859f",
   "metadata": {},
   "outputs": [
    {
     "name": "stdout",
     "output_type": "stream",
     "text": [
      "type a wordmeghana\n",
      "MeGhAnA\n"
     ]
    }
   ],
   "source": [
    "b=input(\"type a word\")\n",
    "y=list(b)\n",
    "a=\"\"\n",
    "for x in range(len(b)):\n",
    "    if x%2==0:\n",
    "        a+=str(b[x]).upper()\n",
    "    else:\n",
    "        a+=str(b[x]).lower()\n",
    "print(a)"
   ]
  },
  {
   "cell_type": "code",
   "execution_count": null,
   "id": "5cc3b465",
   "metadata": {},
   "outputs": [],
   "source": [
    "#6.Write a python program which will print True if the input number is divisible by 5 or else False"
   ]
  },
  {
   "cell_type": "code",
   "execution_count": 2,
   "id": "dba82426",
   "metadata": {},
   "outputs": [
    {
     "name": "stdout",
     "output_type": "stream",
     "text": [
      "type a number10\n",
      "true\n"
     ]
    }
   ],
   "source": [
    "num=int(input(\"type a number\"))\n",
    "if num%5==0:\n",
    "    print(\"true\")\n",
    "else:\n",
    "    print(\"false\")  "
   ]
  },
  {
   "cell_type": "code",
   "execution_count": null,
   "id": "e079c21c",
   "metadata": {},
   "outputs": [],
   "source": [
    "#7.Given two integer numbers return their product only if the product is greater than 1000, else return their sum"
   ]
  },
  {
   "cell_type": "code",
   "execution_count": 3,
   "id": "73f231d9",
   "metadata": {},
   "outputs": [
    {
     "name": "stdout",
     "output_type": "stream",
     "text": [
      "type a number5\n",
      "type a number15566665\n",
      "77833325\n"
     ]
    }
   ],
   "source": [
    "num1=int(input(\"type a number\"))\n",
    "num2=int(input(\"type a number\"))\n",
    "product=num1*num2\n",
    "if num1*num2>1000:\n",
    "    print(product)\n"
   ]
  },
  {
   "cell_type": "code",
   "execution_count": null,
   "id": "ceae4a8a",
   "metadata": {},
   "outputs": [],
   "source": [
    "#8.Given two strings x, y writes a program to return a new string made of x and y’s first, middle, and last characters"
   ]
  },
  {
   "cell_type": "code",
   "execution_count": 4,
   "id": "604690b4",
   "metadata": {},
   "outputs": [
    {
     "name": "stdout",
     "output_type": "stream",
     "text": [
      "type a  3 letter wordmet\n",
      "type a  3 letter wordnet\n"
     ]
    },
    {
     "data": {
      "text/plain": [
       "'mneett'"
      ]
     },
     "execution_count": 4,
     "metadata": {},
     "output_type": "execute_result"
    }
   ],
   "source": [
    "x1=input(\"type a  3 letter word\")\n",
    "x2=input(\"type a  3 letter word\")\n",
    "x1[0]+x2[0]+x1[1]+x2[1]+x1[2]+x2[2]"
   ]
  },
  {
   "cell_type": "code",
   "execution_count": null,
   "id": "1e3507a1",
   "metadata": {},
   "outputs": [],
   "source": [
    "#9.Write a python program to take three names as input from a user in the single input () function call"
   ]
  },
  {
   "cell_type": "code",
   "execution_count": 10,
   "id": "3c798840",
   "metadata": {},
   "outputs": [
    {
     "name": "stdout",
     "output_type": "stream",
     "text": [
      "name1\n",
      "name2\n",
      "name3\n"
     ]
    }
   ],
   "source": [
    "names=\"name1\\nname2\\nname3\"\n",
    "print(names)"
   ]
  },
  {
   "cell_type": "code",
   "execution_count": null,
   "id": "760dd808",
   "metadata": {},
   "outputs": [],
   "source": [
    "#10.Write a Python program to get a string from a given string where all occurrences of its first char have been changed to '@', except the first char itself."
   ]
  },
  {
   "cell_type": "code",
   "execution_count": 12,
   "id": "ca555bfd",
   "metadata": {},
   "outputs": [
    {
     "data": {
      "text/plain": [
       "'megh@n@@'"
      ]
     },
     "execution_count": 12,
     "metadata": {},
     "output_type": "execute_result"
    }
   ],
   "source": [
    "v=\"megh@na@\"\n",
    "v.replace(\"a\",\"@\")"
   ]
  },
  {
   "cell_type": "code",
   "execution_count": null,
   "id": "5042e5d5",
   "metadata": {},
   "outputs": [],
   "source": [
    "#11.Write a Python program to add 'ing' at the end of a given string (string length should be equal to or more than 3). If the given string already ends with 'ing' then add 'ly' instead. If the string length of the given string is less than 3, leave it\n",
    "unchanged"
   ]
  },
  {
   "cell_type": "code",
   "execution_count": 14,
   "id": "a4f897e3",
   "metadata": {},
   "outputs": [
    {
     "data": {
      "text/plain": [
       "'singing'"
      ]
     },
     "execution_count": 14,
     "metadata": {},
     "output_type": "execute_result"
    }
   ],
   "source": [
    "v=\"sing\"\n",
    "x=\"ing\"\n",
    "v+x"
   ]
  },
  {
   "cell_type": "code",
   "execution_count": null,
   "id": "cc864fc9",
   "metadata": {},
   "outputs": [],
   "source": [
    "#12.Write a python program that accepts two inputs num1 and\n",
    "num2 print True if one of them is 10 or if their sum is 10\n",
    "otherwise print False"
   ]
  },
  {
   "cell_type": "code",
   "execution_count": 15,
   "id": "b0dc3640",
   "metadata": {},
   "outputs": [
    {
     "name": "stdout",
     "output_type": "stream",
     "text": [
      "type a number5\n",
      "type a number6\n",
      "false\n"
     ]
    }
   ],
   "source": [
    "num1=int(input(\"type a number\"))\n",
    "num2=int(input(\"type a number\"))\n",
    "if num1==10 or num2==10:\n",
    "    print(\"true\")\n",
    "elif num1+num2==10:\n",
    "    print(\"true\")\n",
    "else:\n",
    "    print(\"false\")"
   ]
  },
  {
   "cell_type": "code",
   "execution_count": null,
   "id": "89615640",
   "metadata": {},
   "outputs": [],
   "source": [
    "#13.Write a python program that accepts three inputs x, y and\n",
    "z print True if x*y>z otherwise False"
   ]
  },
  {
   "cell_type": "code",
   "execution_count": 1,
   "id": "8f4c7f77",
   "metadata": {},
   "outputs": [
    {
     "name": "stdout",
     "output_type": "stream",
     "text": [
      "type a number5\n",
      "type a number6\n",
      "type a number9\n",
      "true\n"
     ]
    }
   ],
   "source": [
    "x=int(input(\"type a number\"))\n",
    "y=int(input(\"type a number\"))\n",
    "z=int(input(\"type a number\"))\n",
    "if x*y>z:\n",
    "    print(\"true\")\n",
    "else:\n",
    "    print(\"false\")"
   ]
  },
  {
   "cell_type": "code",
   "execution_count": null,
   "id": "7b7c4e99",
   "metadata": {},
   "outputs": [],
   "source": [
    "#14.Write a python program that accepts two strings inputs\n",
    "return True depending on whether the total number of\n",
    "characters in the first string is equal to the total number of\n",
    "characters in the second string"
   ]
  },
  {
   "cell_type": "code",
   "execution_count": 3,
   "id": "0bf68c1d",
   "metadata": {},
   "outputs": [
    {
     "name": "stdout",
     "output_type": "stream",
     "text": [
      "type a wordmeghana\n",
      "type a wordrampally\n",
      "false\n"
     ]
    }
   ],
   "source": [
    "x=input(\"type a word\")\n",
    "y=input(\"type a word\")\n",
    "if len(x)==len(y):\n",
    "    print(\"true\")\n",
    "else:\n",
    "    print(\"false\")"
   ]
  },
  {
   "cell_type": "code",
   "execution_count": null,
   "id": "00ccb57b",
   "metadata": {},
   "outputs": [],
   "source": [
    "#15.Write a python program that takes a string input, we'll say that the front is the first three characters of the string. If the string length is less than three characters, the front is whatever is there. Return a new string, which is three copies\n",
    "of the front"
   ]
  },
  {
   "cell_type": "code",
   "execution_count": 4,
   "id": "32aa1ef0",
   "metadata": {},
   "outputs": [
    {
     "data": {
      "text/plain": [
       "3"
      ]
     },
     "execution_count": 4,
     "metadata": {},
     "output_type": "execute_result"
    }
   ],
   "source": [
    "v=\"meg\"\n",
    "len(v)"
   ]
  },
  {
   "cell_type": "code",
   "execution_count": 5,
   "id": "b985fb42",
   "metadata": {},
   "outputs": [
    {
     "data": {
      "text/plain": [
       "'megmegmeg'"
      ]
     },
     "execution_count": 5,
     "metadata": {},
     "output_type": "execute_result"
    }
   ],
   "source": [
    "v*3"
   ]
  },
  {
   "cell_type": "code",
   "execution_count": null,
   "id": "47db9ac7",
   "metadata": {},
   "outputs": [],
   "source": [
    "#16.Write a python program that takes in a word and\n",
    "determines whether or not it is plural. A plural word is one\n",
    "that ends in \"s\"."
   ]
  },
  {
   "cell_type": "code",
   "execution_count": 7,
   "id": "89768bba",
   "metadata": {},
   "outputs": [
    {
     "name": "stdout",
     "output_type": "stream",
     "text": [
      "type a wordruns\n",
      "true\n"
     ]
    }
   ],
   "source": [
    "x=input(\"type a word\")\n",
    "if x[-1]==\"s\":\n",
    "    print(\"true\")\n",
    "else:\n",
    "    print(\"false\")"
   ]
  },
  {
   "cell_type": "code",
   "execution_count": null,
   "id": "5b6093c0",
   "metadata": {},
   "outputs": [],
   "source": [
    "#17.A bartender is writing a simple program to determine\n",
    "whether he should serve drinks to someone. He only serves\n",
    "drinks to people 18 and older and when he's not on break\n",
    "(True means break and False means not a break time). Given\n",
    "the person's age, and whether break time is in session, create\n",
    "a python program which prints whether he should serve\n",
    "drinks or not."
   ]
  },
  {
   "cell_type": "code",
   "execution_count": 8,
   "id": "f599f713",
   "metadata": {},
   "outputs": [
    {
     "name": "stdout",
     "output_type": "stream",
     "text": [
      "type age -23\n",
      "type y/n -n\n",
      "serve\n"
     ]
    }
   ],
   "source": [
    "age=int(input(\"type age -\"))\n",
    "break_time=input(\"type y/n -\")\n",
    "if age>=18 and break_time==\"n\":\n",
    "    print(\"serve\")\n",
    "else:\n",
    "    print(\"no_serving\")\n",
    "    "
   ]
  },
  {
   "cell_type": "code",
   "execution_count": null,
   "id": "6b4a8e7d",
   "metadata": {},
   "outputs": [],
   "source": [
    "#18.Manoj Kumar has family and friends. Help him remind\n",
    "them who is who. Given a string with a name, return the\n",
    "relation of that person to Manoj Kumar."
   ]
  },
  {
   "cell_type": "code",
   "execution_count": 1,
   "id": "442e677d",
   "metadata": {},
   "outputs": [
    {
     "name": "stdout",
     "output_type": "stream",
     "text": [
      "Enter the name: letha\n",
      "Relation not found\n"
     ]
    }
   ],
   "source": [
    "x=input(\"Enter the name: \")\n",
    "person=[\"Shiva\",\"Letha\",\"Tarun\",\"Kavitha\"]\n",
    "rel=[\"father\",\"mother\",\"brother\",\"sister\"]\n",
    "if x==person[0]:\n",
    "    print(\"Rleation is \"+rel[0])\n",
    "elif x==person[1]:\n",
    "    print(\"Rleation is \"+rel[1])\n",
    "elif x==person[2]:\n",
    "    print(\"Rleation is \"+rel[2])\n",
    "elif x==person[3]:\n",
    "    print(\"Rleation is \"+rel[3])\n",
    "else:\n",
    "    print(\"Relation not found\")\n"
   ]
  },
  {
   "cell_type": "code",
   "execution_count": null,
   "id": "c16dc048",
   "metadata": {},
   "outputs": [],
   "source": [
    "#19.Write a python program that takes a string, breaks it up\n",
    "and returns it with vowels first, consonants second. For any\n",
    "character that's not a vowel (like special characters or\n",
    "spaces), treat them like consonants"
   ]
  },
  {
   "cell_type": "code",
   "execution_count": 2,
   "id": "c7977798",
   "metadata": {},
   "outputs": [
    {
     "name": "stdout",
     "output_type": "stream",
     "text": [
      "Enter a string: meghana\n",
      "Vowels: eaa\n",
      "Consonants: mghn\n"
     ]
    }
   ],
   "source": [
    "\n",
    "x=input(\"Enter a string: \")\n",
    "vow=\"\";con=\"\"\n",
    "for y in range(0,len(x)):\n",
    "    if x[y]==\"a\" or x[y]==\"e\" or x[y]==\"i\" or x[y]==\"o\" or x[y]==\"u\" or x[y]==\"A\" or x[y]==\"E\" or x[y]==\"I\" or x[y]==\"O\" or x[y]==\"U\":\n",
    "        vow+=x[y]\n",
    "    else:\n",
    "        con+=x[y]\n",
    "print(\"Vowels: \"+vow+\"\\nConsonants: \"+con)"
   ]
  },
  {
   "cell_type": "code",
   "execution_count": null,
   "id": "0b0f0e85",
   "metadata": {},
   "outputs": [],
   "source": [
    "#19.dynamic calculator"
   ]
  },
  {
   "cell_type": "code",
   "execution_count": 19,
   "id": "95688b2b",
   "metadata": {},
   "outputs": [
    {
     "name": "stdout",
     "output_type": "stream",
     "text": [
      "type 0 to start0\n",
      "type a number5\n",
      "type a symbol +,-,*,/,//,% =+\n",
      "type a number5\n",
      "10\n",
      " press y/n to continue:n\n"
     ]
    }
   ],
   "source": [
    "x=input(\"type 0 to start\")\n",
    "\n",
    "while x==\"0\":\n",
    "    num1=int(input(\"type a number\"))\n",
    "    operator=input(\"type a symbol +,-,*,/,//,% =\")\n",
    "    num2=int(input(\"type a number\"))\n",
    "    \n",
    "    if operator==\"+\":\n",
    "        print(num1+num2)\n",
    "        y=input(\" press y/n to continue:\")\n",
    "    elif operator==\"-\":\n",
    "        print(num1-num2)\n",
    "        y=input(\" press y/n to continue:\")\n",
    "    \n",
    "    elif operator==\"*\":\n",
    "        print(num1*num2)\n",
    "        y=input(\" press y/n to continue:\")\n",
    "    \n",
    "    elif operator==\"/\":\n",
    "        print(num1/num2)\n",
    "        y=input(\" press y/n to continue:\")\n",
    "    \n",
    "    elif operator==\"%\":\n",
    "        print(num1%num2)\n",
    "        y=input(\" press y/n to continue:\")\n",
    "    \n",
    "    elif operator==\"//\":\n",
    "        print(num1//num2)\n",
    "        y=input(\" press y/n to continue:\")\n",
    "\n",
    "        \n",
    "    if y==\"n\":\n",
    "       break\n",
    "    \n",
    "        \n",
    "    else:\n",
    "      continue"
   ]
  }
 ],
 "metadata": {
  "kernelspec": {
   "display_name": "Python 3 (ipykernel)",
   "language": "python",
   "name": "python3"
  },
  "language_info": {
   "codemirror_mode": {
    "name": "ipython",
    "version": 3
   },
   "file_extension": ".py",
   "mimetype": "text/x-python",
   "name": "python",
   "nbconvert_exporter": "python",
   "pygments_lexer": "ipython3",
   "version": "3.10.9"
  }
 },
 "nbformat": 4,
 "nbformat_minor": 5
}
