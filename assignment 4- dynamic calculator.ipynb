{
 "cells": [
  {
   "cell_type": "code",
   "execution_count": 1,
   "id": "3429b07e",
   "metadata": {},
   "outputs": [
    {
     "name": "stdout",
     "output_type": "stream",
     "text": [
      "type 0 to start0\n",
      "type a number5\n",
      "type a symbol +,-,*,/,//,% =+\n",
      "type a number5\n",
      "10\n",
      " press y/n to continue:y\n",
      "type a number6\n",
      "type a symbol +,-,*,/,//,% =7\n",
      "type a number8\n",
      "type a number4\n",
      "type a symbol +,-,*,/,//,% =+\n",
      "type a number4\n",
      "8\n",
      " press y/n to continue:n\n"
     ]
    }
   ],
   "source": [
    "x=input(\"type 0 to start\")\n",
    "\n",
    "while x==\"0\":\n",
    "    num1=int(input(\"type a number\"))\n",
    "    operator=input(\"type a symbol +,-,*,/,//,% =\")\n",
    "    num2=int(input(\"type a number\"))\n",
    "    \n",
    "    if operator==\"+\":\n",
    "        print(num1+num2)\n",
    "        y=input(\" press y/n to continue:\")\n",
    "    elif operator==\"-\":\n",
    "        print(num1-num2)\n",
    "        y=input(\" press y/n to continue:\")\n",
    "    \n",
    "    elif operator==\"*\":\n",
    "        print(num1*num2)\n",
    "        y=input(\" press y/n to continue:\")\n",
    "    \n",
    "    elif operator==\"/\":\n",
    "        print(num1/num2)\n",
    "        y=input(\" press y/n to continue:\")\n",
    "    \n",
    "    elif operator==\"%\":\n",
    "        print(num1%num2)\n",
    "        y=input(\" press y/n to continue:\")\n",
    "    \n",
    "    elif operator==\"//\":\n",
    "        print(num1//num2)\n",
    "        y=input(\" press y/n to continue:\")\n",
    "\n",
    "        \n",
    "    if y==\"n\":\n",
    "       break\n",
    "    \n",
    "        \n",
    "    else:\n",
    "      continue"
   ]
  },
  {
   "cell_type": "code",
   "execution_count": null,
   "id": "8fd93495",
   "metadata": {},
   "outputs": [],
   "source": []
  }
 ],
 "metadata": {
  "kernelspec": {
   "display_name": "Python 3 (ipykernel)",
   "language": "python",
   "name": "python3"
  },
  "language_info": {
   "codemirror_mode": {
    "name": "ipython",
    "version": 3
   },
   "file_extension": ".py",
   "mimetype": "text/x-python",
   "name": "python",
   "nbconvert_exporter": "python",
   "pygments_lexer": "ipython3",
   "version": "3.10.9"
  }
 },
 "nbformat": 4,
 "nbformat_minor": 5
}
