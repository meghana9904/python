{
 "cells": [
  {
   "cell_type": "markdown",
   "id": "efde430f",
   "metadata": {},
   "source": [
    "#1 Luke, I Am Your ...\n",
    "Luke Skywalker has family and friends. Help him remind them who is who. Given a string with a name, return the relation of that person to Luke.\n",
    "\n",
    "Person\tRelation\n",
    "Darth Vader\tfather\n",
    "Leia\tsister\n",
    "Han\tbrother in law\n",
    "R2D2\tdroid\n",
    "Examples\n",
    "relation_to_luke(\"Darth Vader\") ➞ \"Luke, I am your father.\"\n",
    "\n",
    "relation_to_luke(\"Leia\") ➞ \"Luke, I am your sister.\"\n",
    "\n",
    "relation_to_luke(\"Han\") ➞ \"Luke, I am your brother in law.\"\n",
    "Notes"
   ]
  },
  {
   "cell_type": "code",
   "execution_count": 1,
   "id": "8e45026c",
   "metadata": {},
   "outputs": [],
   "source": [
    "def relation_to_luke(name):\n",
    "    if name==\"Darth Varder\":\n",
    "        return  \"Luke, I am your father.\"\n",
    "    elif name==\"Leia\":\n",
    "        return  \"Luke, I am your sister.\"\n",
    "    elif name==\"Han\":\n",
    "        return  \"Luke, I am your Brothet in law.\"\n",
    "    elif name==\"droid\":\n",
    "        return  \"Luke, I am your R2D2.\"\n",
    "    else:\n",
    "        return \"no relationship found\"\n"
   ]
  },
  {
   "cell_type": "code",
   "execution_count": 2,
   "id": "bee2ad10",
   "metadata": {},
   "outputs": [
    {
     "data": {
      "text/plain": [
       "'Luke, I am your father.'"
      ]
     },
     "execution_count": 2,
     "metadata": {},
     "output_type": "execute_result"
    }
   ],
   "source": [
    "relation_to_luke(\"Darth Varder\") "
   ]
  },
  {
   "cell_type": "markdown",
   "id": "cbb6c87a",
   "metadata": {},
   "source": [
    "#2 Create a function that takes damage and speed (attacks per second) and returns the amount of damage after a given time.\n",
    "\n",
    "Examples\n",
    "damage(40, 5, \"second\") ➞ 200\n",
    "\n",
    "damage(100, 1, \"minute\") ➞ 6000\n",
    "\n",
    "damage(2, 100, \"hour\") ➞ 720000\n",
    "Notes\n",
    "Return \"invalid\" if damage or speed is negative. "
   ]
  },
  {
   "cell_type": "code",
   "execution_count": 11,
   "id": "9800c3e8",
   "metadata": {},
   "outputs": [],
   "source": [
    "def damage(damage,speed,time_type):\n",
    "     if time_type==\"seconds\":\n",
    "        time=1\n",
    "        amount_of_damage=damage*speed*time\n",
    "        return  amount_of_damage\n",
    "     elif time_type==\"minutes\":\n",
    "        time=60\n",
    "        amount_of_damage==damage*speed*time\n",
    "        return  amount_of_damage\n",
    "     else:\n",
    "        time=3600\n",
    "        amount_of_damage==damage*speed*time\n",
    "        return  amount_of_damage"
   ]
  },
  {
   "cell_type": "code",
   "execution_count": 12,
   "id": "6259437b",
   "metadata": {},
   "outputs": [
    {
     "data": {
      "text/plain": [
       "200"
      ]
     },
     "execution_count": 12,
     "metadata": {},
     "output_type": "execute_result"
    }
   ],
   "source": [
    "damage(40,5,\"seconds\")"
   ]
  },
  {
   "cell_type": "markdown",
   "id": "a91fc61e",
   "metadata": {},
   "source": [
    "#3 Same Parity?\n",
    "Create a function that takes a number as input and returns True if the sum of its digits has the same parity as the entire number. Otherwise, return False.\n",
    "\n",
    "Examples\n",
    "parity_analysis(243) ➞ True\n",
    "# 243 is odd and so is 9 (2 + 4 + 3)\n",
    "\n",
    "parity_analysis(12) ➞ False\n",
    "# 12 is even but 3 is odd (1 + 2)\n",
    "\n",
    "parity_analysis(3) ➞ True\n",
    "# 3 is odd and 3 is odd and 3 is odd (3)\n",
    "Notes\n",
    "Parity is whether a number is even or odd. If the sum of the digits is even and the number itself is even, return True. The same goes if the number is odd and so is the sum of its digits.\n",
    "Single digits will obviously have the same parities (see example #3)."
   ]
  },
  {
   "cell_type": "code",
   "execution_count": 19,
   "id": "ae0e6414",
   "metadata": {},
   "outputs": [],
   "source": [
    "def parity_analysis(number):\n",
    "    number1=str(number)\n",
    "    n=0\n",
    "    for x in number1:\n",
    "        n+=int(x)\n",
    "        if n%2==0 and number%2==0:\n",
    "            return False\n",
    "        else:\n",
    "            return True"
   ]
  },
  {
   "cell_type": "code",
   "execution_count": 20,
   "id": "a20dcba7",
   "metadata": {},
   "outputs": [
    {
     "data": {
      "text/plain": [
       "True"
      ]
     },
     "execution_count": 20,
     "metadata": {},
     "output_type": "execute_result"
    }
   ],
   "source": [
    "parity_analysis(243)"
   ]
  },
  {
   "cell_type": "markdown",
   "id": "fb3ddd29",
   "metadata": {},
   "source": [
    "#4 Xs and Os, Nobody Knows\n",
    "Create a function that takes a string, checks if it has the same number of \"x\"s and \"o\"s and returns either True or False.\n",
    "\n",
    "Return a boolean value (True or False).\n",
    "Return True if the amount of x's and o's are the same.\n",
    "Return False if they aren't the same amount.\n",
    "The string can contain any character.\n",
    "When \"x\" and \"o\" are not in the string, return True.\n",
    "Examples\n",
    "XO(\"ooxx\") ➞ True\n",
    "\n",
    "XO(\"xooxx\") ➞ False\n",
    "\n",
    "XO(\"ooxXm\") ➞ True\n",
    "# Case insensitive.\n",
    "\n",
    "XO(\"zpzpzpp\") ➞ True\n",
    "# Returns True if no x and o.\n",
    "\n",
    "XO(\"zzoo\") ➞ False"
   ]
  },
  {
   "cell_type": "code",
   "execution_count": 1,
   "id": "328d4f85",
   "metadata": {},
   "outputs": [],
   "source": [
    "def XO(string):\n",
    "    string = string.lower()\n",
    "    count_x = string.count('x')\n",
    "    count_o = string.count('o')\n",
    "    return count_x == count_o\n"
   ]
  },
  {
   "cell_type": "code",
   "execution_count": 3,
   "id": "2873cbfa",
   "metadata": {},
   "outputs": [
    {
     "name": "stdout",
     "output_type": "stream",
     "text": [
      "True\n"
     ]
    }
   ],
   "source": [
    "print(XO(\"ooxx\")\n",
    "     )\n"
   ]
  },
  {
   "cell_type": "markdown",
   "id": "4e1e1684",
   "metadata": {},
   "source": [
    "#5 Flip the Boolean\n",
    "Create a function that reverses a boolean value and returns the string \"boolean expected\" if another variable type is given.\n",
    "\n",
    "Examples\n",
    "reverse(True) ➞ False\n",
    "\n",
    "reverse(False) ➞ True\n",
    "\n",
    "reverse(0) ➞ \"boolean expected\"\n",
    "\n",
    "reverse(None) ➞ \"boolean expected\"\n",
    "Notes\n",
    "Don't forget to return the result.\n",
    "If you get stuck on a challenge, find help in the Resources tab.\n",
    "If you're really stuck, unlock solutions in the Solutions tab."
   ]
  },
  {
   "cell_type": "code",
   "execution_count": 5,
   "id": "c0d6ae5d",
   "metadata": {},
   "outputs": [],
   "source": [
    "def reverse(boolean):\n",
    "    if boolean==\"True\":\n",
    "        return False\n",
    "    elif boolean==\"False\":\n",
    "        return True\n",
    "    elif boolean==\"0\" or boolean==\"1\":\n",
    "        return \"boolean expected\"\n",
    "    else:\n",
    "        return \"boolean expected\""
   ]
  },
  {
   "cell_type": "code",
   "execution_count": 6,
   "id": "a2a886ad",
   "metadata": {},
   "outputs": [
    {
     "data": {
      "text/plain": [
       "False"
      ]
     },
     "execution_count": 6,
     "metadata": {},
     "output_type": "execute_result"
    }
   ],
   "source": [
    "reverse(\"True\")"
   ]
  },
  {
   "cell_type": "markdown",
   "id": "836a7214",
   "metadata": {},
   "source": [
    "#6 Even Number Generator\n",
    "Using list comprehensions, create a function that finds all even numbers from 1 to the given number.\n",
    "\n",
    "Examples\n",
    "find_even_nums(8) ➞ [2, 4, 6, 8]\n",
    "\n",
    "find_even_nums(4) ➞ [2, 4]\n",
    "\n",
    "find_even_nums(2) ➞ [2]\n",
    "Try to use list comprehensions in your solution. Here's an example:\n",
    "\n",
    "vals = [expression \n",
    "  for value in collection \n",
    "    if condition]\n",
    "This is equivalent to:\n",
    "\n",
    "vals = []\n",
    "for value in collection:\n",
    "  if condition:\n",
    "    vals.append(expression)"
   ]
  },
  {
   "cell_type": "code",
   "execution_count": 7,
   "id": "7098d179",
   "metadata": {},
   "outputs": [],
   "source": [
    "def find_even_nums(n):\n",
    "    return [num for num in range(1, n+1) if num % 2 == 0]\n"
   ]
  },
  {
   "cell_type": "code",
   "execution_count": 8,
   "id": "64eb6d77",
   "metadata": {},
   "outputs": [
    {
     "data": {
      "text/plain": [
       "[2, 4, 6, 8]"
      ]
     },
     "execution_count": 8,
     "metadata": {},
     "output_type": "execute_result"
    }
   ],
   "source": [
    "find_even_nums(8)"
   ]
  },
  {
   "cell_type": "markdown",
   "id": "59b8141b",
   "metadata": {},
   "source": [
    "#7 Filter Strings from Array\n",
    "Create a function that takes a list of strings and integers, and filters out the list so that it returns a list of integers only.\n",
    "\n",
    "Examples\n",
    "filter_list([1, 2, 3, \"a\", \"b\", 4]) ➞ [1, 2, 3, 4]\n",
    "\n",
    "filter_list([\"A\", 0, \"Edabit\", 1729, \"Python\", \"1729\"]) ➞ [0, 1729]\n",
    "\n",
    "filter_list([\"Nothing\", \"here\"]) ➞ []"
   ]
  },
  {
   "cell_type": "code",
   "execution_count": 17,
   "id": "2bcf875f",
   "metadata": {},
   "outputs": [],
   "source": [
    "def filter_list(lst):\n",
    "    result = []\n",
    "    for item in lst:\n",
    "        if type(item)==int:\n",
    "            result.append(item)\n",
    "    return result\n"
   ]
  },
  {
   "cell_type": "code",
   "execution_count": 18,
   "id": "2747c942",
   "metadata": {},
   "outputs": [
    {
     "data": {
      "text/plain": [
       "[1, 2, 3, 4]"
      ]
     },
     "execution_count": 18,
     "metadata": {},
     "output_type": "execute_result"
    }
   ],
   "source": [
    "filter_list([1,2,3,\"a\",\"b\",4])"
   ]
  },
  {
   "cell_type": "markdown",
   "id": "171f60aa",
   "metadata": {},
   "source": [
    "#8 Stand in Line\n",
    "Write a function that takes a list and a number as arguments. Add the number to the end of the list, then remove the first element of the list. The function should then return the updated list.\n",
    "\n",
    "Examples\n",
    "next_in_line([5, 6, 7, 8, 9], 1) ➞ [6, 7, 8, 9, 1]\n",
    "\n",
    "next_in_line([7, 6, 3, 23, 17], 10) ➞ [6, 3, 23, 17, 10]\n",
    "\n",
    "next_in_line([1, 10, 20, 42 ], 6) ➞ [10, 20, 42, 6]\n",
    "\n",
    "next_in_line([], 6) ➞ \"No list has been selected\"\n",
    "Notes\n",
    "For an empty list input, return: \"No list has been selected\""
   ]
  },
  {
   "cell_type": "code",
   "execution_count": 19,
   "id": "382febfb",
   "metadata": {},
   "outputs": [],
   "source": [
    "def next_in_line(lst, num):\n",
    "    if not lst:\n",
    "        return \"No list has been selected\"\n",
    "    lst.pop(0)\n",
    "    lst.append(num)\n",
    "    return lst\n"
   ]
  },
  {
   "cell_type": "code",
   "execution_count": 20,
   "id": "7acc1061",
   "metadata": {},
   "outputs": [
    {
     "data": {
      "text/plain": [
       "[6, 7, 8, 9, 1]"
      ]
     },
     "execution_count": 20,
     "metadata": {},
     "output_type": "execute_result"
    }
   ],
   "source": [
    "next_in_line([5, 6, 7, 8, 9], 1)"
   ]
  },
  {
   "cell_type": "markdown",
   "id": "2304d601",
   "metadata": {},
   "source": [
    "#9 Card Counting (BlackJack)\n",
    "In BlackJack, cards are counted with -1, 0, 1 values:\n",
    "\n",
    "2, 3, 4, 5, 6 are counted as +1\n",
    "7, 8, 9 are counted as 0\n",
    "10, J, Q, K, A are counted as -1\n",
    "Create a function that counts the number and returns it from the list of cards provided.\n",
    "\n",
    "Examples\n",
    "count([5, 9, 10, 3, \"J\", \"A\", 4, 8, 5]) ➞ 1\n",
    "\n",
    "count([\"A\", \"A\", \"K\", \"Q\", \"Q\", \"J\"]) ➞ -6\n",
    "\n",
    "count([\"A\", 5, 5, 2, 6, 2, 3, 8, 9, 7]) ➞ 5\n",
    "Notes\n",
    "String inputs will always be upper case.\n",
    "You do not need to consider case sensitivity.\n",
    "If the argument is empty, return 0.\n",
    "No input other than: 2, 3, 4, 5, 6, 7, 8, 9, 10, \"J\", \"Q\", \"K\", \"A\"."
   ]
  },
  {
   "cell_type": "code",
   "execution_count": 21,
   "id": "78faeefe",
   "metadata": {},
   "outputs": [],
   "source": [
    "def count(cards):\n",
    "    count = 0\n",
    "    for card in cards:\n",
    "        if card in [2, 3, 4, 5, 6]:\n",
    "            count += 1\n",
    "        elif card in [10, \"J\", \"Q\", \"K\", \"A\"]:\n",
    "            count -= 1\n",
    "    return count\n"
   ]
  },
  {
   "cell_type": "code",
   "execution_count": 22,
   "id": "9e44ee61",
   "metadata": {},
   "outputs": [
    {
     "data": {
      "text/plain": [
       "1"
      ]
     },
     "execution_count": 22,
     "metadata": {},
     "output_type": "execute_result"
    }
   ],
   "source": [
    "count([5, 9, 10, 3, \"J\", \"A\", 4, 8, 5])"
   ]
  },
  {
   "cell_type": "markdown",
   "id": "3cde2e7c",
   "metadata": {},
   "source": [
    "#10 Western Showdown\n",
    "Wild Roger is participating in a Western Showdown, meaning he has to draw (pull out and shoot) his gun faster than his opponent in a gun standoff.\n",
    "\n",
    "Given two strings,p1 and p2, return which person drew their gun the fastest. If both are drawn at the same time, return \"tie\".\n",
    "\n",
    "Examples\n",
    "showdown(\n",
    "  \"   Bang!        \",\n",
    "  \"        Bang!   \"\n",
    ") ➞ \"p1\"\n",
    "\n",
    "# p1 draws his gun sooner than p2\n",
    "\n",
    "showdown(\n",
    "  \"               Bang! \",\n",
    "  \"             Bang!   \"\n",
    ") ➞ \"p2\"\n",
    "\n",
    "showdown(\n",
    "  \"     Bang!   \",\n",
    "  \"     Bang!   \"\n",
    ") ➞ \"tie\"\n",
    "Notes\n",
    "Both strings are the same length."
   ]
  },
  {
   "cell_type": "code",
   "execution_count": 23,
   "id": "f9340b5d",
   "metadata": {},
   "outputs": [],
   "source": [
    "def showdown(p1, p2):\n",
    "    p1_index = p1.index(\"Bang!\")\n",
    "    p2_index = p2.index(\"Bang!\")\n",
    "\n",
    "    if p1_index < p2_index:\n",
    "        return \"p1\"\n",
    "    elif p2_index < p1_index:\n",
    "        return \"p2\"\n",
    "    else:\n",
    "        return \"tie\"\n"
   ]
  },
  {
   "cell_type": "code",
   "execution_count": 24,
   "id": "140f097a",
   "metadata": {},
   "outputs": [
    {
     "data": {
      "text/plain": [
       "'tie'"
      ]
     },
     "execution_count": 24,
     "metadata": {},
     "output_type": "execute_result"
    }
   ],
   "source": [
    "showdown(\"Bang!\",\"Bang!\")"
   ]
  },
  {
   "cell_type": "code",
   "execution_count": 26,
   "id": "e20d58b2",
   "metadata": {},
   "outputs": [
    {
     "data": {
      "text/plain": [
       "'p2'"
      ]
     },
     "execution_count": 26,
     "metadata": {},
     "output_type": "execute_result"
    }
   ],
   "source": [
    "showdown(\" Bang!\",\"Bang!\")"
   ]
  },
  {
   "cell_type": "code",
   "execution_count": 27,
   "id": "ed31312a",
   "metadata": {},
   "outputs": [
    {
     "data": {
      "text/plain": [
       "'p1'"
      ]
     },
     "execution_count": 27,
     "metadata": {},
     "output_type": "execute_result"
    }
   ],
   "source": [
    "showdown(\"Bang!\",\" Bang!\")"
   ]
  },
  {
   "cell_type": "markdown",
   "id": "cd9cbcb7",
   "metadata": {},
   "source": [
    "#11 Is the Number Symmetrical?\n",
    "Create a function that takes a number as an argument and returns True or False depending on whether the number is symmetrical or not. A number is symmetrical when it is the same as its reverse.\n",
    "\n",
    "Examples\n",
    "is_symmetrical(7227) ➞ True\n",
    "\n",
    "is_symmetrical(12567) ➞ False\n",
    "\n",
    "is_symmetrical(44444444) ➞ True\n",
    "\n",
    "is_symmetrical(9939) ➞ False\n",
    "\n",
    "is_symmetrical(1112111) ➞ True"
   ]
  },
  {
   "cell_type": "code",
   "execution_count": 28,
   "id": "8c009b39",
   "metadata": {},
   "outputs": [],
   "source": [
    "def is_symmetrical(num):\n",
    "    num_str = str(num)\n",
    "    reversed_str = num_str[::-1]\n",
    "\n",
    "    return num_str == reversed_str\n"
   ]
  },
  {
   "cell_type": "code",
   "execution_count": 29,
   "id": "9742816e",
   "metadata": {},
   "outputs": [
    {
     "data": {
      "text/plain": [
       "False"
      ]
     },
     "execution_count": 29,
     "metadata": {},
     "output_type": "execute_result"
    }
   ],
   "source": [
    "is_symmetrical(12567)"
   ]
  },
  {
   "cell_type": "code",
   "execution_count": 30,
   "id": "d16beab4",
   "metadata": {},
   "outputs": [
    {
     "data": {
      "text/plain": [
       "True"
      ]
     },
     "execution_count": 30,
     "metadata": {},
     "output_type": "execute_result"
    }
   ],
   "source": [
    "is_symmetrical(44444444)"
   ]
  },
  {
   "cell_type": "markdown",
   "id": "bf542423",
   "metadata": {},
   "source": [
    "#12 Minimal VI: Ternary Operator\n",
    "Check the principles of minimalist code in the intro to the first challenge.\n",
    "\n",
    "In the Code tab you will find a code that is missing a single character in order to pass the tests. However, your goal is to submit a function as minimalist as possible. Use the tips in the tips section below.\n",
    "\n",
    "Write a function that returns the strings:\n",
    "\n",
    "\"both\" if both given booleans a and b are True.\n",
    "\"first\" if only a is True.\n",
    "\"second\" if only b is True .\n",
    "\"neither\" if both a and b are False.\n",
    "Tips\n",
    "If-else statements can be written as a oneliner using Python's ternary operator.\n",
    "\n",
    "For example, the code:\n",
    "\n",
    "def startswith(name):\n",
    "  if name[0] in \"AEIOU\":\n",
    "    return \"vowel\"\n",
    "  else:\n",
    "    return \"consonant\"\n",
    "Can be simplified to:\n",
    "\n",
    "def startswith(name):\n",
    "  return \"vowel\" if name[0] in \"AEIOU\" else \"consonant\"\n",
    "Bonus\n",
    "You can concatenate as many ternary operators as you want. However, concatenating too many will definitely diminish the readability of your code.\n",
    "\n",
    "\"majority\" if  x > 50 else \"minority\" if x < 50 else \"draw\"\n",
    "Notes\n",
    "This is an open series: there isn't a definite list of features for the challenges. Please, do not hesitate to leave your suggestions in the Comments.\n",
    "Readability is indeed a subjective concept. Let's discuss it! Feel free to leave your opinion in the Comments.\n",
    "You can find all the exercises in this series over here. "
   ]
  },
  {
   "cell_type": "code",
   "execution_count": 35,
   "id": "ddb5aa10",
   "metadata": {},
   "outputs": [],
   "source": [
    "def check_booleans(a, b):\n",
    "    return \"both\" if a and b else \"first\" if a else \"second\" if b else \"neither\"\n"
   ]
  },
  {
   "cell_type": "code",
   "execution_count": 39,
   "id": "4c794893",
   "metadata": {},
   "outputs": [
    {
     "data": {
      "text/plain": [
       "'neither'"
      ]
     },
     "execution_count": 39,
     "metadata": {},
     "output_type": "execute_result"
    }
   ],
   "source": [
    "startswith(\"True\",\"True\")"
   ]
  },
  {
   "cell_type": "markdown",
   "id": "01b11055",
   "metadata": {},
   "source": [
    "#13\n",
    "Hot Pics of Danny DeVito!\n",
    "I'm trying to watch some lectures to study for my next exam but I keep getting distracted by meme compilations, vine compilations, anime, and more on my favorite video platform.\n",
    "\n",
    "Your job is to help me create a function that takes a string and checks to see if it contains the following words or phrases:\n",
    "\n",
    "\"anime\"\n",
    "\"meme\"\n",
    "\"vines\"\n",
    "\"roasts\"\n",
    "\"Danny DeVito\"\n",
    "If it does, return \"NO!\". Otherwise, return \"Safe watching!\".\n",
    "\n",
    "Examples\n",
    "prevent_distractions(\"vines that butter my eggroll\") ➞ \"NO!\"\n",
    "\n",
    "prevent_distractions(\"Hot pictures of Danny DeVito\") ➞ \"NO!\"\n",
    "\n",
    "prevent_distractions(\"How to ace BC Calculus in 5 Easy Steps\") ➞ \"Safe watching!\"\n",
    "Notes\n",
    "N/A"
   ]
  },
  {
   "cell_type": "code",
   "execution_count": 1,
   "id": "b1a8d65a",
   "metadata": {},
   "outputs": [],
   "source": [
    "def prevent_distractions(string):\n",
    "    keywords = [\"anime\", \"meme\", \"vines\", \"roasts\", \"Danny DeVito\"]\n",
    "    for keyword in keywords:\n",
    "        if keyword.lower() in string.lower():\n",
    "            return \"NO!\"\n",
    "    return \"Safe watching!\"\n"
   ]
  },
  {
   "cell_type": "code",
   "execution_count": 2,
   "id": "0425998c",
   "metadata": {},
   "outputs": [
    {
     "data": {
      "text/plain": [
       "'NO!'"
      ]
     },
     "execution_count": 2,
     "metadata": {},
     "output_type": "execute_result"
    }
   ],
   "source": [
    "prevent_distractions(\"vines that butter my eggroll\")"
   ]
  },
  {
   "cell_type": "markdown",
   "id": "3394795e",
   "metadata": {},
   "source": [
    "#14 Equality of 3 Values\n",
    "Create a function that takes three integer arguments (a, b, c) and returns the amount of integers which are of equal value.\n",
    "\n",
    "Examples\n",
    "equal(3, 4, 3) ➞ 2\n",
    "\n",
    "equal(1, 1, 1) ➞ 3\n",
    "\n",
    "equal(3, 4, 1) ➞ 0 \n",
    "Notes\n",
    "Your function must return 0, 2 or 3."
   ]
  },
  {
   "cell_type": "code",
   "execution_count": 3,
   "id": "44f6da68",
   "metadata": {},
   "outputs": [],
   "source": [
    "def equal(a,b,c):\n",
    "    if a==b==c:\n",
    "        return 3\n",
    "    elif a==b or a==c or b==c:\n",
    "        return 2\n",
    "    else:\n",
    "        return 0"
   ]
  },
  {
   "cell_type": "code",
   "execution_count": 4,
   "id": "77e0f3ca",
   "metadata": {},
   "outputs": [
    {
     "data": {
      "text/plain": [
       "2"
      ]
     },
     "execution_count": 4,
     "metadata": {},
     "output_type": "execute_result"
    }
   ],
   "source": [
    "equal(3, 4, 3) "
   ]
  },
  {
   "cell_type": "markdown",
   "id": "bb15b686",
   "metadata": {},
   "source": [
    "#15 Vowel Sandwich\n",
    "Create a function which validates whether a 3 character string is a vowel sandwich. In order to have a valid sandwich, the string must satisfy the following rules:\n",
    "\n",
    "The first and last characters must be a consonant.\n",
    "The character in the middle must be a vowel.\n",
    "Examples\n",
    "is_vowel_sandwich(\"cat\") ➞ True\n",
    "\n",
    "is_vowel_sandwich(\"ear\") ➞ False\n",
    "\n",
    "is_vowel_sandwich(\"bake\") ➞ False\n",
    "\n",
    "is_vowel_sandwich(\"try\") ➞ False"
   ]
  },
  {
   "cell_type": "code",
   "execution_count": 4,
   "id": "2f885233",
   "metadata": {},
   "outputs": [],
   "source": [
    "def is_vowel_sandwich(string):\n",
    "    vowels = 'aeiouAEIOU'\n",
    "    consonants = 'bcdfghjklmnpqrstvwxyzBCDFGHJKLMNPQRSTVWXYZ'\n",
    "    \n",
    "    if len(string) != 3:\n",
    "        return False\n",
    "    \n",
    "    elif string[0] in consonants and string[2] in consonants and string[1] in vowels:\n",
    "        return True\n",
    "    return False\n",
    "\n"
   ]
  },
  {
   "cell_type": "code",
   "execution_count": 5,
   "id": "839c194b",
   "metadata": {},
   "outputs": [
    {
     "data": {
      "text/plain": [
       "False"
      ]
     },
     "execution_count": 5,
     "metadata": {},
     "output_type": "execute_result"
    }
   ],
   "source": [
    "is_vowel_sandwich(\"ear\")"
   ]
  },
  {
   "cell_type": "markdown",
   "id": "ad283642",
   "metadata": {},
   "source": [
    "#16 Split a String Based on Vowels and Consonants\n",
    "Write a function that takes a string, breaks it up and returns it with vowels first, consonants second. For any character that's not a vowel (like special characters or spaces), treat them like consonants.\n",
    "\n",
    "Examples\n",
    "split(\"abcde\") ➞ \"aebcd\"\n",
    "\n",
    "split(\"Hello!\") ➞ \"eoHll!\"\n",
    "\n",
    "split(\"What's the time?\") ➞ \"aeieWht's th tm?\"\n",
    "Notes\n",
    "Vowels are a, e, i, o, u.\n",
    "Define a separate is_vowel() function for easier to read code (recommendation)."
   ]
  },
  {
   "cell_type": "code",
   "execution_count": 7,
   "id": "37ed59c8",
   "metadata": {},
   "outputs": [],
   "source": [
    "def is_vowel(char):\n",
    "    vowels = \"aeiouAEIOU\"\n",
    "    return char in vowels\n",
    "\n",
    "def split(string):\n",
    "    vowels = \"\"\n",
    "    consonants = \"\"\n",
    "    \n",
    "    for char in string:\n",
    "        if is_vowel(char):\n",
    "            vowels += char\n",
    "        else:\n",
    "            consonants += char\n",
    "    \n",
    "    return vowels + consonants\n"
   ]
  },
  {
   "cell_type": "code",
   "execution_count": 8,
   "id": "c1500688",
   "metadata": {},
   "outputs": [
    {
     "data": {
      "text/plain": [
       "'eoHll'"
      ]
     },
     "execution_count": 8,
     "metadata": {},
     "output_type": "execute_result"
    }
   ],
   "source": [
    "split(\"Hello\")"
   ]
  },
  {
   "cell_type": "markdown",
   "id": "5852c15a",
   "metadata": {},
   "source": [
    "#17 Count the Letters and Digits\n",
    "Write a function that takes a string and calculates the number of letters and digits within it. Return the result in a dictionary.\n",
    "\n",
    "Examples\n",
    "count_all(\"Hello World\") ➞ { \"LETTERS\":  10, \"DIGITS\": 0 }\n",
    "\n",
    "count_all(\"H3ll0 Wor1d\") ➞ { \"LETTERS\":  7, \"DIGITS\": 3 }\n",
    "\n",
    "count_all(\"149990\") ➞ { \"LETTERS\": 0, \"DIGITS\": 6 }\n",
    "Notes\n",
    "Tests contain only alphanumeric characters.\n",
    "Spaces are not letters.\n",
    "All tests contain valid strings."
   ]
  },
  {
   "cell_type": "code",
   "execution_count": 11,
   "id": "c190f384",
   "metadata": {},
   "outputs": [],
   "source": [
    "def count_all(string):\n",
    "    letter_count = 0\n",
    "    digit_count = 0\n",
    "    \n",
    "    for char in string:\n",
    "        if char.isalpha():\n",
    "            letter_count += 1\n",
    "        elif char.isdigit():\n",
    "            digit_count += 1\n",
    "    \n",
    "    return {\"LETTERS\": letter_count, \"DIGITS\": digit_count}\n"
   ]
  },
  {
   "cell_type": "code",
   "execution_count": 10,
   "id": "b4cb85f3",
   "metadata": {},
   "outputs": [
    {
     "data": {
      "text/plain": [
       "{'LETTERS': 10, 'DIGITS': 0}"
      ]
     },
     "execution_count": 10,
     "metadata": {},
     "output_type": "execute_result"
    }
   ],
   "source": [
    " count_all(\"Hello World\")"
   ]
  },
  {
   "cell_type": "markdown",
   "id": "5f1ef160",
   "metadata": {},
   "source": [
    "#18 Sum of Number Elements in a List\n",
    "Lists can be mixed with various types. Your task for this challenge is to sum all the number elements in the given list. Create a function that takes a list and returns the sum of all numbers in the list.\n",
    "\n",
    "Examples\n",
    "numbers_sum([1, 2, \"13\", \"4\", \"645\"]) ➞ 3\n",
    "\n",
    "numbers_sum([True, False, \"123\", \"75\"]) ➞ 0\n",
    "\n",
    "numbers_sum([1, 2, 3, 4, 5, True]) ➞ 15"
   ]
  },
  {
   "cell_type": "code",
   "execution_count": 12,
   "id": "43186864",
   "metadata": {},
   "outputs": [],
   "source": [
    "def numbers_sum(lst):\n",
    "    total = 0\n",
    "    for element in lst:\n",
    "        if isinstance(element, (int, float)):\n",
    "            total += element\n",
    "    return total\n"
   ]
  },
  {
   "cell_type": "code",
   "execution_count": 13,
   "id": "0d825a45",
   "metadata": {},
   "outputs": [
    {
     "data": {
      "text/plain": [
       "3"
      ]
     },
     "execution_count": 13,
     "metadata": {},
     "output_type": "execute_result"
    }
   ],
   "source": [
    "numbers_sum([1, 2, \"13\", \"4\", \"645\"])"
   ]
  },
  {
   "cell_type": "markdown",
   "id": "8d7a57f3",
   "metadata": {},
   "source": [
    "#19 Older Than Me\n",
    "Create a method in the Person class which returns how another person's age compares. Given the objects p1, p2 and p3, which will be initialised with the attributes name and age, return a sentence in the following format:\n",
    "\n",
    "{other_person} is {older than / younger than / the same age as} me.\n",
    "\n",
    "Examples\n",
    "p1 = Person(\"Samuel\", 24)\n",
    "p2 = Person(\"Joel\", 36)\n",
    "p3 = Person(\"Lily\", 24)\n",
    "p1.compare_age(p2) ➞ \"Joel is older than me.\"\n",
    "\n",
    "p2.compare_age(p1) ➞ \"Samuel is younger than me.\"\n",
    "\n",
    "p1.compare_age(p3) ➞ \"Lily is the same age as me.\"\n",
    "Notes\n",
    "Check out the Resources tab for some helpful tutorials on Python classes!\n",
    "If you're really stuck, check out the Solutions tab for answers."
   ]
  },
  {
   "cell_type": "code",
   "execution_count": 2,
   "id": "ec4e0083",
   "metadata": {},
   "outputs": [
    {
     "name": "stdout",
     "output_type": "stream",
     "text": [
      "Joel is older than me.\n",
      "Samuel is younger than me.\n",
      "Lily is the same age as me.\n"
     ]
    }
   ],
   "source": [
    "def compare_age(person1, person2):\n",
    "    if person1['age'] < person2['age']:\n",
    "        return person2['name'] + \" is older than me.\"\n",
    "    elif person1['age'] > person2['age']:\n",
    "        return person2['name'] + \" is younger than me.\"\n",
    "    else:\n",
    "        return person2['name'] + \" is the same age as me.\"\n",
    "\n",
    "p1 = {\"name\": \"Samuel\", \"age\": 24}\n",
    "p2 = {\"name\": \"Joel\", \"age\": 36}\n",
    "p3 = {\"name\": \"Lily\", \"age\": 24}\n",
    "\n",
    "print(compare_age(p1, p2))\n",
    "print(compare_age(p2, p1))\n",
    "print(compare_age(p1, p3))\n"
   ]
  },
  {
   "cell_type": "markdown",
   "id": "d264a71e",
   "metadata": {},
   "source": [
    "#20 Minimal V: Membership Operator\n",
    "Check the principles of minimalist code in the intro to the first challenge.\n",
    "\n",
    "In the Code tab you will find a code that is missing a single character in order to pass the tests. However, your goal is to submit a function as minimalist as possible. Use the tips in the tips section below.\n",
    "\n",
    "Write a function that returns the boolean True if the given two lists do not share any numbers, and False otherwise.\n",
    "\n",
    "Tips\n",
    "The operators in and not in test for membership. x in s evaluates to True if x is a member of s, and False otherwise.\n",
    "\n",
    "For example, the code:\n",
    "\n",
    "def startswithvowel(word):\n",
    "    for vowel in \"aeiou\":\n",
    "        if word[0] == vowel:\n",
    "            return True\n",
    "    return False\n",
    "Can be simplified to:\n",
    "\n",
    "def startswithvowel(word):\n",
    "    return word[0] in \"aeiou\"\n",
    "Bonus\n",
    "Here are more examples:\n",
    "\n",
    "12 in [1, 50, 12, 43, 7] ➞ True\n",
    "1 in [12, 111111, \"x\"] ➞ False\n",
    "[3, 4] in [1, 2, 3, 4, 5] ➞ False\n",
    "3 in (True, 3, [\"odd\", \"even\"]) ➞ True\n",
    "\"odd\" in (True, 3, [\"odd\", \"even\"]) ➞ False\n",
    "\"hello\" in \"hellomyfriend\" ➞ True\n",
    "\n",
    "\"myfriend\" not in \"hello my friend\" ➞ True\n",
    "\"bye\" not in \"bye my friend\" ➞ False\n",
    "2 not in {0: \"even\", 1: \"odd\"} ➞ True\n",
    "1 not in {0: \"even\", 1: \"odd\"} ➞ False\n",
    "Notes\n",
    "This is an open series: there isn't a definite list of features for the challenges. Please, do not hesitate to leave your suggestions in the Comments.\n",
    "Readability is indeed a subjective concept. Let's discuss it! Feel free to leave your opinion in the Comments.\n",
    "You can find all the exercises in this series over here."
   ]
  },
  {
   "cell_type": "code",
   "execution_count": 4,
   "id": "68431021",
   "metadata": {},
   "outputs": [],
   "source": [
    "def no_duplicate_numbers(a, b):\n",
    "    for x in a:\n",
    "        if x in b:\n",
    "            return False\n",
    "    return True\n"
   ]
  },
  {
   "cell_type": "code",
   "execution_count": 6,
   "id": "b8e466fa",
   "metadata": {},
   "outputs": [
    {
     "data": {
      "text/plain": [
       "True"
      ]
     },
     "execution_count": 6,
     "metadata": {},
     "output_type": "execute_result"
    }
   ],
   "source": [
    "(no_duplicate_numbers([1, 2, 3], [4, 5, 6]))"
   ]
  },
  {
   "cell_type": "markdown",
   "id": "28b23b5a",
   "metadata": {},
   "source": [
    "#21 H4ck3r Sp34k\n",
    "Create a function that takes a string as an argument and returns a coded (h4ck3r 5p34k) version of the string.\n",
    "\n",
    "Examples\n",
    "hacker_speak(\"javascript is cool\") ➞ \"j4v45cr1pt 15 c00l\"\n",
    "\n",
    "hacker_speak(\"programming is fun\") ➞ \"pr0gr4mm1ng 15 fun\"\n",
    "\n",
    "hacker_speak(\"become a coder\") ➞ \"b3c0m3 4 c0d3r\"\n",
    "Notes\n",
    "In order to work properly, the function should replace all \"a\"s with 4, \"e\"s with 3, \"i\"s with 1, \"o\"s with 0, and \"s\"s with 5."
   ]
  },
  {
   "cell_type": "code",
   "execution_count": 11,
   "id": "4c5cd44d",
   "metadata": {},
   "outputs": [],
   "source": [
    "def hacker_speak(x):\n",
    "        x=x.replace(\"a\",\"4\")\n",
    "        x=x.replace(\"e\",\"3\")\n",
    "        x=x.replace(\"i\",\"1\")\n",
    "        x=x.replace(\"o\",\"0\")\n",
    "        return x"
   ]
  },
  {
   "cell_type": "code",
   "execution_count": 12,
   "id": "15b7af9b",
   "metadata": {},
   "outputs": [
    {
     "data": {
      "text/plain": [
       "'j4v4scr1pt 1s c00l'"
      ]
     },
     "execution_count": 12,
     "metadata": {},
     "output_type": "execute_result"
    }
   ],
   "source": [
    "hacker_speak(\"javascript is cool\")"
   ]
  },
  {
   "cell_type": "markdown",
   "id": "3526dfda",
   "metadata": {},
   "source": [
    "#22 Positive Count / Negative Sum\n",
    "Create a function that takes a list of positive and negative numbers. Return a list where the first element is the count of positive numbers and the second element is the sum of negative numbers.\n",
    "\n",
    "Examples\n",
    "sum_neg([1, 2, 3, 4, 5, 6, 7, 8, 9, 10, -11, -12, -13, -14, -15]) ➞ [10, -65]\n",
    "# There are a total of 10 positive numbers.\n",
    "# The sum of all negative numbers equals -65.\n",
    "\n",
    "sum_neg([92, 6, 73, -77, 81, -90, 99, 8, -85, 34]) ➞ [7, -252]\n",
    "\n",
    "sum_neg([91, -4, 80, -73, -28]) ➞ [2, -105]\n",
    "\n",
    "sum_neg([]) ➞ []\n",
    "Notes\n",
    "If given an empty list, return an empty list: []\n",
    "0 is not positive."
   ]
  },
  {
   "cell_type": "code",
   "execution_count": 13,
   "id": "3d9e0ed6",
   "metadata": {},
   "outputs": [],
   "source": [
    "def sum_neg(lst):\n",
    "    positive_count = len([num for num in lst if num > 0])\n",
    "    negative_sum = 0\n",
    "    for num in lst:\n",
    "        if num < 0:\n",
    "            negative_sum += num\n",
    "    return [positive_count, negative_sum]\n"
   ]
  },
  {
   "cell_type": "code",
   "execution_count": 14,
   "id": "6a5e8724",
   "metadata": {},
   "outputs": [
    {
     "data": {
      "text/plain": [
       "[7, -252]"
      ]
     },
     "execution_count": 14,
     "metadata": {},
     "output_type": "execute_result"
    }
   ],
   "source": [
    "sum_neg([92, 6, 73, -77, 81, -90, 99, 8, -85, 34])"
   ]
  },
  {
   "cell_type": "markdown",
   "id": "8c845bfa",
   "metadata": {},
   "source": [
    "#23 Switcharoo\n",
    "Create a function that takes a string and returns a new string with its first and last characters swapped, except under three conditions:\n",
    "\n",
    "If the length of the string is less than two, return \"Incompatible.\".\n",
    "If the argument is not a string, return \"Incompatible.\".\n",
    "If the first and last characters are the same, return \"Two's a pair.\".\n",
    "Examples\n",
    "flip_end_chars(\"Cat, dog, and mouse.\") ➞ \".at, dog, and mouseC\"\n",
    "\n",
    "flip_end_chars(\"ada\") ➞ \"Two's a pair.\"\n",
    "\n",
    "flip_end_chars(\"Ada\") ➞ \"adA\"\n",
    "\n",
    "flip_end_chars(\"z\") ➞ \"Incompatible.\"\n",
    "\n",
    "flip_end_chars([1, 2, 3]) ➞ \"Incompatible.\"\n",
    "Notes\n",
    "Tests are case sensitive (e.g. \"A\" and \"a\" are not the same character)."
   ]
  },
  {
   "cell_type": "code",
   "execution_count": 1,
   "id": "a44bff69",
   "metadata": {},
   "outputs": [],
   "source": [
    "def flip_end_chars(v):\n",
    "    if len(v)<2 or type(v)!=str:\n",
    "        return \"incompatible\"\n",
    "    if v[0] == v[-1]:\n",
    "        return \"Two's a pair.\"\n",
    "    \n",
    "    return v[-1] + v[1:-1] + v[0]\n",
    "    "
   ]
  },
  {
   "cell_type": "code",
   "execution_count": 2,
   "id": "4d43b2f2",
   "metadata": {},
   "outputs": [
    {
     "data": {
      "text/plain": [
       "\"Two's a pair.\""
      ]
     },
     "execution_count": 2,
     "metadata": {},
     "output_type": "execute_result"
    }
   ],
   "source": [
    "flip_end_chars(\"ada\")"
   ]
  },
  {
   "cell_type": "code",
   "execution_count": 3,
   "id": "33085618",
   "metadata": {},
   "outputs": [
    {
     "data": {
      "text/plain": [
       "'adA'"
      ]
     },
     "execution_count": 3,
     "metadata": {},
     "output_type": "execute_result"
    }
   ],
   "source": [
    "flip_end_chars(\"Ada\")"
   ]
  },
  {
   "cell_type": "markdown",
   "id": "e1901afb",
   "metadata": {},
   "source": [
    "#24 Error Messages\n",
    "Create a function that takes a number as an argument and returns the appropriate error message. You should do this without using the switch or if statements.\n",
    "\n",
    "The input error will be 1 to 5:\n",
    "\n",
    "1 >> \"Check the fan: e1\"\n",
    "2 >> \"Emergency stop: e2\"\n",
    "3 >> \"Pump Error: e3\"\n",
    "4 >> \"c: e4\"\n",
    "5 >> \"Temperature Sensor Error: e5\"\n",
    "For any other value, return 101 (you can use an if statement here).\n",
    "\n",
    "Examples\n",
    "error(1) ➞ \"Check the fan: e1\"\n",
    "\n",
    "error(2) ➞ \"Emergency stop: e2\"\n",
    "\n",
    "error(3) ➞ \"Pump Error: e3\"\n",
    "Notes\n",
    "Do this without using the switch or if statements."
   ]
  },
  {
   "cell_type": "code",
   "execution_count": 4,
   "id": "58c90d00",
   "metadata": {},
   "outputs": [],
   "source": [
    "def error(num):\n",
    "    error_messages = {\n",
    "        1: \"Check the fan: e1\",\n",
    "        2: \"Emergency stop: e2\",\n",
    "        3: \"Pump Error: e3\",\n",
    "        4: \"c: e4\",\n",
    "        5: \"Temperature Sensor Error: e5\"\n",
    "    }\n",
    "    \n",
    "    return error_messages.get(num, 101)\n"
   ]
  },
  {
   "cell_type": "code",
   "execution_count": 5,
   "id": "e8ed5fea",
   "metadata": {},
   "outputs": [
    {
     "data": {
      "text/plain": [
       "'Check the fan: e1'"
      ]
     },
     "execution_count": 5,
     "metadata": {},
     "output_type": "execute_result"
    }
   ],
   "source": [
    "error(1)"
   ]
  },
  {
   "cell_type": "code",
   "execution_count": 6,
   "id": "6c06dfcf",
   "metadata": {},
   "outputs": [
    {
     "data": {
      "text/plain": [
       "'Temperature Sensor Error: e5'"
      ]
     },
     "execution_count": 6,
     "metadata": {},
     "output_type": "execute_result"
    }
   ],
   "source": [
    "error(5)"
   ]
  },
  {
   "cell_type": "markdown",
   "id": "3904133a",
   "metadata": {},
   "source": [
    "#25 Balancing Scales\n",
    "Given a list with an odd number of elements, return whether the scale will tip \"left\" or \"right\" based on the sum of the numbers. The scale will tip on the direction of the largest total. If both sides are equal, return \"balanced\".\n",
    "\n",
    "Examples\n",
    "scale_tip([0, 0, \"I\", 1, 1]) ➞ \"right\"\n",
    "# 0 < 2 so it will tip right\n",
    "\n",
    "scale_tip([1, 2, 3, \"I\", 4, 0, 0]) ➞ \"left\"\n",
    "# 6 > 4 so it will tip left\n",
    "\n",
    "scale_tip([5, 5, 5, 0, \"I\", 10, 2, 2, 1]) ➞ \"balanced\"\n",
    "# 15 = 15 so it will stay balanced\n",
    "Notes\n",
    "The middle element will always be \"I\" so you can just ignore it.\n",
    "Assume the numbers all represent the same unit.\n",
    "Both sides will have the same number of elements.\n",
    "There are no such things as negative weights in both real life and the tests\n"
   ]
  },
  {
   "cell_type": "code",
   "execution_count": 7,
   "id": "d6b63132",
   "metadata": {},
   "outputs": [],
   "source": [
    "def scale_tip(lst):\n",
    "    middle_index = len(lst) // 2\n",
    "\n",
    "    left_sum = sum(lst[:middle_index])\n",
    "    right_sum = sum(lst[middle_index + 1:])\n",
    "\n",
    "    if left_sum > right_sum:\n",
    "        return \"left\"\n",
    "    elif left_sum < right_sum:\n",
    "        return \"right\"\n",
    "    else:\n",
    "        return \"balanced\"\n"
   ]
  },
  {
   "cell_type": "code",
   "execution_count": 8,
   "id": "7955456f",
   "metadata": {},
   "outputs": [
    {
     "data": {
      "text/plain": [
       "'right'"
      ]
     },
     "execution_count": 8,
     "metadata": {},
     "output_type": "execute_result"
    }
   ],
   "source": [
    "scale_tip([0, 0, \"I\", 1, 1])"
   ]
  },
  {
   "cell_type": "code",
   "execution_count": 9,
   "id": "7a07f3e8",
   "metadata": {},
   "outputs": [
    {
     "data": {
      "text/plain": [
       "'left'"
      ]
     },
     "execution_count": 9,
     "metadata": {},
     "output_type": "execute_result"
    }
   ],
   "source": [
    "scale_tip([1, 2, 3, \"I\", 4, 0, 0])"
   ]
  },
  {
   "cell_type": "code",
   "execution_count": 10,
   "id": "69639966",
   "metadata": {},
   "outputs": [
    {
     "data": {
      "text/plain": [
       "'balanced'"
      ]
     },
     "execution_count": 10,
     "metadata": {},
     "output_type": "execute_result"
    }
   ],
   "source": [
    "scale_tip([5, 5, 5, 0, \"I\", 10, 2, 2, 1])"
   ]
  },
  {
   "cell_type": "markdown",
   "id": "98d5b856",
   "metadata": {},
   "source": [
    "#26 Emotify the Sentence\n",
    "Create a function that changes specific words into emoticons. Given a sentence as a string, replace the words smile, grin, sad and mad with their corresponding emoticons.\n",
    "\n",
    "word\temoticon\n",
    "smile\t:D\n",
    "grin\t:)\n",
    "sad\t:(\n",
    "mad\t:P\n",
    "Examples\n",
    "emotify(\"Make me smile\") ➞ \"Make me :D\"\n",
    "\n",
    "emotify(\"Make me grin\") ➞ \"Make me :)\"\n",
    "\n",
    "emotify(\"Make me sad\") ➞ \"Make me :(\"\n",
    "Notes\n",
    "The sentence always starts with \"Make me\".\n",
    "Try to solve this without using conditional statements like if/else."
   ]
  },
  {
   "cell_type": "code",
   "execution_count": 17,
   "id": "8f00f325",
   "metadata": {},
   "outputs": [],
   "source": [
    "def emotify(sentence):\n",
    "    emoticons = {\n",
    "        \"smile\": \":D\",\n",
    "        \"grin\": \":)\",\n",
    "        \"sad\": \":(\",\n",
    "        \"mad\": \":P\"\n",
    "    }\n",
    "    \n",
    "    words = sentence.split()\n",
    "    for i in range(len(words)):\n",
    "        if words[i] in emoticons:\n",
    "            words[i] = emoticons[words[i]]\n",
    "    \n",
    "    return ' '.join(words)\n"
   ]
  },
  {
   "cell_type": "code",
   "execution_count": 18,
   "id": "e3fee7d3",
   "metadata": {},
   "outputs": [
    {
     "data": {
      "text/plain": [
       "'make me :)'"
      ]
     },
     "execution_count": 18,
     "metadata": {},
     "output_type": "execute_result"
    }
   ],
   "source": [
    "emotify(\"make me grin\")"
   ]
  },
  {
   "cell_type": "markdown",
   "id": "880c7467",
   "metadata": {},
   "source": [
    "#27 Create a function that takes the month and year (as integers) and returns the number of days in that month.\n",
    "\n",
    "Examples\n",
    "day_amount(2, 2018) ➞ 28\n",
    "\n",
    "day_amount(4, 654) ➞ 30\n",
    "\n",
    "day_amount(2, 200) ➞ 28\n",
    "\n",
    "day_amount(2, 1000) ➞ 28"
   ]
  },
  {
   "cell_type": "code",
   "execution_count": 23,
   "id": "bfe573a2",
   "metadata": {},
   "outputs": [],
   "source": [
    "def day_amount(month, year):\n",
    "    if month == 2:  \n",
    "        if year % 4 == 0 and  year % 400 == 0:\n",
    "            return 29 \n",
    "        else:\n",
    "            return 28\n",
    "    elif month in [4, 6, 9, 11]:\n",
    "        return 30\n",
    "    else:\n",
    "        return 31\n"
   ]
  },
  {
   "cell_type": "code",
   "execution_count": 24,
   "id": "01a6829d",
   "metadata": {},
   "outputs": [
    {
     "data": {
      "text/plain": [
       "28"
      ]
     },
     "execution_count": 24,
     "metadata": {},
     "output_type": "execute_result"
    }
   ],
   "source": [
    "day_amount(2,1000)"
   ]
  },
  {
   "cell_type": "markdown",
   "id": "7c41c4c5",
   "metadata": {},
   "source": [
    "#28 Changing Mixed Types\n",
    "Create a function that changes all the elements in a list as follows:\n",
    "\n",
    "Add 1 to all even integers, nothing to odd integers.\n",
    "Concatenates \"!\" to all strings and make the first letter of the word a capital letter.\n",
    "Changes all boolean values to its opposite.\n",
    "Examples\n",
    "change_types([\"a\", 12, True]) ➞ [\"A!\", 13, False]\n",
    "\n",
    "change_types([13, \"13\", \"12\", \"twelve\"]) ➞ [13, \"13!\", \"12!\", \"Twelve!\"]\n",
    "\n",
    "change_types([False, \"False\", \"true\"]) ➞ [True, \"False!\", \"True!\"]\n",
    "Notes\n",
    "There won't be any float values.\n",
    "You won't get strings with both numbers and letters in them.\n",
    "Although the task may be easy, try keeping your code as clean and as readable as possible!"
   ]
  },
  {
   "cell_type": "code",
   "execution_count": 26,
   "id": "6375aa99",
   "metadata": {},
   "outputs": [],
   "source": [
    "def change_types(lst):\n",
    "    result = []\n",
    "    for item in lst:\n",
    "        if isinstance(item, int):\n",
    "            if item % 2 == 0:\n",
    "                result.append(item + 1)\n",
    "            else:\n",
    "                result.append(item)\n",
    "        elif isinstance(item, str):\n",
    "            result.append(item.capitalize() + \"!\")\n",
    "        elif isinstance(item, bool):\n",
    "            result.append(not item)\n",
    "        else:\n",
    "            result.append(item)\n",
    "    return result\n"
   ]
  },
  {
   "cell_type": "code",
   "execution_count": 27,
   "id": "b924a61d",
   "metadata": {},
   "outputs": [
    {
     "data": {
      "text/plain": [
       "[1, 'False!', 'True!']"
      ]
     },
     "execution_count": 27,
     "metadata": {},
     "output_type": "execute_result"
    }
   ],
   "source": [
    "change_types([\"a\", 12, True]) "
   ]
  },
  {
   "cell_type": "code",
   "execution_count": 28,
   "id": "cb559b02",
   "metadata": {},
   "outputs": [
    {
     "data": {
      "text/plain": [
       "[13, '13!', '12!', 'Twelve!']"
      ]
     },
     "execution_count": 28,
     "metadata": {},
     "output_type": "execute_result"
    }
   ],
   "source": [
    "change_types([13, \"13\", \"12\", \"twelve\"])"
   ]
  },
  {
   "cell_type": "code",
   "execution_count": 29,
   "id": "4f042d8c",
   "metadata": {},
   "outputs": [
    {
     "data": {
      "text/plain": [
       "[1, 'False!', 'True!']"
      ]
     },
     "execution_count": 29,
     "metadata": {},
     "output_type": "execute_result"
    }
   ],
   "source": [
    "change_types([False, \"False\", \"true\"])"
   ]
  },
  {
   "cell_type": "markdown",
   "id": "515f4cba",
   "metadata": {},
   "source": [
    "#29 Minimal VIII: This and That\n",
    "Check the principles of minimalist code in the intro to the first challenge.\n",
    "\n",
    "In the Code tab you will find a code that is missing a single character in order to pass the tests. However, your goal is to submit a function as minimalist as possible. Use the tips in the tips section below.\n",
    "\n",
    "Write a function that returns the third character of the third string in a given list of strings. Return False if it can't be found.\n",
    "\n",
    "Tips\n",
    "The operator and can be used to assign or return the first falsy value among two or more elements. If no falsy value is found, the last element will be returned.\n",
    "\n",
    "For example, the code:\n",
    "\n",
    "def all_of_these(a, b, c):\n",
    "    return a if not a else b if not b else c\n",
    "Can be simplified to:\n",
    "\n",
    "def all_of_these(a, b, c):\n",
    "    return a and b and c\n",
    "Bonus\n",
    "Once a falsy value is found, the rest of the elements will not be checked. For example, if we wanted to access the first element of a list, but the list happened to be empty, we would get an error. We can use and to work around this issue:\n",
    "\n",
    "lst1 = [1, 2, 3]\n",
    "lst2 = []\n",
    "\n",
    "lst1 and lst1[0] ➞ 1\n",
    "lst2 and lst2[0] ➞ []\n",
    "Notes\n",
    "This is an open series: there isn't a definite list of features for the challenges. Please, do not hesitate to leave your suggestions in the Comments.\n",
    "Readability is indeed a subjective concept. Let's discuss it! Feel free to leave your opinion in the Comments.\n",
    "You can find all the exercises in this series over here."
   ]
  },
  {
   "cell_type": "code",
   "execution_count": 38,
   "id": "c61c53fd",
   "metadata": {},
   "outputs": [],
   "source": [
    "def third_third(lst):\n",
    "    if len(lst) >= 3 and len(lst[2]) >= 3:\n",
    "        return lst[2][2]\n",
    "    else:\n",
    "        return False\n",
    "\n"
   ]
  },
  {
   "cell_type": "markdown",
   "id": "1a4346f4",
   "metadata": {},
   "source": [
    "#30 Malthusian Catastrophe\n",
    "A man named Thomas Malthus described what is now called a Malthusian Catastrophe. According to him, food production grows by a fixed amount, but population grows by a percentage. So, the food supply would soon be insufficient for the population.\n",
    "\n",
    "Your job is to find out when that will occur. For this challenge, assume 1 population needs 1 unit of food production. Food production and population both start at 100. The year starts at 0.\n",
    "\n",
    "The catastrophe happens when the population is larger than food production.\n",
    "\n",
    "The function will pass:\n",
    "\n",
    "food_growth ⁠— an integer ⁠— food production increase per year.\n",
    "pop_mult ⁠— a floating-point number ⁠— population growth multiplier per year.\n",
    "Examples\n",
    "malthusian(4255, 1.41) ➞ 20\n",
    "# { food_prod: 85,200, pop: 96,467.77..., year: 20 }\n",
    "\n",
    "malthusian(9433, 1.09) ➞ 107\n",
    "# { food_prod: 1,009,431, pop: 1,010,730.28..., year: 107 }\n",
    "\n",
    "malthusian(5879, 1.77) ➞ 12\n",
    "# { food_prod: 70,648, pop: 94,553.84..., year: 12 }\n",
    "Notes\n",
    "Return the year that the overtake happens, not the next year.\n",
    "Make sure you don't make the mistake of adding a year, then calculating the changes to food and population. That way, you miss year 0.\n",
    "If the population and food production are equal, that is not a catastrophe."
   ]
  },
  {
   "cell_type": "code",
   "execution_count": 40,
   "id": "087452ce",
   "metadata": {},
   "outputs": [],
   "source": [
    "def malthusian(food_growth, pop_mult):\n",
    "    food_prod = 100 \n",
    "    pop = 100 \n",
    "    year = 0 \n",
    "\n",
    "    while food_prod >= pop:\n",
    "        food_prod += food_growth\n",
    "        pop *= pop_mult\n",
    "        year += 1\n",
    "\n",
    "    return year\n"
   ]
  },
  {
   "cell_type": "code",
   "execution_count": 41,
   "id": "5504d5bb",
   "metadata": {},
   "outputs": [
    {
     "data": {
      "text/plain": [
       "20"
      ]
     },
     "execution_count": 41,
     "metadata": {},
     "output_type": "execute_result"
    }
   ],
   "source": [
    "malthusian(4255, 1.41)"
   ]
  },
  {
   "cell_type": "markdown",
   "id": "ed5d4fe2",
   "metadata": {},
   "source": [
    "#31 Special Lists\n",
    "A list is special if every even index contains an even number and every odd index contains an odd number. Create a function that returns True if an array is special, and False otherwise.\n",
    "\n",
    "Examples\n",
    "is_special_array([2, 7, 4, 9, 6, 1, 6, 3]) ➞ True\n",
    "# Even indices: [2, 4, 6, 6]; Odd indices: [7, 9, 1, 3]\n",
    "\n",
    "is_special_array([2, 7, 9, 1, 6, 1, 6, 3]) ➞ False\n",
    "# Index 2 has an odd number 9.\n",
    "\n",
    "is_special_array([2, 7, 8, 8, 6, 1, 6, 3]) ➞ False\n",
    "# Index 3 has an even number 8.\n",
    "Notes\n",
    "N/A"
   ]
  },
  {
   "cell_type": "code",
   "execution_count": 42,
   "id": "c987343e",
   "metadata": {},
   "outputs": [],
   "source": [
    "def is_special_array(lst):\n",
    "    for i, num in enumerate(lst):\n",
    "        if i % 2 == 0 and num % 2 != 0:  \n",
    "            return False\n",
    "        if i % 2 != 0 and num % 2 == 0:  \n",
    "            return False\n",
    "    return True\n"
   ]
  },
  {
   "cell_type": "code",
   "execution_count": 43,
   "id": "08586875",
   "metadata": {},
   "outputs": [
    {
     "data": {
      "text/plain": [
       "False"
      ]
     },
     "execution_count": 43,
     "metadata": {},
     "output_type": "execute_result"
    }
   ],
   "source": [
    "is_special_array([2, 7, 8, 8, 6, 1, 6, 3])"
   ]
  },
  {
   "cell_type": "markdown",
   "id": "7ec0cb47",
   "metadata": {},
   "source": [
    "#32 Minimal III: You're a Boolean Now\n",
    "Check the principles of minimalist code in the intro to the first challenge.\n",
    "\n",
    "In the Code tab you will find code that is missing a single character in order to pass the tests. However, your goal is to submit a function that is as minimalist as possible. Use the tips in the tips section below.\n",
    "\n",
    "Write a function that returns True if the given positive integer is a prime number and False if it's not.\n",
    "\n",
    "Tips\n",
    "Everything you write after if, not, while or around and, or, is, in is interpreted as a boolean.\n",
    "\n",
    "A function that prints a countdown from the absolute value of x and also prints \"hey\" if the number is a multiple of 3 and contains the digit \"3\", could be written as:\n",
    "\n",
    "def countdown(x):\n",
    "    if x < 0:\n",
    "        x = x * -1\n",
    "    while x > 0:\n",
    "        if x % 3 == 0:\n",
    "            if \"3\" in str(x):\n",
    "                print(x)\n",
    "                print(\"hey\")\n",
    "        else:\n",
    "            print(x)\n",
    "        x = x - 1\n",
    "This can be simplified to:\n",
    "\n",
    "def countdown(x):\n",
    "    x = abs(x)\n",
    "    while x:\n",
    "        print(x)\n",
    "        if not x % 3 and \"3\" in str(x):\n",
    "            print(\"hey\")\n",
    "        x -= 1\n",
    "abs() gets the absolute value of a number.\n",
    "while will interpret x as a boolean, exiting the loop after reaching zero.\n",
    "print(x) needs to be called whether x is a \"hey number\" or not. This can be done outside of any if statement, instead of in both.\n",
    "Both conditions x % 3 == 0 and \"3\" in str(x) need to be True, so they can be joined with an and.\n",
    "Bonus\n",
    "A more Pythonistic approach:\n",
    "\n",
    "def countdown(x):\n",
    "    for i in range(abs(x), -1, -1):\n",
    "        print(x)\n",
    "        if not x % 3 and \"3\" in str(x):\n",
    "            print(\"hey\")\n",
    "Notes\n",
    "This is an open series: there isn't a definite list of features for the challenges. Please, do not hesitate to leave your suggestions in the Comment tab.\n",
    "Readability is indeed a subjective concept. Let's discuss it! Feel free to leave your opinion in the Comments tab.\n",
    "You can find all the exercises in this series over here."
   ]
  },
  {
   "cell_type": "code",
   "execution_count": 44,
   "id": "8c89ceb5",
   "metadata": {},
   "outputs": [],
   "source": [
    "def is_prime(n):\n",
    "    return n > 1 and all(n % i != 0 for i in range(2, int(n ** 0.5) + 1))\n"
   ]
  },
  {
   "cell_type": "code",
   "execution_count": 45,
   "id": "9f07d4a9",
   "metadata": {},
   "outputs": [
    {
     "data": {
      "text/plain": [
       "True"
      ]
     },
     "execution_count": 45,
     "metadata": {},
     "output_type": "execute_result"
    }
   ],
   "source": [
    "is_prime(5)\n"
   ]
  },
  {
   "cell_type": "markdown",
   "id": "259046d2",
   "metadata": {},
   "source": [
    "#33 String Pairs\n",
    "Create a function that takes a string s and returns a list of two-paired characters. If the string has an odd number of characters, add an asterisk * in the final pair.\n",
    "\n",
    "See the below examples for a better understanding:\n",
    "\n",
    "Examples\n",
    "string_pairs(\"mubashir\") ➞ [\"mu\", \"ba\", \"sh\", \"ir\"]\n",
    "\n",
    "string_pairs(\"edabit\") ➞ [\"ed\", \"ab\", \"it\"]\n",
    "\n",
    "string_pairs(\"airforces\") ➞ [\"ai\", \"rf\", \"or\", \"ce\", \"s*\"]\n",
    "Notes\n",
    "Return [] if the given string is empty."
   ]
  },
  {
   "cell_type": "code",
   "execution_count": 46,
   "id": "293a4886",
   "metadata": {},
   "outputs": [],
   "source": [
    "def string_pairs(s):\n",
    "    if not s:\n",
    "        return []\n",
    "    \n",
    "    pairs = [s[i:i+2] for i in range(0, len(s), 2)]\n",
    "    if len(s) % 2 == 1:\n",
    "        pairs[-1] += \"*\"\n",
    "    \n",
    "    return pairs\n"
   ]
  },
  {
   "cell_type": "code",
   "execution_count": 47,
   "id": "1d1b6422",
   "metadata": {},
   "outputs": [
    {
     "data": {
      "text/plain": [
       "['ed', 'ab', 'it']"
      ]
     },
     "execution_count": 47,
     "metadata": {},
     "output_type": "execute_result"
    }
   ],
   "source": [
    "string_pairs(\"edabit\")"
   ]
  },
  {
   "cell_type": "code",
   "execution_count": null,
   "id": "5f00ff04",
   "metadata": {},
   "outputs": [],
   "source": []
  }
 ],
 "metadata": {
  "kernelspec": {
   "display_name": "Python 3 (ipykernel)",
   "language": "python",
   "name": "python3"
  },
  "language_info": {
   "codemirror_mode": {
    "name": "ipython",
    "version": 3
   },
   "file_extension": ".py",
   "mimetype": "text/x-python",
   "name": "python",
   "nbconvert_exporter": "python",
   "pygments_lexer": "ipython3",
   "version": "3.10.9"
  }
 },
 "nbformat": 4,
 "nbformat_minor": 5
}
