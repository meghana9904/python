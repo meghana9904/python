{
 "cells": [
  {
   "cell_type": "code",
   "execution_count": 5,
   "id": "6785be4e",
   "metadata": {},
   "outputs": [],
   "source": [
    "#1 Create a function that takes a boolean variable flag and returns it as a string.\n",
    "#Examples\n",
    "#bool_to_string(True) ➞ \"True\"\n",
    "\n",
    "#bool_to_string(False) ➞ \"False\"\n",
    "\n",
    "\n",
    "def bool_to_string(flag):\n",
    "    if flag==True:\n",
    "        return \"True\"\n",
    "    else:\n",
    "        return \"False\""
   ]
  },
  {
   "cell_type": "code",
   "execution_count": 6,
   "id": "8f2d2630",
   "metadata": {},
   "outputs": [
    {
     "data": {
      "text/plain": [
       "'True'"
      ]
     },
     "execution_count": 6,
     "metadata": {},
     "output_type": "execute_result"
    }
   ],
   "source": [
    "bool_to_string(True)"
   ]
  },
  {
   "cell_type": "code",
   "execution_count": 8,
   "id": "22c50659",
   "metadata": {},
   "outputs": [],
   "source": [
    "#2 Create a function that returns True when num1 is equal to num2; otherwise return False.\n",
    "#Examples\n",
    "#is_same_num(4, 8) ➞ False\n",
    "\n",
    "#is_same_num(2, 2) ➞  True\n",
    "\n",
    "#is_same_num(2, \"2\") ➞ False\n",
    "\n",
    "\n",
    "def f1(num1,num2):\n",
    "    if num1==num2:\n",
    "        return True\n",
    "    else:\n",
    "        return False"
   ]
  },
  {
   "cell_type": "code",
   "execution_count": 9,
   "id": "c182b16f",
   "metadata": {},
   "outputs": [
    {
     "data": {
      "text/plain": [
       "False"
      ]
     },
     "execution_count": 9,
     "metadata": {},
     "output_type": "execute_result"
    }
   ],
   "source": [
    "f1(2,3)"
   ]
  },
  {
   "cell_type": "code",
   "execution_count": 10,
   "id": "59931c90",
   "metadata": {},
   "outputs": [],
   "source": [
    "#3 Create a function that takes a number as its only argument and returns True if it's less than or equal to zero, otherwise return False.\n",
    "#Examples\n",
    "#less_than_or_equal_to_zero(5) ➞ False\n",
    "\n",
    "#less_than_or_equal_to_zero(0) ➞ True\n",
    "\n",
    "#less_than_or_equal_to_zero(-2) ➞ True\n",
    "\n",
    "\n",
    "def number(value):\n",
    "    if value<=0:\n",
    "        return True\n",
    "    else:\n",
    "        return False\n",
    "    "
   ]
  },
  {
   "cell_type": "code",
   "execution_count": 11,
   "id": "234c0a54",
   "metadata": {},
   "outputs": [
    {
     "data": {
      "text/plain": [
       "True"
      ]
     },
     "execution_count": 11,
     "metadata": {},
     "output_type": "execute_result"
    }
   ],
   "source": [
    "number(-2)"
   ]
  },
  {
   "cell_type": "code",
   "execution_count": 13,
   "id": "53ce7f55",
   "metadata": {},
   "outputs": [],
   "source": [
    "#4 Emmy has written a function that returns a greeting to users. However, she's in love with Mubashir, and would like to greet him slightly differently. She added a special case in her function, but she made a mistake.\n",
    "#Can you help her?\n",
    "#Examples\n",
    "#greeting(\"Matt\") ➞ \"Hello, Matt!\"\n",
    "\n",
    "#greeting(\"Helen\") ➞ \"Hello, Helen!\"\n",
    "\n",
    "#greeting(\"Mubashir\") ➞ \"Hello, my Love!\"\n",
    "\n",
    "def emmy(person_name):\n",
    "    if person_name==\"Mubashir\":\n",
    "       print(\"hello,my Love!\")\n",
    "    else:\n",
    "        print(\"hello, person_name\")\n"
   ]
  },
  {
   "cell_type": "code",
   "execution_count": 15,
   "id": "d3c47045",
   "metadata": {},
   "outputs": [
    {
     "name": "stdout",
     "output_type": "stream",
     "text": [
      "hello,my Love!\n"
     ]
    }
   ],
   "source": [
    "emmy(\"Mubashir\")"
   ]
  },
  {
   "cell_type": "code",
   "execution_count": 16,
   "id": "8230eff5",
   "metadata": {},
   "outputs": [],
   "source": [
    "#5 Create a function that takes two arguments. Both arguments are integers, a and b. Return True if one of them is 10 or if their sum is 10.\n",
    "#Examples\n",
    "#makes10(9, 10) ➞ True\n",
    "\n",
    "#makes10(9, 9) ➞ False\n",
    "\n",
    "#makes10(1, 9) ➞ True\n",
    "\n",
    "def operation(num1,num2):\n",
    "    if num1==10 or num2==10 or num1+num2==10:\n",
    "        return True\n",
    "    else:\n",
    "        return False"
   ]
  },
  {
   "cell_type": "code",
   "execution_count": 17,
   "id": "b767b7ff",
   "metadata": {},
   "outputs": [
    {
     "data": {
      "text/plain": [
       "True"
      ]
     },
     "execution_count": 17,
     "metadata": {},
     "output_type": "execute_result"
    }
   ],
   "source": [
    "operation(1,9)"
   ]
  },
  {
   "cell_type": "code",
   "execution_count": 20,
   "id": "e813dd54",
   "metadata": {},
   "outputs": [],
   "source": [
    "#6 Create a function that takes three arguments prob, prize, pay and returns True if prob * prize > pay; otherwise return False.\n",
    "#To illustrate:\n",
    "#profitable_gamble(0.2, 50, 9)\n",
    "#... should yield True, since the net profit is 1 (0.2 * 50 - 9), and 1 > 0.\n",
    "\n",
    "def profitable_gamble(prob,prize,pay):\n",
    "    if prob*prize>pay:\n",
    "        return True\n",
    "    else:\n",
    "        return False"
   ]
  },
  {
   "cell_type": "code",
   "execution_count": 21,
   "id": "efc7b097",
   "metadata": {},
   "outputs": [
    {
     "data": {
      "text/plain": [
       "True"
      ]
     },
     "execution_count": 21,
     "metadata": {},
     "output_type": "execute_result"
    }
   ],
   "source": [
    "profitable_gamble(0.2,50,9)"
   ]
  },
  {
   "cell_type": "code",
   "execution_count": 22,
   "id": "1d053b9d",
   "metadata": {},
   "outputs": [],
   "source": [
    "#7 Create a function that takes an integer and returns True if it's divisible by 100, otherwise return False.\n",
    "#Examples\n",
    "#divisible(1) ➞ False\n",
    "\n",
    "#divisible(1000) ➞ True\n",
    "\n",
    "#divisible(100) ➞ True\n",
    "\n",
    "def divisible(num):\n",
    "    if num%100==0:\n",
    "        return True\n",
    "    else:\n",
    "        return False\n",
    "\n"
   ]
  },
  {
   "cell_type": "code",
   "execution_count": 23,
   "id": "f53890d8",
   "metadata": {},
   "outputs": [
    {
     "data": {
      "text/plain": [
       "False"
      ]
     },
     "execution_count": 23,
     "metadata": {},
     "output_type": "execute_result"
    }
   ],
   "source": [
    "divisible(1)"
   ]
  },
  {
   "cell_type": "code",
   "execution_count": 24,
   "id": "9f875b8d",
   "metadata": {},
   "outputs": [
    {
     "data": {
      "text/plain": [
       "True"
      ]
     },
     "execution_count": 24,
     "metadata": {},
     "output_type": "execute_result"
    }
   ],
   "source": [
    "divisible(200)"
   ]
  },
  {
   "cell_type": "code",
   "execution_count": 25,
   "id": "1017ff5f",
   "metadata": {},
   "outputs": [],
   "source": [
    "#8 Create a function that takes two strings as arguments and return either True or False depending on whether the total number of characters in the first string is equal to the total number of characters in the second string.\n",
    "#Examples\n",
    "#comp(\"AB\", \"CD\") ➞ True\n",
    "\n",
    "#comp(\"ABC\", \"DE\") ➞ False\n",
    "\n",
    "#comp(\"hello\", \"edabit\") ➞ False\n",
    "\n",
    "def comp(string1,string2):\n",
    "    if len(string1)==len(string2):\n",
    "        return True\n",
    "    else:\n",
    "        return False\n"
   ]
  },
  {
   "cell_type": "code",
   "execution_count": 26,
   "id": "71571658",
   "metadata": {},
   "outputs": [
    {
     "data": {
      "text/plain": [
       "False"
      ]
     },
     "execution_count": 26,
     "metadata": {},
     "output_type": "execute_result"
    }
   ],
   "source": [
    "comp(\"abbhhjedj\",\"hiwhihw\")"
   ]
  },
  {
   "cell_type": "code",
   "execution_count": 27,
   "id": "2bbd255f",
   "metadata": {},
   "outputs": [],
   "source": [
    "#9 Given a string, return True if its length is even or False if the length is odd.\n",
    "#Examples\n",
    "#odd_or_even(\"apples\") ➞ True\n",
    "# The word \"apples\" has 6 characters.\n",
    "# 6 is an even number, so the program outputs True.\n",
    "\n",
    "#odd_or_even(\"pears\") ➞ False\n",
    "# \"pears\" has 5 letters, and 5 is odd.\n",
    "# Therefore the program outputs False.\n",
    "\n",
    "#odd_or_even(\"cherry\") ➞ True\n",
    "\n",
    "\n",
    "def f1(string):\n",
    "    if len(string)%2==0:\n",
    "        return True\n",
    "    else:\n",
    "        return False\n",
    "\n"
   ]
  },
  {
   "cell_type": "code",
   "execution_count": 28,
   "id": "2427a8b2",
   "metadata": {},
   "outputs": [
    {
     "data": {
      "text/plain": [
       "True"
      ]
     },
     "execution_count": 28,
     "metadata": {},
     "output_type": "execute_result"
    }
   ],
   "source": [
    "f1(\"hbehbedj\")"
   ]
  },
  {
   "cell_type": "code",
   "execution_count": 32,
   "id": "5c9ca6f5",
   "metadata": {},
   "outputs": [],
   "source": [
    "#10 Create a function that takes a string; we'll say that the front is the first three characters of the string. If the string length is less than three characters, the front is whatever is there. Return a new string, which is three copies of the front.\n",
    "#Examples\n",
    "#front3(\"Python\") ➞ \"PytPytPyt\"\n",
    "\n",
    "#front3(\"Cucumber\") ➞ \"CucCucCuc\"\n",
    "\n",
    "#front3(\"bioshock\") ➞ \"biobiobio\"\n",
    "\n",
    "def f1(string):\n",
    "    if len(string)<3:\n",
    "        return string\n",
    "    else:\n",
    "        return string[:3]*3\n"
   ]
  },
  {
   "cell_type": "code",
   "execution_count": 33,
   "id": "e6fc04ce",
   "metadata": {},
   "outputs": [
    {
     "data": {
      "text/plain": [
       "'megmegmeg'"
      ]
     },
     "execution_count": 33,
     "metadata": {},
     "output_type": "execute_result"
    }
   ],
   "source": [
    "f1(\"meghana\")"
   ]
  },
  {
   "cell_type": "code",
   "execution_count": 1,
   "id": "8e1abf2d",
   "metadata": {},
   "outputs": [],
   "source": [
    "#11 Darts is a target game played by throwing feathered darts at a circular board with numbered spaces. Our darts game is the simplest of all games. The score of a single turn is calculated based on the distance from the middle. You need to create a function that takes the dart location as two cartesian coordinates (x, y) and returns a score based on the distance from the middle, aka Bullseye (x=0, y=0).\n",
    "#Bullseye and inner circle scores = 10 points\n",
    "#Middle ring scores = 5 points\n",
    "#Outer ring scores = 1 point\n",
    "#Outside the target = 0 points\n",
    "#We play it simple so a dart in the double or treble ring counts as usual and does not affect the segment score.\n",
    "#Board and circle radius is as follows:\n",
    "#Board radius and outer circle radius = 10 units\n",
    "#Middle circle radius = 5 units\n",
    "#Inner circle radius = 1 unit\n",
    "#Short Description\n",
    "#Convert cartesian coordinates (x, y) to polar coordinates (R, phi) and return the score based on the R value. R > 10 gives 0 points, 10 >= R > 5 gives 1 point, 5 >= R > 1 gives 5 points, R <= 1 gives 10 points.\n",
    "#Examples\n",
    "#darts_scoring(0, 0) ➞ 10\n",
    "\n",
    "#darts_scoring(3, 2) ➞ 5\n",
    "\n",
    "#darts_scoring(0, -0.8) ➞ 10\n",
    "\n",
    "\n",
    "\n",
    "def calculate_dart_score(x,y):\n",
    "    distance=(x**2+y**2)**0.5\n",
    "    if distance<=1:\n",
    "        return 10\n",
    "    elif distance<=5:\n",
    "        return 5\n",
    "    elif distance<=10:\n",
    "        return 1\n",
    "    else:\n",
    "        return 0"
   ]
  },
  {
   "cell_type": "code",
   "execution_count": 2,
   "id": "0ea573ba",
   "metadata": {},
   "outputs": [
    {
     "data": {
      "text/plain": [
       "5"
      ]
     },
     "execution_count": 2,
     "metadata": {},
     "output_type": "execute_result"
    }
   ],
   "source": [
    "calculate_dart_score(2,3)"
   ]
  },
  {
   "cell_type": "code",
   "execution_count": 35,
   "id": "9c3bc875",
   "metadata": {},
   "outputs": [],
   "source": [
    "#12 Write a function that returns True if a year is a leap, otherwise return False.\n",
    "#A year is a \"leap year\" if it lasts 366 days, instead of 365 in a typical year. That extra day is added to the end of the shortest month, creating February 29.\n",
    "#A leap year occurs every four years, and will take place if the year is a multiple of four. The exception to this is a year at the beginning of a century (for example, 1900 or 2000), where the year must be divisible by 400 to be a leap year.\n",
    "#Look at the examples, and if you need help, look at the resources panel.\n",
    "#Examples\n",
    "#leap_year(1990) ➞ False\n",
    "\n",
    "#leap_year(1924) ➞ True\n",
    "\n",
    "#leap_year(2021) ➞ False\n",
    "\n",
    "def check_for_leap(year):\n",
    "    if year%4==0:\n",
    "        return  True\n",
    "    else:\n",
    "        return False\n"
   ]
  },
  {
   "cell_type": "code",
   "execution_count": 36,
   "id": "552e5101",
   "metadata": {},
   "outputs": [
    {
     "data": {
      "text/plain": [
       "True"
      ]
     },
     "execution_count": 36,
     "metadata": {},
     "output_type": "execute_result"
    }
   ],
   "source": [
    "check_for_leap(2004)"
   ]
  },
  {
   "cell_type": "code",
   "execution_count": 37,
   "id": "b7e41b27",
   "metadata": {},
   "outputs": [
    {
     "data": {
      "text/plain": [
       "False"
      ]
     },
     "execution_count": 37,
     "metadata": {},
     "output_type": "execute_result"
    }
   ],
   "source": [
    "check_for_leap(1990)"
   ]
  },
  {
   "cell_type": "code",
   "execution_count": 35,
   "id": "28870c03",
   "metadata": {},
   "outputs": [],
   "source": [
    "#13 Create a function that takes an array of hurdle heights and a jumper's jump height, and determine whether or not the hurdler can clear all the hurdles.\n",
    "#A hurdler can clear a hurdle if their jump height is greater than or equal to the hurdle height.\n",
    "#Examples\n",
    "#hurdle_jump([1, 2, 3, 4, 5], 5) ➞ True\n",
    "\n",
    "#hurdle_jump([5, 5, 3, 4, 5], 3) ➞ False\n",
    "\n",
    "#hurdle_jump([5, 4, 5, 6], 10) ➞ True\n",
    "\n",
    "#hurdle_jump([1, 2, 1], 1) ➞ False\n",
    "\n",
    "def f1(hurdle_height,jump_height):\n",
    "    for x in hurdle_height:\n",
    "        if jump_height<x:\n",
    "            return True\n",
    "        else:\n",
    "            return False\n"
   ]
  },
  {
   "cell_type": "code",
   "execution_count": 36,
   "id": "6f8d70a2",
   "metadata": {},
   "outputs": [
    {
     "data": {
      "text/plain": [
       "False"
      ]
     },
     "execution_count": 36,
     "metadata": {},
     "output_type": "execute_result"
    }
   ],
   "source": [
    "f1([1,2,3,4,7],jump_height=6)\n"
   ]
  },
  {
   "cell_type": "code",
   "execution_count": 45,
   "id": "05d59771",
   "metadata": {},
   "outputs": [],
   "source": [
    "#14 Create a function that takes a number (from 1 to 12) and returns its corresponding month name as a string. For example, if you're given 3 as input, your function should return \"March\", because March is the 3rd month.\n",
    "#Number\n",
    "#Month Name\n",
    "#1\n",
    "#January\n",
    "#2\n",
    "#February\n",
    "#3\n",
    "#March\n",
    "#4\n",
    "#April\n",
    "#5\n",
    "#May\n",
    "#6\n",
    "#June\n",
    "#7\n",
    "#July\n",
    "#8\n",
    "#August\n",
    "#9\n",
    "#September\n",
    "#10\n",
    "#October\n",
    "#11\n",
    "#November\n",
    "#12\n",
    "#December\n",
    "\n",
    "#Examples\n",
    "#month_name(3) ➞ \"March\"\n",
    "\n",
    "#month_name(12) ➞ \"December\"\n",
    "\n",
    "#month_name(6) ➞ \"June\"\n",
    "\n",
    "def get_month_name(month_number):\n",
    "    months = [\n",
    "        \"January\", \"February\", \"March\", \"April\",\n",
    "        \"May\", \"June\", \"July\", \"August\",\n",
    "        \"September\", \"October\", \"November\", \"December\"\n",
    "    ]\n",
    "\n",
    "    if month_number < 1 or month_number > 12:\n",
    "        return \"Invalid month number\"\n",
    "    else:\n",
    "        return months[month_number - 1]\n",
    "\n",
    "\n",
    "\n"
   ]
  },
  {
   "cell_type": "code",
   "execution_count": 46,
   "id": "0273ade4",
   "metadata": {},
   "outputs": [
    {
     "data": {
      "text/plain": [
       "'March'"
      ]
     },
     "execution_count": 46,
     "metadata": {},
     "output_type": "execute_result"
    }
   ],
   "source": [
    "get_month_name(3)"
   ]
  },
  {
   "cell_type": "code",
   "execution_count": 47,
   "id": "f19cac40",
   "metadata": {},
   "outputs": [],
   "source": [
    "#15 Create a function that takes in a two-dimensional list and returns the number of sub-lists with only identical elements.\n",
    "\n",
    "def count_identical_sublists(lst):\n",
    "    count = 0\n",
    "\n",
    "    for sub_list in lst:\n",
    "        if len(set(sub_list)) == 1:\n",
    "            count += 1\n",
    "\n",
    "    return count\n"
   ]
  },
  {
   "cell_type": "code",
   "execution_count": 57,
   "id": "84043d4b",
   "metadata": {},
   "outputs": [
    {
     "name": "stdout",
     "output_type": "stream",
     "text": [
      "4\n"
     ]
    }
   ],
   "source": [
    "my_list = [[1,1,1],[2,2,2],[3,3,3],[4,4,4],[5,5,6],[1,2,3,4,5]]\n",
    "result = count_identical_sublists(my_list)\n",
    "print(result) "
   ]
  },
  {
   "cell_type": "code",
   "execution_count": 49,
   "id": "52f78e60",
   "metadata": {},
   "outputs": [],
   "source": [
    "#16.16 A bartender is writing a simple program to determine whether he should serve drinks to someone. He only serves drinks to people 18 and older and when he's not on break.\n",
    "#Given the person's age, and whether break time is in session, create a function which returns whether he should serve drinks.\n",
    "#Examples\n",
    "#should_serve_drinks(17, True) ➞ False\n",
    "\n",
    "#should_serve_drinks(19, False) ➞ True\n",
    "\n",
    "#should_serve_drinks(30, True) ➞ False\n",
    "\n",
    "def bartender(age,break_time=\"yes\"or\"no\"):\n",
    "    if age>=18 and break_time==\"yes\":\n",
    "        return \"serve\"\n",
    "    else:\n",
    "        return \"no_serving\"\n"
   ]
  },
  {
   "cell_type": "code",
   "execution_count": 50,
   "id": "255b9fbe",
   "metadata": {},
   "outputs": [
    {
     "data": {
      "text/plain": [
       "'serve'"
      ]
     },
     "execution_count": 50,
     "metadata": {},
     "output_type": "execute_result"
    }
   ],
   "source": [
    "bartender(20,\"yes\")"
   ]
  },
  {
   "cell_type": "code",
   "execution_count": 52,
   "id": "afd637f5",
   "metadata": {},
   "outputs": [
    {
     "name": "stdout",
     "output_type": "stream",
     "text": [
      "type 1 or 0 :0\n",
      "type 1 or 0 :1\n",
      "AND gate output : 1\n",
      "OR agte output : 1\n",
      "NOT gate output : 1\n"
     ]
    }
   ],
   "source": [
    "#17 You will need to write three unfinished logic gates. Continue to write the three logic gates: AND, OR, and NOT.\n",
    "#Examples\n",
    "#AND(1, 1) ➞ 1\n",
    "#AND(0, 0) ➞ 0\n",
    "\n",
    "#OR(1, 0) ➞ 1\n",
    "#OR(1, 1) ➞ 1\n",
    "\n",
    "#NOT(0) ➞ 1\n",
    "#NOT(1) ➞ 0\n",
    "def AND_gate(a,b):\n",
    "    return a and b\n",
    "def OR_gate(a,b):\n",
    "    return a and b\n",
    "def NOT_gate (a,b):\n",
    "    return a and b\n",
    "a=input(\"type 1 or 0 :\")\n",
    "b=input(\"type 1 or 0 :\")\n",
    "\n",
    "output_AND=AND_gate(a,b)\n",
    "print(\"AND gate output :\",output_AND)\n",
    "\n",
    "output_OR=OR_gate(a,b)\n",
    "print(\"OR agte output :\",output_OR)\n",
    "\n",
    "output_NOT=NOT_gate(a,b)\n",
    "print(\"NOT gate output :\",output_NOT)\n",
    "    "
   ]
  },
  {
   "cell_type": "code",
   "execution_count": 46,
   "id": "5c14fea1",
   "metadata": {},
   "outputs": [],
   "source": [
    "#18 Write a function that accepts base (decimal), height (decimal) and shape (\"triangle\", \"parallelogram\") as input and calculates the area of that shape.\n",
    "#Examples\n",
    "#area_shape(2, 3, \"triangle\") ➞ 3\n",
    "\n",
    "#area_shape(8, 6, \"parallelogram\") ➞ 48\n",
    "\n",
    "#area_shape(2.9, 1.3, \"parallelogram\") ➞ 3.77\n",
    "\n",
    "def shapes(base,height,shape=\"triangle\"or\"parallelogram\"):\n",
    "    if shape==\"triangle\":\n",
    "        area_of_triangle=0.5*base*height\n",
    "        return area_of_triangle\n",
    "    else:\n",
    "        area_of_parallelogram=base*height\n",
    "        return area_of_parallelogram\n",
    "   "
   ]
  },
  {
   "cell_type": "code",
   "execution_count": 48,
   "id": "93e393d1",
   "metadata": {},
   "outputs": [
    {
     "data": {
      "text/plain": [
       "6"
      ]
     },
     "execution_count": 48,
     "metadata": {},
     "output_type": "execute_result"
    }
   ],
   "source": [
    "shapes(3,2,\"parallelogram\")\n"
   ]
  },
  {
   "cell_type": "code",
   "execution_count": 53,
   "id": "f7089340",
   "metadata": {},
   "outputs": [],
   "source": [
    "\n",
    "#19 Create a function that takes a string (a random name). If the last character of the name is an \"n\", return True, otherwise return False.\n",
    "#Examples\n",
    "#is_last_character_n(\"Aiden\") ➞ True\n",
    "\n",
    "#is_last_character_n(\"Piet\") ➞ False\n",
    "\n",
    "#is_last_character_n(\"Bert\") ➞ False\n",
    "\n",
    "#is_last_character_n(\"Dean\") ➞ True\n",
    "\n",
    "def string(name):\n",
    "    if name[-1]==\"n\":\n",
    "        return True\n",
    "    else:\n",
    "        return False"
   ]
  },
  {
   "cell_type": "code",
   "execution_count": 54,
   "id": "c18fd2e4",
   "metadata": {},
   "outputs": [
    {
     "data": {
      "text/plain": [
       "False"
      ]
     },
     "execution_count": 54,
     "metadata": {},
     "output_type": "execute_result"
    }
   ],
   "source": [
    "string(\"meghana\")"
   ]
  },
  {
   "cell_type": "code",
   "execution_count": 55,
   "id": "26f605f1",
   "metadata": {},
   "outputs": [
    {
     "data": {
      "text/plain": [
       "True"
      ]
     },
     "execution_count": 55,
     "metadata": {},
     "output_type": "execute_result"
    }
   ],
   "source": [
    "string(\"nithin\")"
   ]
  },
  {
   "cell_type": "code",
   "execution_count": 56,
   "id": "2de8c8f3",
   "metadata": {},
   "outputs": [],
   "source": [
    "#20 Create a function that takes in a word and determines whether or not it is plural. A plural word is one that ends in \"s\".\n",
    "#Examples\n",
    "#is_plural(\"changes\") ➞ True\n",
    "\n",
    "#is_plural(\"change\") ➞ False\n",
    "\n",
    "#is_plural(\"dudes\") ➞ True\n",
    "\n",
    "#is_plural(\"magic\") ➞ False\n",
    "\n",
    "def plural(word):\n",
    "    if word[-1]==\"s\":\n",
    "        return True\n",
    "    else:\n",
    "        return False"
   ]
  },
  {
   "cell_type": "code",
   "execution_count": 57,
   "id": "4b1d630c",
   "metadata": {},
   "outputs": [
    {
     "data": {
      "text/plain": [
       "True"
      ]
     },
     "execution_count": 57,
     "metadata": {},
     "output_type": "execute_result"
    }
   ],
   "source": [
    "plural(\"megs\")"
   ]
  },
  {
   "cell_type": "code",
   "execution_count": 58,
   "id": "bc437ce8",
   "metadata": {},
   "outputs": [
    {
     "data": {
      "text/plain": [
       "False"
      ]
     },
     "execution_count": 58,
     "metadata": {},
     "output_type": "execute_result"
    }
   ],
   "source": [
    "plural(\"pen\")"
   ]
  },
  {
   "cell_type": "code",
   "execution_count": 1,
   "id": "5e767f48",
   "metadata": {},
   "outputs": [],
   "source": [
    "#21 Create a function that takes a number as an argument and returns \"even\" for even numbers and \"odd\" for odd numbers.\n",
    "#Examples\n",
    "#isEvenOrOdd(3) ➞ \"odd\"\n",
    "\n",
    "#isEvenOrOdd(146) ➞ \"even\"\n",
    "\n",
    "#isEvenOrOdd(19) ➞ \"odd\"\n",
    "\n",
    "def isevenorodd(number):\n",
    "    if number %2 ==0:\n",
    "        return \"even\" \n",
    "    else:\n",
    "        return \"odd\"\n"
   ]
  },
  {
   "cell_type": "code",
   "execution_count": 2,
   "id": "259bd78a",
   "metadata": {},
   "outputs": [
    {
     "name": "stdout",
     "output_type": "stream",
     "text": [
      "even\n"
     ]
    }
   ],
   "source": [
    "print(isevenorodd(2))"
   ]
  },
  {
   "cell_type": "code",
   "execution_count": 3,
   "id": "6aae5113",
   "metadata": {},
   "outputs": [
    {
     "name": "stdout",
     "output_type": "stream",
     "text": [
      "odd\n"
     ]
    }
   ],
   "source": [
    "print(isevenorodd(7))"
   ]
  }
 ],
 "metadata": {
  "kernelspec": {
   "display_name": "Python 3 (ipykernel)",
   "language": "python",
   "name": "python3"
  },
  "language_info": {
   "codemirror_mode": {
    "name": "ipython",
    "version": 3
   },
   "file_extension": ".py",
   "mimetype": "text/x-python",
   "name": "python",
   "nbconvert_exporter": "python",
   "pygments_lexer": "ipython3",
   "version": "3.10.9"
  }
 },
 "nbformat": 4,
 "nbformat_minor": 5
}
